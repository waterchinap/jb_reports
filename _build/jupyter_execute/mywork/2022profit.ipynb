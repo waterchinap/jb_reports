{
 "cells": [
  {
   "cell_type": "code",
   "execution_count": 1,
   "metadata": {},
   "outputs": [],
   "source": [
    "import pandas as pd\n",
    "import numpy as np\n",
    "import altair as alt\n",
    "from IPython.display import HTML"
   ]
  },
  {
   "attachments": {},
   "cell_type": "markdown",
   "metadata": {},
   "source": [
    "# 上市公司利润分析\n",
    "\n",
    "## 数据准备\n",
    "- 从交易所取下的上市公司列表，不包括B股。\n",
    "- 从东方财富取下的行业分类数据。\n",
    "- 从东方财富取下的业绩快报数据。"
   ]
  },
  {
   "cell_type": "code",
   "execution_count": 2,
   "metadata": {},
   "outputs": [],
   "source": [
    "def showProfile(df) :\n",
    "    col_profile = pd.concat([df.dtypes, df.isna().sum()/len(df)*100, df.sample().T], axis=1 ).reset_index()\n",
    "    col_profile.columns = ['列名', '类型', '缺失比%','样例']\n",
    "    print(df.shape)\n",
    "    return (col_profile)"
   ]
  },
  {
   "cell_type": "code",
   "execution_count": 3,
   "metadata": {},
   "outputs": [
    {
     "ename": "FileNotFoundError",
     "evalue": "[Errno 2] No such file or directory: '../../mydata/yjbg_y2022_profit.pkl.gz'",
     "output_type": "error",
     "traceback": [
      "\u001b[0;31m---------------------------------------------------------------------------\u001b[0m",
      "\u001b[0;31mFileNotFoundError\u001b[0m                         Traceback (most recent call last)",
      "Cell \u001b[0;32mIn[3], line 2\u001b[0m\n\u001b[1;32m      1\u001b[0m \u001b[38;5;66;03m# load data\u001b[39;00m\n\u001b[0;32m----> 2\u001b[0m df \u001b[38;5;241m=\u001b[39m \u001b[43mpd\u001b[49m\u001b[38;5;241;43m.\u001b[39;49m\u001b[43mread_pickle\u001b[49m\u001b[43m(\u001b[49m\u001b[38;5;124;43m'\u001b[39;49m\u001b[38;5;124;43m../../mydata/yjbg_y2022_profit.pkl.gz\u001b[39;49m\u001b[38;5;124;43m'\u001b[39;49m\u001b[43m)\u001b[49m\n\u001b[1;32m      3\u001b[0m code \u001b[38;5;241m=\u001b[39m pd\u001b[38;5;241m.\u001b[39mread_pickle(\u001b[38;5;124m'\u001b[39m\u001b[38;5;124m../../mydata/ashare_basic.pkl.gz\u001b[39m\u001b[38;5;124m'\u001b[39m)\n",
      "File \u001b[0;32m~/jb_reports/.venv/lib/python3.12/site-packages/pandas/io/pickle.py:185\u001b[0m, in \u001b[0;36mread_pickle\u001b[0;34m(filepath_or_buffer, compression, storage_options)\u001b[0m\n\u001b[1;32m    123\u001b[0m \u001b[38;5;250m\u001b[39m\u001b[38;5;124;03m\"\"\"\u001b[39;00m\n\u001b[1;32m    124\u001b[0m \u001b[38;5;124;03mLoad pickled pandas object (or any object) from file.\u001b[39;00m\n\u001b[1;32m    125\u001b[0m \n\u001b[0;32m   (...)\u001b[0m\n\u001b[1;32m    182\u001b[0m \u001b[38;5;124;03m4    4    9\u001b[39;00m\n\u001b[1;32m    183\u001b[0m \u001b[38;5;124;03m\"\"\"\u001b[39;00m\n\u001b[1;32m    184\u001b[0m excs_to_catch \u001b[38;5;241m=\u001b[39m (\u001b[38;5;167;01mAttributeError\u001b[39;00m, \u001b[38;5;167;01mImportError\u001b[39;00m, \u001b[38;5;167;01mModuleNotFoundError\u001b[39;00m, \u001b[38;5;167;01mTypeError\u001b[39;00m)\n\u001b[0;32m--> 185\u001b[0m \u001b[38;5;28;01mwith\u001b[39;00m \u001b[43mget_handle\u001b[49m\u001b[43m(\u001b[49m\n\u001b[1;32m    186\u001b[0m \u001b[43m    \u001b[49m\u001b[43mfilepath_or_buffer\u001b[49m\u001b[43m,\u001b[49m\n\u001b[1;32m    187\u001b[0m \u001b[43m    \u001b[49m\u001b[38;5;124;43m\"\u001b[39;49m\u001b[38;5;124;43mrb\u001b[39;49m\u001b[38;5;124;43m\"\u001b[39;49m\u001b[43m,\u001b[49m\n\u001b[1;32m    188\u001b[0m \u001b[43m    \u001b[49m\u001b[43mcompression\u001b[49m\u001b[38;5;241;43m=\u001b[39;49m\u001b[43mcompression\u001b[49m\u001b[43m,\u001b[49m\n\u001b[1;32m    189\u001b[0m \u001b[43m    \u001b[49m\u001b[43mis_text\u001b[49m\u001b[38;5;241;43m=\u001b[39;49m\u001b[38;5;28;43;01mFalse\u001b[39;49;00m\u001b[43m,\u001b[49m\n\u001b[1;32m    190\u001b[0m \u001b[43m    \u001b[49m\u001b[43mstorage_options\u001b[49m\u001b[38;5;241;43m=\u001b[39;49m\u001b[43mstorage_options\u001b[49m\u001b[43m,\u001b[49m\n\u001b[1;32m    191\u001b[0m \u001b[43m\u001b[49m\u001b[43m)\u001b[49m \u001b[38;5;28;01mas\u001b[39;00m handles:\n\u001b[1;32m    192\u001b[0m     \u001b[38;5;66;03m# 1) try standard library Pickle\u001b[39;00m\n\u001b[1;32m    193\u001b[0m     \u001b[38;5;66;03m# 2) try pickle_compat (older pandas version) to handle subclass changes\u001b[39;00m\n\u001b[1;32m    194\u001b[0m     \u001b[38;5;66;03m# 3) try pickle_compat with latin-1 encoding upon a UnicodeDecodeError\u001b[39;00m\n\u001b[1;32m    196\u001b[0m     \u001b[38;5;28;01mtry\u001b[39;00m:\n\u001b[1;32m    197\u001b[0m         \u001b[38;5;66;03m# TypeError for Cython complaints about object.__new__ vs Tick.__new__\u001b[39;00m\n\u001b[1;32m    198\u001b[0m         \u001b[38;5;28;01mtry\u001b[39;00m:\n",
      "File \u001b[0;32m~/jb_reports/.venv/lib/python3.12/site-packages/pandas/io/common.py:765\u001b[0m, in \u001b[0;36mget_handle\u001b[0;34m(path_or_buf, mode, encoding, compression, memory_map, is_text, errors, storage_options)\u001b[0m\n\u001b[1;32m    761\u001b[0m \u001b[38;5;28;01mif\u001b[39;00m compression \u001b[38;5;241m==\u001b[39m \u001b[38;5;124m\"\u001b[39m\u001b[38;5;124mgzip\u001b[39m\u001b[38;5;124m\"\u001b[39m:\n\u001b[1;32m    762\u001b[0m     \u001b[38;5;28;01mif\u001b[39;00m \u001b[38;5;28misinstance\u001b[39m(handle, \u001b[38;5;28mstr\u001b[39m):\n\u001b[1;32m    763\u001b[0m         \u001b[38;5;66;03m# error: Incompatible types in assignment (expression has type\u001b[39;00m\n\u001b[1;32m    764\u001b[0m         \u001b[38;5;66;03m# \"GzipFile\", variable has type \"Union[str, BaseBuffer]\")\u001b[39;00m\n\u001b[0;32m--> 765\u001b[0m         handle \u001b[38;5;241m=\u001b[39m \u001b[43mgzip\u001b[49m\u001b[38;5;241;43m.\u001b[39;49m\u001b[43mGzipFile\u001b[49m\u001b[43m(\u001b[49m\u001b[43m  \u001b[49m\u001b[38;5;66;43;03m# type: ignore[assignment]\u001b[39;49;00m\n\u001b[1;32m    766\u001b[0m \u001b[43m            \u001b[49m\u001b[43mfilename\u001b[49m\u001b[38;5;241;43m=\u001b[39;49m\u001b[43mhandle\u001b[49m\u001b[43m,\u001b[49m\n\u001b[1;32m    767\u001b[0m \u001b[43m            \u001b[49m\u001b[43mmode\u001b[49m\u001b[38;5;241;43m=\u001b[39;49m\u001b[43mioargs\u001b[49m\u001b[38;5;241;43m.\u001b[39;49m\u001b[43mmode\u001b[49m\u001b[43m,\u001b[49m\n\u001b[1;32m    768\u001b[0m \u001b[43m            \u001b[49m\u001b[38;5;241;43m*\u001b[39;49m\u001b[38;5;241;43m*\u001b[39;49m\u001b[43mcompression_args\u001b[49m\u001b[43m,\u001b[49m\n\u001b[1;32m    769\u001b[0m \u001b[43m        \u001b[49m\u001b[43m)\u001b[49m\n\u001b[1;32m    770\u001b[0m     \u001b[38;5;28;01melse\u001b[39;00m:\n\u001b[1;32m    771\u001b[0m         handle \u001b[38;5;241m=\u001b[39m gzip\u001b[38;5;241m.\u001b[39mGzipFile(\n\u001b[1;32m    772\u001b[0m             \u001b[38;5;66;03m# No overload variant of \"GzipFile\" matches argument types\u001b[39;00m\n\u001b[1;32m    773\u001b[0m             \u001b[38;5;66;03m# \"Union[str, BaseBuffer]\", \"str\", \"Dict[str, Any]\"\u001b[39;00m\n\u001b[0;32m   (...)\u001b[0m\n\u001b[1;32m    776\u001b[0m             \u001b[38;5;241m*\u001b[39m\u001b[38;5;241m*\u001b[39mcompression_args,\n\u001b[1;32m    777\u001b[0m         )\n",
      "File \u001b[0;32m/usr/lib/python3.12/gzip.py:192\u001b[0m, in \u001b[0;36mGzipFile.__init__\u001b[0;34m(self, filename, mode, compresslevel, fileobj, mtime)\u001b[0m\n\u001b[1;32m    190\u001b[0m     mode \u001b[38;5;241m+\u001b[39m\u001b[38;5;241m=\u001b[39m \u001b[38;5;124m'\u001b[39m\u001b[38;5;124mb\u001b[39m\u001b[38;5;124m'\u001b[39m\n\u001b[1;32m    191\u001b[0m \u001b[38;5;28;01mif\u001b[39;00m fileobj \u001b[38;5;129;01mis\u001b[39;00m \u001b[38;5;28;01mNone\u001b[39;00m:\n\u001b[0;32m--> 192\u001b[0m     fileobj \u001b[38;5;241m=\u001b[39m \u001b[38;5;28mself\u001b[39m\u001b[38;5;241m.\u001b[39mmyfileobj \u001b[38;5;241m=\u001b[39m \u001b[43mbuiltins\u001b[49m\u001b[38;5;241;43m.\u001b[39;49m\u001b[43mopen\u001b[49m\u001b[43m(\u001b[49m\u001b[43mfilename\u001b[49m\u001b[43m,\u001b[49m\u001b[43m \u001b[49m\u001b[43mmode\u001b[49m\u001b[43m \u001b[49m\u001b[38;5;129;43;01mor\u001b[39;49;00m\u001b[43m \u001b[49m\u001b[38;5;124;43m'\u001b[39;49m\u001b[38;5;124;43mrb\u001b[39;49m\u001b[38;5;124;43m'\u001b[39;49m\u001b[43m)\u001b[49m\n\u001b[1;32m    193\u001b[0m \u001b[38;5;28;01mif\u001b[39;00m filename \u001b[38;5;129;01mis\u001b[39;00m \u001b[38;5;28;01mNone\u001b[39;00m:\n\u001b[1;32m    194\u001b[0m     filename \u001b[38;5;241m=\u001b[39m \u001b[38;5;28mgetattr\u001b[39m(fileobj, \u001b[38;5;124m'\u001b[39m\u001b[38;5;124mname\u001b[39m\u001b[38;5;124m'\u001b[39m, \u001b[38;5;124m'\u001b[39m\u001b[38;5;124m'\u001b[39m)\n",
      "\u001b[0;31mFileNotFoundError\u001b[0m: [Errno 2] No such file or directory: '../../mydata/yjbg_y2022_profit.pkl.gz'"
     ]
    }
   ],
   "source": [
    "# load data\n",
    "df = pd.read_pickle('../../mydata/yjbg_y2022_profit.pkl.gz')\n",
    "code = pd.read_pickle('../../mydata/ashare_basic.pkl.gz')"
   ]
  },
  {
   "cell_type": "code",
   "execution_count": 23,
   "metadata": {},
   "outputs": [
    {
     "name": "stdout",
     "output_type": "stream",
     "text": [
      "(56460, 4)\n"
     ]
    },
    {
     "data": {
      "text/html": [
       "<div>\n",
       "<style scoped>\n",
       "    .dataframe tbody tr th:only-of-type {\n",
       "        vertical-align: middle;\n",
       "    }\n",
       "\n",
       "    .dataframe tbody tr th {\n",
       "        vertical-align: top;\n",
       "    }\n",
       "\n",
       "    .dataframe thead th {\n",
       "        text-align: right;\n",
       "    }\n",
       "</style>\n",
       "<table border=\"1\" class=\"dataframe\">\n",
       "  <thead>\n",
       "    <tr style=\"text-align: right;\">\n",
       "      <th></th>\n",
       "      <th>列名</th>\n",
       "      <th>类型</th>\n",
       "      <th>缺失比%</th>\n",
       "      <th>样例</th>\n",
       "    </tr>\n",
       "  </thead>\n",
       "  <tbody>\n",
       "    <tr>\n",
       "      <th>0</th>\n",
       "      <td>code</td>\n",
       "      <td>object</td>\n",
       "      <td>0.000000</td>\n",
       "      <td>300197</td>\n",
       "    </tr>\n",
       "    <tr>\n",
       "      <th>1</th>\n",
       "      <td>qs</td>\n",
       "      <td>object</td>\n",
       "      <td>0.000000</td>\n",
       "      <td>20121231</td>\n",
       "    </tr>\n",
       "    <tr>\n",
       "      <th>2</th>\n",
       "      <td>profit</td>\n",
       "      <td>float64</td>\n",
       "      <td>0.019483</td>\n",
       "      <td>215906680.37</td>\n",
       "    </tr>\n",
       "    <tr>\n",
       "      <th>3</th>\n",
       "      <td>year</td>\n",
       "      <td>int32</td>\n",
       "      <td>0.000000</td>\n",
       "      <td>2012</td>\n",
       "    </tr>\n",
       "  </tbody>\n",
       "</table>\n",
       "</div>"
      ],
      "text/plain": [
       "       列名       类型      缺失比%            样例\n",
       "0    code   object  0.000000        300197\n",
       "1      qs   object  0.000000      20121231\n",
       "2  profit  float64  0.019483  215906680.37\n",
       "3    year    int32  0.000000          2012"
      ]
     },
     "execution_count": 23,
     "metadata": {},
     "output_type": "execute_result"
    }
   ],
   "source": [
    "showProfile(df)"
   ]
  },
  {
   "cell_type": "code",
   "execution_count": 8,
   "metadata": {},
   "outputs": [
    {
     "data": {
      "text/html": [
       "<div>\n",
       "<style scoped>\n",
       "    .dataframe tbody tr th:only-of-type {\n",
       "        vertical-align: middle;\n",
       "    }\n",
       "\n",
       "    .dataframe tbody tr th {\n",
       "        vertical-align: top;\n",
       "    }\n",
       "\n",
       "    .dataframe thead th {\n",
       "        text-align: right;\n",
       "    }\n",
       "</style>\n",
       "<table border=\"1\" class=\"dataframe\">\n",
       "  <thead>\n",
       "    <tr style=\"text-align: right;\">\n",
       "      <th></th>\n",
       "      <th>列名</th>\n",
       "      <th>类型</th>\n",
       "      <th>缺失比%</th>\n",
       "      <th>样例</th>\n",
       "    </tr>\n",
       "  </thead>\n",
       "  <tbody>\n",
       "    <tr>\n",
       "      <th>0</th>\n",
       "      <td>code</td>\n",
       "      <td>object</td>\n",
       "      <td>0.0</td>\n",
       "      <td>600764</td>\n",
       "    </tr>\n",
       "    <tr>\n",
       "      <th>1</th>\n",
       "      <td>name</td>\n",
       "      <td>object</td>\n",
       "      <td>0.0</td>\n",
       "      <td>中国海防</td>\n",
       "    </tr>\n",
       "    <tr>\n",
       "      <th>2</th>\n",
       "      <td>list_day</td>\n",
       "      <td>object</td>\n",
       "      <td>0.0</td>\n",
       "      <td>1996-11-04</td>\n",
       "    </tr>\n",
       "    <tr>\n",
       "      <th>3</th>\n",
       "      <td>market</td>\n",
       "      <td>object</td>\n",
       "      <td>0.0</td>\n",
       "      <td>主板A股</td>\n",
       "    </tr>\n",
       "    <tr>\n",
       "      <th>4</th>\n",
       "      <td>ex</td>\n",
       "      <td>object</td>\n",
       "      <td>0.0</td>\n",
       "      <td>上交所</td>\n",
       "    </tr>\n",
       "    <tr>\n",
       "      <th>5</th>\n",
       "      <td>ly</td>\n",
       "      <td>int32</td>\n",
       "      <td>0.0</td>\n",
       "      <td>1996</td>\n",
       "    </tr>\n",
       "    <tr>\n",
       "      <th>6</th>\n",
       "      <td>indu</td>\n",
       "      <td>object</td>\n",
       "      <td>0.0</td>\n",
       "      <td>计算机设备</td>\n",
       "    </tr>\n",
       "  </tbody>\n",
       "</table>\n",
       "</div>"
      ],
      "text/plain": [
       "         列名      类型  缺失比%          样例\n",
       "0      code  object   0.0      600764\n",
       "1      name  object   0.0        中国海防\n",
       "2  list_day  object   0.0  1996-11-04\n",
       "3    market  object   0.0        主板A股\n",
       "4        ex  object   0.0         上交所\n",
       "5        ly   int32   0.0        1996\n",
       "6      indu  object   0.0       计算机设备"
      ]
     },
     "execution_count": 8,
     "metadata": {},
     "output_type": "execute_result"
    }
   ],
   "source": [
    "showProfile(code)"
   ]
  },
  {
   "attachments": {},
   "cell_type": "markdown",
   "metadata": {},
   "source": [
    "- 由于公司上市会按要求披露上市前的财务数据，比如2022年上市，但业绩报告披露可能会出现前3年，甚至更久远的数据。东方财富的业绩报告显然是把这部分数据放进去了。\n",
    "- 关于是否要把公司上市之前的数据去除？\n",
    "  - 从年度总体可比性来说，应该去除，否则历史数据每年都会不一样。比如：2022年看2021年的数据和2023年看2021年的数据会有较大不同。所以在验证上市公司总体利润变化，是新增上市引起的还是已经上市公司利润增长引起的，就应该把以前的数据去除，不然每年的结论可能不一样。\n",
    "  - 但是从分析单个公司的角度来看，不去除更合理一点。"
   ]
  },
  {
   "cell_type": "code",
   "execution_count": 59,
   "metadata": {},
   "outputs": [],
   "source": [
    "# 删除上市前数据\n",
    "def del_pre(df):\n",
    "    code.loc[:,'ly'] = code['ly'].apply(lambda x: x if x>2010 else 2010)\n",
    "    df['year'] = df['qs'].str[0:4].astype('int32')\n",
    "    df = df.merge(code[['code', 'ly', 'name']])\n",
    "    sel = df[df['year'] >= df['ly']]\n",
    "    return sel\n",
    "\n",
    "# 保留上市前数据\n",
    "def keep_pre(df):\n",
    "    code.loc[:,'ly'] = code['ly'].apply(lambda x: x if x>2010 else 2010)\n",
    "    df['year'] = df['qs'].str[0:4].astype('int32')\n",
    "    df = df.merge(code[['code', 'ly', 'name']])\n",
    "    # sel = df[df['year'] >= df['ly']]\n",
    "    return df"
   ]
  },
  {
   "cell_type": "code",
   "execution_count": 60,
   "metadata": {},
   "outputs": [
    {
     "name": "stdout",
     "output_type": "stream",
     "text": [
      "(41283, 6)\n"
     ]
    },
    {
     "data": {
      "text/html": [
       "<div>\n",
       "<style scoped>\n",
       "    .dataframe tbody tr th:only-of-type {\n",
       "        vertical-align: middle;\n",
       "    }\n",
       "\n",
       "    .dataframe tbody tr th {\n",
       "        vertical-align: top;\n",
       "    }\n",
       "\n",
       "    .dataframe thead th {\n",
       "        text-align: right;\n",
       "    }\n",
       "</style>\n",
       "<table border=\"1\" class=\"dataframe\">\n",
       "  <thead>\n",
       "    <tr style=\"text-align: right;\">\n",
       "      <th></th>\n",
       "      <th>列名</th>\n",
       "      <th>类型</th>\n",
       "      <th>缺失比%</th>\n",
       "      <th>样例</th>\n",
       "    </tr>\n",
       "  </thead>\n",
       "  <tbody>\n",
       "    <tr>\n",
       "      <th>0</th>\n",
       "      <td>code</td>\n",
       "      <td>object</td>\n",
       "      <td>0.0</td>\n",
       "      <td>600853</td>\n",
       "    </tr>\n",
       "    <tr>\n",
       "      <th>1</th>\n",
       "      <td>qs</td>\n",
       "      <td>object</td>\n",
       "      <td>0.0</td>\n",
       "      <td>20141231</td>\n",
       "    </tr>\n",
       "    <tr>\n",
       "      <th>2</th>\n",
       "      <td>profit</td>\n",
       "      <td>float64</td>\n",
       "      <td>0.0</td>\n",
       "      <td>18013318.12</td>\n",
       "    </tr>\n",
       "    <tr>\n",
       "      <th>3</th>\n",
       "      <td>year</td>\n",
       "      <td>int32</td>\n",
       "      <td>0.0</td>\n",
       "      <td>2014</td>\n",
       "    </tr>\n",
       "    <tr>\n",
       "      <th>4</th>\n",
       "      <td>ly</td>\n",
       "      <td>int64</td>\n",
       "      <td>0.0</td>\n",
       "      <td>2010</td>\n",
       "    </tr>\n",
       "    <tr>\n",
       "      <th>5</th>\n",
       "      <td>name</td>\n",
       "      <td>object</td>\n",
       "      <td>0.0</td>\n",
       "      <td>龙建股份</td>\n",
       "    </tr>\n",
       "  </tbody>\n",
       "</table>\n",
       "</div>"
      ],
      "text/plain": [
       "       列名       类型  缺失比%           样例\n",
       "0    code   object   0.0       600853\n",
       "1      qs   object   0.0     20141231\n",
       "2  profit  float64   0.0  18013318.12\n",
       "3    year    int32   0.0         2014\n",
       "4      ly    int64   0.0         2010\n",
       "5    name   object   0.0         龙建股份"
      ]
     },
     "execution_count": 60,
     "metadata": {},
     "output_type": "execute_result"
    }
   ],
   "source": [
    "sel = del_pre(df)\n",
    "showProfile(sel)"
   ]
  },
  {
   "cell_type": "code",
   "execution_count": 77,
   "metadata": {},
   "outputs": [
    {
     "name": "stdout",
     "output_type": "stream",
     "text": [
      "(56460, 6)\n"
     ]
    },
    {
     "data": {
      "text/html": [
       "<div>\n",
       "<style scoped>\n",
       "    .dataframe tbody tr th:only-of-type {\n",
       "        vertical-align: middle;\n",
       "    }\n",
       "\n",
       "    .dataframe tbody tr th {\n",
       "        vertical-align: top;\n",
       "    }\n",
       "\n",
       "    .dataframe thead th {\n",
       "        text-align: right;\n",
       "    }\n",
       "</style>\n",
       "<table border=\"1\" class=\"dataframe\">\n",
       "  <thead>\n",
       "    <tr style=\"text-align: right;\">\n",
       "      <th></th>\n",
       "      <th>列名</th>\n",
       "      <th>类型</th>\n",
       "      <th>缺失比%</th>\n",
       "      <th>样例</th>\n",
       "    </tr>\n",
       "  </thead>\n",
       "  <tbody>\n",
       "    <tr>\n",
       "      <th>0</th>\n",
       "      <td>code</td>\n",
       "      <td>object</td>\n",
       "      <td>0.000000</td>\n",
       "      <td>300049</td>\n",
       "    </tr>\n",
       "    <tr>\n",
       "      <th>1</th>\n",
       "      <td>qs</td>\n",
       "      <td>object</td>\n",
       "      <td>0.000000</td>\n",
       "      <td>20211231</td>\n",
       "    </tr>\n",
       "    <tr>\n",
       "      <th>2</th>\n",
       "      <td>profit</td>\n",
       "      <td>float64</td>\n",
       "      <td>0.019483</td>\n",
       "      <td>95468878.12</td>\n",
       "    </tr>\n",
       "    <tr>\n",
       "      <th>3</th>\n",
       "      <td>year</td>\n",
       "      <td>int32</td>\n",
       "      <td>0.000000</td>\n",
       "      <td>2021</td>\n",
       "    </tr>\n",
       "    <tr>\n",
       "      <th>4</th>\n",
       "      <td>ly</td>\n",
       "      <td>int64</td>\n",
       "      <td>0.000000</td>\n",
       "      <td>2010</td>\n",
       "    </tr>\n",
       "    <tr>\n",
       "      <th>5</th>\n",
       "      <td>name</td>\n",
       "      <td>object</td>\n",
       "      <td>0.000000</td>\n",
       "      <td>福瑞股份</td>\n",
       "    </tr>\n",
       "  </tbody>\n",
       "</table>\n",
       "</div>"
      ],
      "text/plain": [
       "       列名       类型      缺失比%           样例\n",
       "0    code   object  0.000000       300049\n",
       "1      qs   object  0.000000     20211231\n",
       "2  profit  float64  0.019483  95468878.12\n",
       "3    year    int32  0.000000         2021\n",
       "4      ly    int64  0.000000         2010\n",
       "5    name   object  0.000000         福瑞股份"
      ]
     },
     "execution_count": 77,
     "metadata": {},
     "output_type": "execute_result"
    }
   ],
   "source": [
    "sel = keep_pre(df)\n",
    "showProfile(sel)"
   ]
  },
  {
   "cell_type": "code",
   "execution_count": 78,
   "metadata": {},
   "outputs": [
    {
     "data": {
      "text/plain": [
       "0.3676331661943173"
      ]
     },
     "execution_count": 78,
     "metadata": {},
     "output_type": "execute_result"
    }
   ],
   "source": [
    "# 多了37%的数据。\n",
    "(56460-41283)/41283"
   ]
  },
  {
   "cell_type": "code",
   "execution_count": 62,
   "metadata": {
    "tags": [
     "remove-cell"
    ]
   },
   "outputs": [],
   "source": [
    "# pivot the sum of each year\n",
    "sel_table = sel.pivot_table(index='ly', columns='year', values='profit', aggfunc='sum')\n",
    "\n",
    "# 分别计算出总利润，总利润增长，新上市引起的利润增长，以及已上市公司的利润增长。\n",
    "\n",
    "# 总利润\n",
    "total_sum= sel_table.sum()\n",
    "# 总利润增长\n",
    "total_inc = total_sum.diff()\n",
    "total_inc.values[0] = 0\n",
    "# 新上市引起的利润增长\n",
    "li = []\n",
    "for i in range(0, len(sel_table)):\n",
    "    li.append(sel_table.iat[i,i])\n",
    "new_inc = pd.Series(li, index=total_inc.index)\n",
    "new_inc.values[0] = 0\n",
    "# 已上市公司的利润增长\n",
    "old_inc = total_inc - new_inc\n",
    "old_inc.values[0] = 0\n",
    "# 上一年基数\n",
    "base = total_sum - new_inc - old_inc\n",
    "base.values[0] = total_sum.values[0]\n",
    "\n",
    "inc_df = pd.DataFrame([base, old_inc, new_inc]).T\n",
    "inc_df.columns = ['base', '增长驱动', '新发驱动']"
   ]
  },
  {
   "cell_type": "code",
   "execution_count": 63,
   "metadata": {
    "tags": [
     "remove-cell"
    ]
   },
   "outputs": [],
   "source": [
    "# 利润的一些统计值\n",
    "profit_quant = sel.groupby('year')['profit'].agg(['mean', 'median', 'idxmin', 'idxmax', 'count']).reset_index()\n"
   ]
  },
  {
   "attachments": {},
   "cell_type": "markdown",
   "metadata": {},
   "source": [
    "## 上市公司利润总和的变化\n",
    "- 包括所有披露数据"
   ]
  },
  {
   "cell_type": "code",
   "execution_count": 64,
   "metadata": {
    "tags": [
     "remove-input"
    ]
   },
   "outputs": [
    {
     "data": {
      "text/html": [
       "\n",
       "<style>\n",
       "  #altair-viz-fcfce51a66b34691bc30ac8f67b82a8f.vega-embed {\n",
       "    width: 100%;\n",
       "    display: flex;\n",
       "  }\n",
       "\n",
       "  #altair-viz-fcfce51a66b34691bc30ac8f67b82a8f.vega-embed details,\n",
       "  #altair-viz-fcfce51a66b34691bc30ac8f67b82a8f.vega-embed details summary {\n",
       "    position: relative;\n",
       "  }\n",
       "</style>\n",
       "<div id=\"altair-viz-fcfce51a66b34691bc30ac8f67b82a8f\"></div>\n",
       "<script type=\"text/javascript\">\n",
       "  var VEGA_DEBUG = (typeof VEGA_DEBUG == \"undefined\") ? {} : VEGA_DEBUG;\n",
       "  (function(spec, embedOpt){\n",
       "    let outputDiv = document.currentScript.previousElementSibling;\n",
       "    if (outputDiv.id !== \"altair-viz-fcfce51a66b34691bc30ac8f67b82a8f\") {\n",
       "      outputDiv = document.getElementById(\"altair-viz-fcfce51a66b34691bc30ac8f67b82a8f\");\n",
       "    }\n",
       "    const paths = {\n",
       "      \"vega\": \"https://cdn.jsdelivr.net/npm/vega@5?noext\",\n",
       "      \"vega-lib\": \"https://cdn.jsdelivr.net/npm/vega-lib?noext\",\n",
       "      \"vega-lite\": \"https://cdn.jsdelivr.net/npm/vega-lite@5.8.0?noext\",\n",
       "      \"vega-embed\": \"https://cdn.jsdelivr.net/npm/vega-embed@6?noext\",\n",
       "    };\n",
       "\n",
       "    function maybeLoadScript(lib, version) {\n",
       "      var key = `${lib.replace(\"-\", \"\")}_version`;\n",
       "      return (VEGA_DEBUG[key] == version) ?\n",
       "        Promise.resolve(paths[lib]) :\n",
       "        new Promise(function(resolve, reject) {\n",
       "          var s = document.createElement('script');\n",
       "          document.getElementsByTagName(\"head\")[0].appendChild(s);\n",
       "          s.async = true;\n",
       "          s.onload = () => {\n",
       "            VEGA_DEBUG[key] = version;\n",
       "            return resolve(paths[lib]);\n",
       "          };\n",
       "          s.onerror = () => reject(`Error loading script: ${paths[lib]}`);\n",
       "          s.src = paths[lib];\n",
       "        });\n",
       "    }\n",
       "\n",
       "    function showError(err) {\n",
       "      outputDiv.innerHTML = `<div class=\"error\" style=\"color:red;\">${err}</div>`;\n",
       "      throw err;\n",
       "    }\n",
       "\n",
       "    function displayChart(vegaEmbed) {\n",
       "      vegaEmbed(outputDiv, spec, embedOpt)\n",
       "        .catch(err => showError(`Javascript Error: ${err.message}<br>This usually means there's a typo in your chart specification. See the javascript console for the full traceback.`));\n",
       "    }\n",
       "\n",
       "    if(typeof define === \"function\" && define.amd) {\n",
       "      requirejs.config({paths});\n",
       "      require([\"vega-embed\"], displayChart, err => showError(`Error loading script: ${err.message}`));\n",
       "    } else {\n",
       "      maybeLoadScript(\"vega\", \"5\")\n",
       "        .then(() => maybeLoadScript(\"vega-lite\", \"5.8.0\"))\n",
       "        .then(() => maybeLoadScript(\"vega-embed\", \"6\"))\n",
       "        .catch(showError)\n",
       "        .then(() => displayChart(vegaEmbed));\n",
       "    }\n",
       "  })({\"config\": {\"view\": {\"continuousWidth\": 300, \"continuousHeight\": 300}}, \"data\": {\"name\": \"data-8f079eb34d47446aac72645ed9861d93\"}, \"mark\": {\"type\": \"bar\"}, \"encoding\": {\"x\": {\"axis\": {\"format\": \".2s\"}, \"field\": \"profit\", \"type\": \"quantitative\"}, \"y\": {\"field\": \"year\", \"type\": \"ordinal\"}}, \"height\": 340, \"title\": \"\\u603b\\u5229\\u6da6\\u53d8\\u5316\", \"width\": \"container\", \"$schema\": \"https://vega.github.io/schema/vega-lite/v5.8.0.json\", \"datasets\": {\"data-8f079eb34d47446aac72645ed9861d93\": [{\"year\": 2010, \"profit\": 1845427989404.7}, {\"year\": 2011, \"profit\": 2253045804231.3936}, {\"year\": 2012, \"profit\": 2170686123561.3997}, {\"year\": 2013, \"profit\": 2508562027999.031}, {\"year\": 2014, \"profit\": 2759373482565.75}, {\"year\": 2015, \"profit\": 2884374399278.5693}, {\"year\": 2016, \"profit\": 3074586003415.21}, {\"year\": 2017, \"profit\": 3710739481196.8394}, {\"year\": 2018, \"profit\": 3937215260934.3506}, {\"year\": 2019, \"profit\": 4230200812142.19}, {\"year\": 2020, \"profit\": 4317787470704.66}, {\"year\": 2021, \"profit\": 5141388454933.619}, {\"year\": 2022, \"profit\": 5186771166747.7}]}}, {\"mode\": \"vega-lite\"});\n",
       "</script>"
      ],
      "text/plain": [
       "alt.Chart(...)"
      ]
     },
     "execution_count": 64,
     "metadata": {},
     "output_type": "execute_result"
    }
   ],
   "source": [
    "df_total = total_sum.to_frame('profit').reset_index()\n",
    "alt.Chart(df_total).mark_bar().encode(\n",
    "    alt.X('profit:Q').axis(format='.2s'),\n",
    "    alt.Y('year:O')\n",
    ").properties(\n",
    "    title = '总利润变化',\n",
    "    width = 'container',\n",
    "    height = 340\n",
    ")"
   ]
  },
  {
   "cell_type": "code",
   "execution_count": 65,
   "metadata": {
    "tags": [
     "remove-input"
    ]
   },
   "outputs": [
    {
     "data": {
      "text/html": [
       "\n",
       "      \n",
       "  <style>\n",
       "      .card_group {\n",
       "        display: flex;\n",
       "        flex-wrap: wrap;\n",
       "        justify-content: center;\n",
       "        text-align: center;\n",
       "      }\n",
       "\n",
       "      .card {\n",
       "        display: flex;\n",
       "        flex-direction: column;\n",
       "        justify-content: center;\n",
       "        align-items: center;\n",
       "        background: #fff;\n",
       "        border-radius: 10px;\n",
       "        display: inline-block;\n",
       "        height: 260px;\n",
       "        margin: 1rem;\n",
       "        width: 260px;\n",
       "        box-shadow: 0 3px 6px rgba(0, 0, 0, 0.12), 0 3px 6px rgba(0, 0, 0, 0.24);\n",
       "      }\n",
       "\n",
       "      .card_title {\n",
       "        border-bottom: 5px;\n",
       "        border-bottom-style: dotted;\n",
       "        border-bottom-color: grey;\n",
       "        margin: 5px;\n",
       "        padding: 5px;\n",
       "        font-size: 2em;\n",
       "      }\n",
       "      .card_content {\n",
       "        font-size: 4em;\n",
       "        margin: 5px;\n",
       "        align-self: center;\n",
       "        height: 200px;\n",
       "\n",
       "        display: flex;\n",
       "        align-items: center;\n",
       "        justify-content: center;\n",
       "        justify-items: center;\n",
       "      }\n",
       "    </style>\n",
       "\n",
       "      <div class ='card_group'>\n",
       "      <div class = 'card'>\n",
       "      <div class = 'card_title'>总体年增长率</div>\n",
       "      <div class = 'card_content'>8.99%</div>\n",
       "      </div>\n",
       "      </div>\n"
      ],
      "text/plain": [
       "<IPython.core.display.HTML object>"
      ]
     },
     "execution_count": 65,
     "metadata": {},
     "output_type": "execute_result"
    }
   ],
   "source": [
    "# card the average increace persent\n",
    "a= pow((total_sum.values[-1]/total_sum.values[0]) , (1/12))-1\n",
    "avi = f'{a:.2%}'\n",
    "sty = '''\n",
    "  <style>\n",
    "      .card_group {\n",
    "        display: flex;\n",
    "        flex-wrap: wrap;\n",
    "        justify-content: center;\n",
    "        text-align: center;\n",
    "      }\n",
    "\n",
    "      .card {\n",
    "        display: flex;\n",
    "        flex-direction: column;\n",
    "        justify-content: center;\n",
    "        align-items: center;\n",
    "        background: #fff;\n",
    "        border-radius: 10px;\n",
    "        display: inline-block;\n",
    "        height: 260px;\n",
    "        margin: 1rem;\n",
    "        width: 260px;\n",
    "        box-shadow: 0 3px 6px rgba(0, 0, 0, 0.12), 0 3px 6px rgba(0, 0, 0, 0.24);\n",
    "      }\n",
    "\n",
    "      .card_title {\n",
    "        border-bottom: 5px;\n",
    "        border-bottom-style: dotted;\n",
    "        border-bottom-color: grey;\n",
    "        margin: 5px;\n",
    "        padding: 5px;\n",
    "        font-size: 2em;\n",
    "      }\n",
    "      .card_content {\n",
    "        font-size: 4em;\n",
    "        margin: 5px;\n",
    "        align-self: center;\n",
    "        height: 200px;\n",
    "\n",
    "        display: flex;\n",
    "        align-items: center;\n",
    "        justify-content: center;\n",
    "        justify-items: center;\n",
    "      }\n",
    "    </style>\n",
    "'''\n",
    "\n",
    "card = f'''\n",
    "      {sty}\n",
    "      <div class ='card_group'>\n",
    "      <div class = 'card'>\n",
    "      <div class = 'card_title'>总体年增长率</div>\n",
    "      <div class = 'card_content'>{avi}</div>\n",
    "      </div>\n",
    "      </div>\n",
    "'''\n",
    "HTML(card)"
   ]
  },
  {
   "attachments": {},
   "cell_type": "markdown",
   "metadata": {},
   "source": [
    "- 上市公司总体利润保持增长,特别是疫情爆发后第2年,即2021年,出现了爆涨.\n",
    "- 近12年的增长率为9%，和不保留上市前数据比，低了一个点。原因是2010年的数据增加了？这是奇怪点之一。\n",
    "\n",
    "以下观察利润的主要统计指标:"
   ]
  },
  {
   "cell_type": "code",
   "execution_count": 79,
   "metadata": {
    "tags": [
     "remove-input"
    ]
   },
   "outputs": [
    {
     "data": {
      "text/html": [
       "\n",
       "<style>\n",
       "  #altair-viz-3ebb890b09134f9a91a2bf4cc6b7a7d6.vega-embed {\n",
       "    width: 100%;\n",
       "    display: flex;\n",
       "  }\n",
       "\n",
       "  #altair-viz-3ebb890b09134f9a91a2bf4cc6b7a7d6.vega-embed details,\n",
       "  #altair-viz-3ebb890b09134f9a91a2bf4cc6b7a7d6.vega-embed details summary {\n",
       "    position: relative;\n",
       "  }\n",
       "</style>\n",
       "<div id=\"altair-viz-3ebb890b09134f9a91a2bf4cc6b7a7d6\"></div>\n",
       "<script type=\"text/javascript\">\n",
       "  var VEGA_DEBUG = (typeof VEGA_DEBUG == \"undefined\") ? {} : VEGA_DEBUG;\n",
       "  (function(spec, embedOpt){\n",
       "    let outputDiv = document.currentScript.previousElementSibling;\n",
       "    if (outputDiv.id !== \"altair-viz-3ebb890b09134f9a91a2bf4cc6b7a7d6\") {\n",
       "      outputDiv = document.getElementById(\"altair-viz-3ebb890b09134f9a91a2bf4cc6b7a7d6\");\n",
       "    }\n",
       "    const paths = {\n",
       "      \"vega\": \"https://cdn.jsdelivr.net/npm/vega@5?noext\",\n",
       "      \"vega-lib\": \"https://cdn.jsdelivr.net/npm/vega-lib?noext\",\n",
       "      \"vega-lite\": \"https://cdn.jsdelivr.net/npm/vega-lite@5.8.0?noext\",\n",
       "      \"vega-embed\": \"https://cdn.jsdelivr.net/npm/vega-embed@6?noext\",\n",
       "    };\n",
       "\n",
       "    function maybeLoadScript(lib, version) {\n",
       "      var key = `${lib.replace(\"-\", \"\")}_version`;\n",
       "      return (VEGA_DEBUG[key] == version) ?\n",
       "        Promise.resolve(paths[lib]) :\n",
       "        new Promise(function(resolve, reject) {\n",
       "          var s = document.createElement('script');\n",
       "          document.getElementsByTagName(\"head\")[0].appendChild(s);\n",
       "          s.async = true;\n",
       "          s.onload = () => {\n",
       "            VEGA_DEBUG[key] = version;\n",
       "            return resolve(paths[lib]);\n",
       "          };\n",
       "          s.onerror = () => reject(`Error loading script: ${paths[lib]}`);\n",
       "          s.src = paths[lib];\n",
       "        });\n",
       "    }\n",
       "\n",
       "    function showError(err) {\n",
       "      outputDiv.innerHTML = `<div class=\"error\" style=\"color:red;\">${err}</div>`;\n",
       "      throw err;\n",
       "    }\n",
       "\n",
       "    function displayChart(vegaEmbed) {\n",
       "      vegaEmbed(outputDiv, spec, embedOpt)\n",
       "        .catch(err => showError(`Javascript Error: ${err.message}<br>This usually means there's a typo in your chart specification. See the javascript console for the full traceback.`));\n",
       "    }\n",
       "\n",
       "    if(typeof define === \"function\" && define.amd) {\n",
       "      requirejs.config({paths});\n",
       "      require([\"vega-embed\"], displayChart, err => showError(`Error loading script: ${err.message}`));\n",
       "    } else {\n",
       "      maybeLoadScript(\"vega\", \"5\")\n",
       "        .then(() => maybeLoadScript(\"vega-lite\", \"5.8.0\"))\n",
       "        .then(() => maybeLoadScript(\"vega-embed\", \"6\"))\n",
       "        .catch(showError)\n",
       "        .then(() => displayChart(vegaEmbed));\n",
       "    }\n",
       "  })({\"config\": {\"view\": {\"continuousWidth\": 300, \"continuousHeight\": 300}}, \"data\": {\"name\": \"data-93f31909e11aca97ef4b61f3ca222164\"}, \"mark\": {\"type\": \"bar\"}, \"encoding\": {\"x\": {\"axis\": {\"format\": \".2s\"}, \"field\": \"mean\", \"type\": \"quantitative\"}, \"y\": {\"field\": \"year\", \"type\": \"ordinal\"}}, \"height\": 340, \"title\": \"\\u4e0a\\u5e02\\u516c\\u53f8\\u5229\\u6da6\\u5e73\\u5747\\u503c\\u53d8\\u5316\", \"width\": \"container\", \"$schema\": \"https://vega.github.io/schema/vega-lite/v5.8.0.json\", \"datasets\": {\"data-93f31909e11aca97ef4b61f3ca222164\": [{\"year\": 2010, \"mean\": 703556229.2812428, \"median\": 83080980.65, \"idxmin\": 5377, \"idxmax\": 3297, \"count\": 2623}, {\"year\": 2011, \"mean\": 711413263.0980085, \"median\": 76689666.32, \"idxmin\": 3181, \"idxmax\": 3298, \"count\": 3167}, {\"year\": 2012, \"mean\": 616147068.850809, \"median\": 65375902.9, \"idxmin\": 3182, \"idxmax\": 3299, \"count\": 3523}, {\"year\": 2013, \"mean\": 632676425.7248499, \"median\": 60660291.84, \"idxmin\": 23109, \"idxmax\": 3300, \"count\": 3965}, {\"year\": 2014, \"mean\": 657463302.9701573, \"median\": 62675976.22, \"idxmin\": 19068, \"idxmax\": 3301, \"count\": 4197}, {\"year\": 2015, \"mean\": 675814057.9378092, \"median\": 67174988.675, \"idxmin\": 27258, \"idxmax\": 3302, \"count\": 4268}, {\"year\": 2016, \"mean\": 676774378.9159608, \"median\": 84090715.43, \"idxmin\": 3524, \"idxmax\": 3303, \"count\": 4543}, {\"year\": 2017, \"mean\": 761646034.7284154, \"median\": 91910551.07, \"idxmin\": 3525, \"idxmax\": 3304, \"count\": 4872}, {\"year\": 2018, \"mean\": 778567384.0091655, \"median\": 91811779.99, \"idxmin\": 18084, \"idxmax\": 3305, \"count\": 5057}, {\"year\": 2019, \"mean\": 836008065.640749, \"median\": 99882269.495, \"idxmin\": 22920, \"idxmax\": 3306, \"count\": 5060}, {\"year\": 2020, \"mean\": 853317681.9574428, \"median\": 111236988.13499999, \"idxmin\": 21972, \"idxmax\": 3307, \"count\": 5060}, {\"year\": 2021, \"mean\": 1016084674.8880672, \"median\": 121975567.66499999, \"idxmin\": 2414, \"idxmax\": 3308, \"count\": 5060}, {\"year\": 2022, \"mean\": 1026270511.8218639, \"median\": 106183271.13499999, \"idxmin\": 3387, \"idxmax\": 3309, \"count\": 5054}]}}, {\"mode\": \"vega-lite\"});\n",
       "</script>"
      ],
      "text/plain": [
       "alt.Chart(...)"
      ]
     },
     "execution_count": 79,
     "metadata": {},
     "output_type": "execute_result"
    }
   ],
   "source": [
    "alt.Chart(profit_quant).mark_bar().encode(\n",
    "    alt.X('mean:Q').axis(format='.2s'),\n",
    "    alt.Y('year:O')\n",
    ").properties(\n",
    "    title = '上市公司利润平均值变化',\n",
    "    width = 'container',\n",
    "    height = 340\n",
    ")"
   ]
  },
  {
   "cell_type": "code",
   "execution_count": 67,
   "metadata": {
    "tags": [
     "remove-input"
    ]
   },
   "outputs": [
    {
     "data": {
      "text/html": [
       "\n",
       "<style>\n",
       "  #altair-viz-d418b5e0879948eca793703520dbec36.vega-embed {\n",
       "    width: 100%;\n",
       "    display: flex;\n",
       "  }\n",
       "\n",
       "  #altair-viz-d418b5e0879948eca793703520dbec36.vega-embed details,\n",
       "  #altair-viz-d418b5e0879948eca793703520dbec36.vega-embed details summary {\n",
       "    position: relative;\n",
       "  }\n",
       "</style>\n",
       "<div id=\"altair-viz-d418b5e0879948eca793703520dbec36\"></div>\n",
       "<script type=\"text/javascript\">\n",
       "  var VEGA_DEBUG = (typeof VEGA_DEBUG == \"undefined\") ? {} : VEGA_DEBUG;\n",
       "  (function(spec, embedOpt){\n",
       "    let outputDiv = document.currentScript.previousElementSibling;\n",
       "    if (outputDiv.id !== \"altair-viz-d418b5e0879948eca793703520dbec36\") {\n",
       "      outputDiv = document.getElementById(\"altair-viz-d418b5e0879948eca793703520dbec36\");\n",
       "    }\n",
       "    const paths = {\n",
       "      \"vega\": \"https://cdn.jsdelivr.net/npm/vega@5?noext\",\n",
       "      \"vega-lib\": \"https://cdn.jsdelivr.net/npm/vega-lib?noext\",\n",
       "      \"vega-lite\": \"https://cdn.jsdelivr.net/npm/vega-lite@5.8.0?noext\",\n",
       "      \"vega-embed\": \"https://cdn.jsdelivr.net/npm/vega-embed@6?noext\",\n",
       "    };\n",
       "\n",
       "    function maybeLoadScript(lib, version) {\n",
       "      var key = `${lib.replace(\"-\", \"\")}_version`;\n",
       "      return (VEGA_DEBUG[key] == version) ?\n",
       "        Promise.resolve(paths[lib]) :\n",
       "        new Promise(function(resolve, reject) {\n",
       "          var s = document.createElement('script');\n",
       "          document.getElementsByTagName(\"head\")[0].appendChild(s);\n",
       "          s.async = true;\n",
       "          s.onload = () => {\n",
       "            VEGA_DEBUG[key] = version;\n",
       "            return resolve(paths[lib]);\n",
       "          };\n",
       "          s.onerror = () => reject(`Error loading script: ${paths[lib]}`);\n",
       "          s.src = paths[lib];\n",
       "        });\n",
       "    }\n",
       "\n",
       "    function showError(err) {\n",
       "      outputDiv.innerHTML = `<div class=\"error\" style=\"color:red;\">${err}</div>`;\n",
       "      throw err;\n",
       "    }\n",
       "\n",
       "    function displayChart(vegaEmbed) {\n",
       "      vegaEmbed(outputDiv, spec, embedOpt)\n",
       "        .catch(err => showError(`Javascript Error: ${err.message}<br>This usually means there's a typo in your chart specification. See the javascript console for the full traceback.`));\n",
       "    }\n",
       "\n",
       "    if(typeof define === \"function\" && define.amd) {\n",
       "      requirejs.config({paths});\n",
       "      require([\"vega-embed\"], displayChart, err => showError(`Error loading script: ${err.message}`));\n",
       "    } else {\n",
       "      maybeLoadScript(\"vega\", \"5\")\n",
       "        .then(() => maybeLoadScript(\"vega-lite\", \"5.8.0\"))\n",
       "        .then(() => maybeLoadScript(\"vega-embed\", \"6\"))\n",
       "        .catch(showError)\n",
       "        .then(() => displayChart(vegaEmbed));\n",
       "    }\n",
       "  })({\"config\": {\"view\": {\"continuousWidth\": 300, \"continuousHeight\": 300}}, \"data\": {\"name\": \"data-93f31909e11aca97ef4b61f3ca222164\"}, \"mark\": {\"type\": \"bar\"}, \"encoding\": {\"x\": {\"axis\": {\"format\": \".2s\"}, \"field\": \"median\", \"type\": \"quantitative\"}, \"y\": {\"field\": \"year\", \"type\": \"ordinal\"}}, \"height\": 340, \"title\": \"\\u4e0a\\u5e02\\u516c\\u53f8\\u5229\\u6da6\\u4e2d\\u4f4d\\u6570\\u53d8\\u5316\", \"width\": \"container\", \"$schema\": \"https://vega.github.io/schema/vega-lite/v5.8.0.json\", \"datasets\": {\"data-93f31909e11aca97ef4b61f3ca222164\": [{\"year\": 2010, \"mean\": 703556229.2812428, \"median\": 83080980.65, \"idxmin\": 5377, \"idxmax\": 3297, \"count\": 2623}, {\"year\": 2011, \"mean\": 711413263.0980085, \"median\": 76689666.32, \"idxmin\": 3181, \"idxmax\": 3298, \"count\": 3167}, {\"year\": 2012, \"mean\": 616147068.850809, \"median\": 65375902.9, \"idxmin\": 3182, \"idxmax\": 3299, \"count\": 3523}, {\"year\": 2013, \"mean\": 632676425.7248499, \"median\": 60660291.84, \"idxmin\": 23109, \"idxmax\": 3300, \"count\": 3965}, {\"year\": 2014, \"mean\": 657463302.9701573, \"median\": 62675976.22, \"idxmin\": 19068, \"idxmax\": 3301, \"count\": 4197}, {\"year\": 2015, \"mean\": 675814057.9378092, \"median\": 67174988.675, \"idxmin\": 27258, \"idxmax\": 3302, \"count\": 4268}, {\"year\": 2016, \"mean\": 676774378.9159608, \"median\": 84090715.43, \"idxmin\": 3524, \"idxmax\": 3303, \"count\": 4543}, {\"year\": 2017, \"mean\": 761646034.7284154, \"median\": 91910551.07, \"idxmin\": 3525, \"idxmax\": 3304, \"count\": 4872}, {\"year\": 2018, \"mean\": 778567384.0091655, \"median\": 91811779.99, \"idxmin\": 18084, \"idxmax\": 3305, \"count\": 5057}, {\"year\": 2019, \"mean\": 836008065.640749, \"median\": 99882269.495, \"idxmin\": 22920, \"idxmax\": 3306, \"count\": 5060}, {\"year\": 2020, \"mean\": 853317681.9574428, \"median\": 111236988.13499999, \"idxmin\": 21972, \"idxmax\": 3307, \"count\": 5060}, {\"year\": 2021, \"mean\": 1016084674.8880672, \"median\": 121975567.66499999, \"idxmin\": 2414, \"idxmax\": 3308, \"count\": 5060}, {\"year\": 2022, \"mean\": 1026270511.8218639, \"median\": 106183271.13499999, \"idxmin\": 3387, \"idxmax\": 3309, \"count\": 5054}]}}, {\"mode\": \"vega-lite\"});\n",
       "</script>"
      ],
      "text/plain": [
       "alt.Chart(...)"
      ]
     },
     "execution_count": 67,
     "metadata": {},
     "output_type": "execute_result"
    }
   ],
   "source": [
    "alt.Chart(profit_quant).mark_bar().encode(\n",
    "    alt.X('median:Q').axis(format='.2s'),\n",
    "    alt.Y('year:O')\n",
    ").properties(\n",
    "    title = '上市公司利润中位数变化',\n",
    "    width = 'container',\n",
    "    height = 340\n",
    ")"
   ]
  },
  {
   "attachments": {},
   "cell_type": "markdown",
   "metadata": {},
   "source": [
    "- 上市公司的平均利润总体略有增长，但2022年有较大下降，大约为10亿左右。\n",
    "- 上市公司利润中位数在2022年急剧下降，略高于1亿。\n",
    "- 平均值和中位数差一个数量级，说明上市公司利润的分布是左偏的。"
   ]
  },
  {
   "cell_type": "code",
   "execution_count": 68,
   "metadata": {
    "tags": [
     "remove-input"
    ]
   },
   "outputs": [
    {
     "data": {
      "text/html": [
       "\n",
       "<style>\n",
       "  #altair-viz-4ca0a5bab41a4ee68ebf30806f4cfe2d.vega-embed {\n",
       "    width: 100%;\n",
       "    display: flex;\n",
       "  }\n",
       "\n",
       "  #altair-viz-4ca0a5bab41a4ee68ebf30806f4cfe2d.vega-embed details,\n",
       "  #altair-viz-4ca0a5bab41a4ee68ebf30806f4cfe2d.vega-embed details summary {\n",
       "    position: relative;\n",
       "  }\n",
       "</style>\n",
       "<div id=\"altair-viz-4ca0a5bab41a4ee68ebf30806f4cfe2d\"></div>\n",
       "<script type=\"text/javascript\">\n",
       "  var VEGA_DEBUG = (typeof VEGA_DEBUG == \"undefined\") ? {} : VEGA_DEBUG;\n",
       "  (function(spec, embedOpt){\n",
       "    let outputDiv = document.currentScript.previousElementSibling;\n",
       "    if (outputDiv.id !== \"altair-viz-4ca0a5bab41a4ee68ebf30806f4cfe2d\") {\n",
       "      outputDiv = document.getElementById(\"altair-viz-4ca0a5bab41a4ee68ebf30806f4cfe2d\");\n",
       "    }\n",
       "    const paths = {\n",
       "      \"vega\": \"https://cdn.jsdelivr.net/npm/vega@5?noext\",\n",
       "      \"vega-lib\": \"https://cdn.jsdelivr.net/npm/vega-lib?noext\",\n",
       "      \"vega-lite\": \"https://cdn.jsdelivr.net/npm/vega-lite@5.8.0?noext\",\n",
       "      \"vega-embed\": \"https://cdn.jsdelivr.net/npm/vega-embed@6?noext\",\n",
       "    };\n",
       "\n",
       "    function maybeLoadScript(lib, version) {\n",
       "      var key = `${lib.replace(\"-\", \"\")}_version`;\n",
       "      return (VEGA_DEBUG[key] == version) ?\n",
       "        Promise.resolve(paths[lib]) :\n",
       "        new Promise(function(resolve, reject) {\n",
       "          var s = document.createElement('script');\n",
       "          document.getElementsByTagName(\"head\")[0].appendChild(s);\n",
       "          s.async = true;\n",
       "          s.onload = () => {\n",
       "            VEGA_DEBUG[key] = version;\n",
       "            return resolve(paths[lib]);\n",
       "          };\n",
       "          s.onerror = () => reject(`Error loading script: ${paths[lib]}`);\n",
       "          s.src = paths[lib];\n",
       "        });\n",
       "    }\n",
       "\n",
       "    function showError(err) {\n",
       "      outputDiv.innerHTML = `<div class=\"error\" style=\"color:red;\">${err}</div>`;\n",
       "      throw err;\n",
       "    }\n",
       "\n",
       "    function displayChart(vegaEmbed) {\n",
       "      vegaEmbed(outputDiv, spec, embedOpt)\n",
       "        .catch(err => showError(`Javascript Error: ${err.message}<br>This usually means there's a typo in your chart specification. See the javascript console for the full traceback.`));\n",
       "    }\n",
       "\n",
       "    if(typeof define === \"function\" && define.amd) {\n",
       "      requirejs.config({paths});\n",
       "      require([\"vega-embed\"], displayChart, err => showError(`Error loading script: ${err.message}`));\n",
       "    } else {\n",
       "      maybeLoadScript(\"vega\", \"5\")\n",
       "        .then(() => maybeLoadScript(\"vega-lite\", \"5.8.0\"))\n",
       "        .then(() => maybeLoadScript(\"vega-embed\", \"6\"))\n",
       "        .catch(showError)\n",
       "        .then(() => displayChart(vegaEmbed));\n",
       "    }\n",
       "  })({\"config\": {\"view\": {\"continuousWidth\": 300, \"continuousHeight\": 300}}, \"layer\": [{\"mark\": {\"type\": \"bar\", \"color\": \"brown\"}, \"encoding\": {\"text\": {\"field\": \"name\", \"type\": \"nominal\"}, \"x\": {\"axis\": {\"format\": \".2s\"}, \"field\": \"profit\", \"type\": \"quantitative\"}, \"y\": {\"field\": \"year\", \"type\": \"ordinal\"}}, \"title\": \"\\u5386\\u5e74\\u4e8f\\u635f\\u738b\"}, {\"mark\": {\"type\": \"text\", \"align\": \"left\", \"color\": \"white\"}, \"encoding\": {\"text\": {\"field\": \"name\", \"type\": \"nominal\"}, \"x\": {\"axis\": {\"format\": \".2s\"}, \"field\": \"profit\", \"type\": \"quantitative\"}, \"y\": {\"field\": \"year\", \"type\": \"ordinal\"}}, \"title\": \"\\u5386\\u5e74\\u4e8f\\u635f\\u738b\"}], \"data\": {\"name\": \"data-51a623b66328342d6efac3c87537a324\"}, \"height\": 340, \"width\": \"container\", \"$schema\": \"https://vega.github.io/schema/vega-lite/v5.8.0.json\", \"datasets\": {\"data-51a623b66328342d6efac3c87537a324\": [{\"year\": 2010, \"code\": \"000932\", \"name\": \"\\u534e\\u83f1\\u94a2\\u94c1\", \"profit\": -2643626083.51}, {\"year\": 2011, \"code\": \"601919\", \"name\": \"\\u4e2d\\u8fdc\\u6d77\\u63a7\", \"profit\": -10448856161.2}, {\"year\": 2012, \"code\": \"601919\", \"name\": \"\\u4e2d\\u8fdc\\u6d77\\u63a7\", \"profit\": -9559139238.95}, {\"year\": 2013, \"code\": \"601975\", \"name\": \"\\u62db\\u5546\\u5357\\u6cb9\", \"profit\": -5921581446.19}, {\"year\": 2014, \"code\": \"601600\", \"name\": \"\\u4e2d\\u56fd\\u94dd\\u4e1a\", \"profit\": -16208170000.0}, {\"year\": 2015, \"code\": \"600307\", \"name\": \"\\u9152\\u94a2\\u5b8f\\u5174\", \"profit\": -7363873554.6}, {\"year\": 2016, \"code\": \"600871\", \"name\": \"\\u77f3\\u5316\\u6cb9\\u670d\", \"profit\": -16114763000.0}, {\"year\": 2017, \"code\": \"600871\", \"name\": \"\\u77f3\\u5316\\u6cb9\\u670d\", \"profit\": -10589524000.0}, {\"year\": 2018, \"code\": \"002354\", \"name\": \"\\u5929\\u5a31\\u6570\\u79d1\", \"profit\": -7150585884.37}, {\"year\": 2019, \"code\": \"000792\", \"name\": \"\\u76d0\\u6e56\\u80a1\\u4efd\", \"profit\": -45859976778.09}, {\"year\": 2020, \"code\": \"600221\", \"name\": \"\\u6d77\\u822a\\u63a7\\u80a1\", \"profit\": -64003308000.0}, {\"year\": 2021, \"code\": \"002024\", \"name\": \"ST\\u6613\\u8d2d\", \"profit\": -43264609000.0}, {\"year\": 2022, \"code\": \"601111\", \"name\": \"\\u4e2d\\u56fd\\u56fd\\u822a\", \"profit\": -38619499000.0}]}}, {\"mode\": \"vega-lite\"});\n",
       "</script>"
      ],
      "text/plain": [
       "alt.LayerChart(...)"
      ]
     },
     "execution_count": 68,
     "metadata": {},
     "output_type": "execute_result"
    }
   ],
   "source": [
    "mindf = sel.loc[profit_quant['idxmin'],['year','code', 'name', 'profit']].reset_index(drop = True)\n",
    "base = alt.Chart(mindf).encode(\n",
    "    alt.X('profit:Q').axis(format='.2s'),\n",
    "    alt.Y('year:O'),\n",
    "    text='name'\n",
    ").properties(\n",
    "    title = '历年亏损王',\n",
    "    width = 'container',\n",
    "    height = 340\n",
    ")\n",
    "base.mark_bar(color='brown') + base.mark_text(align='left', color='white')\n"
   ]
  },
  {
   "attachments": {},
   "cell_type": "markdown",
   "metadata": {},
   "source": [
    "- 上市公司亏损王呈现出不断创新高的情况。\n",
    "- 谁又能想到中海远控，曾经勇巨亏王呢？\n",
    "- 疫情来临之际，中海远控大翻身，而同为交通行业的大航空，却整整苦了三年。\n",
    "- 看到其中的一个亏损王，感觉自己也算是亲历一段历史。"
   ]
  },
  {
   "cell_type": "code",
   "execution_count": 69,
   "metadata": {},
   "outputs": [
    {
     "data": {
      "text/html": [
       "\n",
       "<style>\n",
       "  #altair-viz-29650401b7984a6894bee5db8a9f9aab.vega-embed {\n",
       "    width: 100%;\n",
       "    display: flex;\n",
       "  }\n",
       "\n",
       "  #altair-viz-29650401b7984a6894bee5db8a9f9aab.vega-embed details,\n",
       "  #altair-viz-29650401b7984a6894bee5db8a9f9aab.vega-embed details summary {\n",
       "    position: relative;\n",
       "  }\n",
       "</style>\n",
       "<div id=\"altair-viz-29650401b7984a6894bee5db8a9f9aab\"></div>\n",
       "<script type=\"text/javascript\">\n",
       "  var VEGA_DEBUG = (typeof VEGA_DEBUG == \"undefined\") ? {} : VEGA_DEBUG;\n",
       "  (function(spec, embedOpt){\n",
       "    let outputDiv = document.currentScript.previousElementSibling;\n",
       "    if (outputDiv.id !== \"altair-viz-29650401b7984a6894bee5db8a9f9aab\") {\n",
       "      outputDiv = document.getElementById(\"altair-viz-29650401b7984a6894bee5db8a9f9aab\");\n",
       "    }\n",
       "    const paths = {\n",
       "      \"vega\": \"https://cdn.jsdelivr.net/npm/vega@5?noext\",\n",
       "      \"vega-lib\": \"https://cdn.jsdelivr.net/npm/vega-lib?noext\",\n",
       "      \"vega-lite\": \"https://cdn.jsdelivr.net/npm/vega-lite@5.8.0?noext\",\n",
       "      \"vega-embed\": \"https://cdn.jsdelivr.net/npm/vega-embed@6?noext\",\n",
       "    };\n",
       "\n",
       "    function maybeLoadScript(lib, version) {\n",
       "      var key = `${lib.replace(\"-\", \"\")}_version`;\n",
       "      return (VEGA_DEBUG[key] == version) ?\n",
       "        Promise.resolve(paths[lib]) :\n",
       "        new Promise(function(resolve, reject) {\n",
       "          var s = document.createElement('script');\n",
       "          document.getElementsByTagName(\"head\")[0].appendChild(s);\n",
       "          s.async = true;\n",
       "          s.onload = () => {\n",
       "            VEGA_DEBUG[key] = version;\n",
       "            return resolve(paths[lib]);\n",
       "          };\n",
       "          s.onerror = () => reject(`Error loading script: ${paths[lib]}`);\n",
       "          s.src = paths[lib];\n",
       "        });\n",
       "    }\n",
       "\n",
       "    function showError(err) {\n",
       "      outputDiv.innerHTML = `<div class=\"error\" style=\"color:red;\">${err}</div>`;\n",
       "      throw err;\n",
       "    }\n",
       "\n",
       "    function displayChart(vegaEmbed) {\n",
       "      vegaEmbed(outputDiv, spec, embedOpt)\n",
       "        .catch(err => showError(`Javascript Error: ${err.message}<br>This usually means there's a typo in your chart specification. See the javascript console for the full traceback.`));\n",
       "    }\n",
       "\n",
       "    if(typeof define === \"function\" && define.amd) {\n",
       "      requirejs.config({paths});\n",
       "      require([\"vega-embed\"], displayChart, err => showError(`Error loading script: ${err.message}`));\n",
       "    } else {\n",
       "      maybeLoadScript(\"vega\", \"5\")\n",
       "        .then(() => maybeLoadScript(\"vega-lite\", \"5.8.0\"))\n",
       "        .then(() => maybeLoadScript(\"vega-embed\", \"6\"))\n",
       "        .catch(showError)\n",
       "        .then(() => displayChart(vegaEmbed));\n",
       "    }\n",
       "  })({\"config\": {\"view\": {\"continuousWidth\": 300, \"continuousHeight\": 300}}, \"layer\": [{\"mark\": {\"type\": \"bar\"}, \"encoding\": {\"text\": {\"field\": \"name\", \"type\": \"nominal\"}, \"x\": {\"axis\": {\"format\": \".2s\"}, \"field\": \"profit\", \"type\": \"quantitative\"}, \"y\": {\"field\": \"year\", \"type\": \"ordinal\"}}, \"title\": \"\\u5386\\u5e74\\u8d62\\u5229\\u738b\"}, {\"mark\": {\"type\": \"text\", \"align\": \"right\", \"color\": \"white\"}, \"encoding\": {\"text\": {\"field\": \"name\", \"type\": \"nominal\"}, \"x\": {\"axis\": {\"format\": \".2s\"}, \"field\": \"profit\", \"type\": \"quantitative\"}, \"y\": {\"field\": \"year\", \"type\": \"ordinal\"}}, \"title\": \"\\u5386\\u5e74\\u8d62\\u5229\\u738b\"}], \"data\": {\"name\": \"data-5cee42fe8868c3c63c1d64d187034dce\"}, \"height\": 340, \"width\": \"container\", \"$schema\": \"https://vega.github.io/schema/vega-lite/v5.8.0.json\", \"datasets\": {\"data-5cee42fe8868c3c63c1d64d187034dce\": [{\"year\": 2010, \"code\": \"601398\", \"name\": \"\\u5de5\\u5546\\u94f6\\u884c\", \"profit\": 165156000000.0}, {\"year\": 2011, \"code\": \"601398\", \"name\": \"\\u5de5\\u5546\\u94f6\\u884c\", \"profit\": 208265000000.0}, {\"year\": 2012, \"code\": \"601398\", \"name\": \"\\u5de5\\u5546\\u94f6\\u884c\", \"profit\": 238532000000.0}, {\"year\": 2013, \"code\": \"601398\", \"name\": \"\\u5de5\\u5546\\u94f6\\u884c\", \"profit\": 262649000000.0}, {\"year\": 2014, \"code\": \"601398\", \"name\": \"\\u5de5\\u5546\\u94f6\\u884c\", \"profit\": 275811000000.0}, {\"year\": 2015, \"code\": \"601398\", \"name\": \"\\u5de5\\u5546\\u94f6\\u884c\", \"profit\": 277131000000.0}, {\"year\": 2016, \"code\": \"601398\", \"name\": \"\\u5de5\\u5546\\u94f6\\u884c\", \"profit\": 278249000000.0}, {\"year\": 2017, \"code\": \"601398\", \"name\": \"\\u5de5\\u5546\\u94f6\\u884c\", \"profit\": 286049000000.0}, {\"year\": 2018, \"code\": \"601398\", \"name\": \"\\u5de5\\u5546\\u94f6\\u884c\", \"profit\": 297676000000.0}, {\"year\": 2019, \"code\": \"601398\", \"name\": \"\\u5de5\\u5546\\u94f6\\u884c\", \"profit\": 312224000000.0}, {\"year\": 2020, \"code\": \"601398\", \"name\": \"\\u5de5\\u5546\\u94f6\\u884c\", \"profit\": 315906000000.0}, {\"year\": 2021, \"code\": \"601398\", \"name\": \"\\u5de5\\u5546\\u94f6\\u884c\", \"profit\": 348338000000.0}, {\"year\": 2022, \"code\": \"601398\", \"name\": \"\\u5de5\\u5546\\u94f6\\u884c\", \"profit\": 360483000000.0}]}}, {\"mode\": \"vega-lite\"});\n",
       "</script>"
      ],
      "text/plain": [
       "alt.LayerChart(...)"
      ]
     },
     "execution_count": 69,
     "metadata": {},
     "output_type": "execute_result"
    }
   ],
   "source": [
    "maxdf = sel.loc[profit_quant['idxmax'],['year','code', 'name', 'profit']].reset_index(drop = True)\n",
    "base = alt.Chart(maxdf).encode(\n",
    "    alt.X('profit:Q').axis(format='.2s'),\n",
    "    alt.Y('year:O'),\n",
    "    text='name'\n",
    ").properties(\n",
    "    title = '历年赢利王',\n",
    "    width = 'container',\n",
    "    height = 340\n",
    ")\n",
    "base.mark_bar() + base.mark_text(align='right', color='white')"
   ]
  },
  {
   "attachments": {},
   "cell_type": "markdown",
   "metadata": {},
   "source": [
    "- 赢利王没什么惊喜，宇宙第一行，永远行，疫情完全没受到影响。可怕。"
   ]
  },
  {
   "attachments": {},
   "cell_type": "markdown",
   "metadata": {},
   "source": [
    "## 利润构成-利润变化的驱动因素\n",
    "- 上市公司上市当年的利润记为新增上市公司驱动的利润，象是给整个池子注入资本。\n",
    "- 上市公司上市后第二年的利润增长做为池子本身的利润增长驱动。\n",
    "- 上市公司的利润增长是不是IPO的因素更重要呢？\n",
    "- 由于没有删除上市前数据，所以这个分析应该没有参考性。\n",
    "- 只是用来和删除了的对比一下，这块差别较大。但似乎也没有影响基本结论。"
   ]
  },
  {
   "cell_type": "code",
   "execution_count": 70,
   "metadata": {
    "tags": [
     "remove-input"
    ]
   },
   "outputs": [
    {
     "data": {
      "text/html": [
       "\n",
       "<style>\n",
       "  #altair-viz-e006fed8470f4f2e941758e73e795b8b.vega-embed {\n",
       "    width: 100%;\n",
       "    display: flex;\n",
       "  }\n",
       "\n",
       "  #altair-viz-e006fed8470f4f2e941758e73e795b8b.vega-embed details,\n",
       "  #altair-viz-e006fed8470f4f2e941758e73e795b8b.vega-embed details summary {\n",
       "    position: relative;\n",
       "  }\n",
       "</style>\n",
       "<div id=\"altair-viz-e006fed8470f4f2e941758e73e795b8b\"></div>\n",
       "<script type=\"text/javascript\">\n",
       "  var VEGA_DEBUG = (typeof VEGA_DEBUG == \"undefined\") ? {} : VEGA_DEBUG;\n",
       "  (function(spec, embedOpt){\n",
       "    let outputDiv = document.currentScript.previousElementSibling;\n",
       "    if (outputDiv.id !== \"altair-viz-e006fed8470f4f2e941758e73e795b8b\") {\n",
       "      outputDiv = document.getElementById(\"altair-viz-e006fed8470f4f2e941758e73e795b8b\");\n",
       "    }\n",
       "    const paths = {\n",
       "      \"vega\": \"https://cdn.jsdelivr.net/npm/vega@5?noext\",\n",
       "      \"vega-lib\": \"https://cdn.jsdelivr.net/npm/vega-lib?noext\",\n",
       "      \"vega-lite\": \"https://cdn.jsdelivr.net/npm/vega-lite@5.8.0?noext\",\n",
       "      \"vega-embed\": \"https://cdn.jsdelivr.net/npm/vega-embed@6?noext\",\n",
       "    };\n",
       "\n",
       "    function maybeLoadScript(lib, version) {\n",
       "      var key = `${lib.replace(\"-\", \"\")}_version`;\n",
       "      return (VEGA_DEBUG[key] == version) ?\n",
       "        Promise.resolve(paths[lib]) :\n",
       "        new Promise(function(resolve, reject) {\n",
       "          var s = document.createElement('script');\n",
       "          document.getElementsByTagName(\"head\")[0].appendChild(s);\n",
       "          s.async = true;\n",
       "          s.onload = () => {\n",
       "            VEGA_DEBUG[key] = version;\n",
       "            return resolve(paths[lib]);\n",
       "          };\n",
       "          s.onerror = () => reject(`Error loading script: ${paths[lib]}`);\n",
       "          s.src = paths[lib];\n",
       "        });\n",
       "    }\n",
       "\n",
       "    function showError(err) {\n",
       "      outputDiv.innerHTML = `<div class=\"error\" style=\"color:red;\">${err}</div>`;\n",
       "      throw err;\n",
       "    }\n",
       "\n",
       "    function displayChart(vegaEmbed) {\n",
       "      vegaEmbed(outputDiv, spec, embedOpt)\n",
       "        .catch(err => showError(`Javascript Error: ${err.message}<br>This usually means there's a typo in your chart specification. See the javascript console for the full traceback.`));\n",
       "    }\n",
       "\n",
       "    if(typeof define === \"function\" && define.amd) {\n",
       "      requirejs.config({paths});\n",
       "      require([\"vega-embed\"], displayChart, err => showError(`Error loading script: ${err.message}`));\n",
       "    } else {\n",
       "      maybeLoadScript(\"vega\", \"5\")\n",
       "        .then(() => maybeLoadScript(\"vega-lite\", \"5.8.0\"))\n",
       "        .then(() => maybeLoadScript(\"vega-embed\", \"6\"))\n",
       "        .catch(showError)\n",
       "        .then(() => displayChart(vegaEmbed));\n",
       "    }\n",
       "  })({\"config\": {\"view\": {\"continuousWidth\": 300, \"continuousHeight\": 300}}, \"data\": {\"name\": \"data-93f31909e11aca97ef4b61f3ca222164\"}, \"mark\": {\"type\": \"bar\"}, \"encoding\": {\"x\": {\"axis\": {\"format\": \".0f\"}, \"field\": \"count\", \"type\": \"quantitative\"}, \"y\": {\"field\": \"year\", \"type\": \"ordinal\"}}, \"height\": 340, \"title\": \"\\u4e0a\\u5e02\\u516c\\u53f8\\u62a5\\u544a\\u6570\\u91cf\\u53d8\\u5316\", \"width\": \"container\", \"$schema\": \"https://vega.github.io/schema/vega-lite/v5.8.0.json\", \"datasets\": {\"data-93f31909e11aca97ef4b61f3ca222164\": [{\"year\": 2010, \"mean\": 703556229.2812428, \"median\": 83080980.65, \"idxmin\": 5377, \"idxmax\": 3297, \"count\": 2623}, {\"year\": 2011, \"mean\": 711413263.0980085, \"median\": 76689666.32, \"idxmin\": 3181, \"idxmax\": 3298, \"count\": 3167}, {\"year\": 2012, \"mean\": 616147068.850809, \"median\": 65375902.9, \"idxmin\": 3182, \"idxmax\": 3299, \"count\": 3523}, {\"year\": 2013, \"mean\": 632676425.7248499, \"median\": 60660291.84, \"idxmin\": 23109, \"idxmax\": 3300, \"count\": 3965}, {\"year\": 2014, \"mean\": 657463302.9701573, \"median\": 62675976.22, \"idxmin\": 19068, \"idxmax\": 3301, \"count\": 4197}, {\"year\": 2015, \"mean\": 675814057.9378092, \"median\": 67174988.675, \"idxmin\": 27258, \"idxmax\": 3302, \"count\": 4268}, {\"year\": 2016, \"mean\": 676774378.9159608, \"median\": 84090715.43, \"idxmin\": 3524, \"idxmax\": 3303, \"count\": 4543}, {\"year\": 2017, \"mean\": 761646034.7284154, \"median\": 91910551.07, \"idxmin\": 3525, \"idxmax\": 3304, \"count\": 4872}, {\"year\": 2018, \"mean\": 778567384.0091655, \"median\": 91811779.99, \"idxmin\": 18084, \"idxmax\": 3305, \"count\": 5057}, {\"year\": 2019, \"mean\": 836008065.640749, \"median\": 99882269.495, \"idxmin\": 22920, \"idxmax\": 3306, \"count\": 5060}, {\"year\": 2020, \"mean\": 853317681.9574428, \"median\": 111236988.13499999, \"idxmin\": 21972, \"idxmax\": 3307, \"count\": 5060}, {\"year\": 2021, \"mean\": 1016084674.8880672, \"median\": 121975567.66499999, \"idxmin\": 2414, \"idxmax\": 3308, \"count\": 5060}, {\"year\": 2022, \"mean\": 1026270511.8218639, \"median\": 106183271.13499999, \"idxmin\": 3387, \"idxmax\": 3309, \"count\": 5054}]}}, {\"mode\": \"vega-lite\"});\n",
       "</script>"
      ],
      "text/plain": [
       "alt.Chart(...)"
      ]
     },
     "execution_count": 70,
     "metadata": {},
     "output_type": "execute_result"
    }
   ],
   "source": [
    "alt.Chart(profit_quant).mark_bar().encode(\n",
    "    alt.X('count:Q').axis(format='.0f'),\n",
    "    alt.Y('year:O')\n",
    ").properties(\n",
    "    title = '上市公司报告数量变化',\n",
    "    width = 'container',\n",
    "    height = 340\n",
    ")"
   ]
  },
  {
   "attachments": {},
   "cell_type": "markdown",
   "metadata": {},
   "source": [
    "- 这就是保留上市前数据最大的奇怪点：近几年的报告数居然几乎相同？！\n",
    "- 最近几年IPO增长很快，利润增长是不是IPO驱动的呢？"
   ]
  },
  {
   "cell_type": "code",
   "execution_count": 71,
   "metadata": {
    "tags": [
     "remove-input"
    ]
   },
   "outputs": [
    {
     "data": {
      "text/html": [
       "\n",
       "<style>\n",
       "  #altair-viz-461730df3de946dc9010e5462745972d.vega-embed {\n",
       "    width: 100%;\n",
       "    display: flex;\n",
       "  }\n",
       "\n",
       "  #altair-viz-461730df3de946dc9010e5462745972d.vega-embed details,\n",
       "  #altair-viz-461730df3de946dc9010e5462745972d.vega-embed details summary {\n",
       "    position: relative;\n",
       "  }\n",
       "</style>\n",
       "<div id=\"altair-viz-461730df3de946dc9010e5462745972d\"></div>\n",
       "<script type=\"text/javascript\">\n",
       "  var VEGA_DEBUG = (typeof VEGA_DEBUG == \"undefined\") ? {} : VEGA_DEBUG;\n",
       "  (function(spec, embedOpt){\n",
       "    let outputDiv = document.currentScript.previousElementSibling;\n",
       "    if (outputDiv.id !== \"altair-viz-461730df3de946dc9010e5462745972d\") {\n",
       "      outputDiv = document.getElementById(\"altair-viz-461730df3de946dc9010e5462745972d\");\n",
       "    }\n",
       "    const paths = {\n",
       "      \"vega\": \"https://cdn.jsdelivr.net/npm/vega@5?noext\",\n",
       "      \"vega-lib\": \"https://cdn.jsdelivr.net/npm/vega-lib?noext\",\n",
       "      \"vega-lite\": \"https://cdn.jsdelivr.net/npm/vega-lite@5.8.0?noext\",\n",
       "      \"vega-embed\": \"https://cdn.jsdelivr.net/npm/vega-embed@6?noext\",\n",
       "    };\n",
       "\n",
       "    function maybeLoadScript(lib, version) {\n",
       "      var key = `${lib.replace(\"-\", \"\")}_version`;\n",
       "      return (VEGA_DEBUG[key] == version) ?\n",
       "        Promise.resolve(paths[lib]) :\n",
       "        new Promise(function(resolve, reject) {\n",
       "          var s = document.createElement('script');\n",
       "          document.getElementsByTagName(\"head\")[0].appendChild(s);\n",
       "          s.async = true;\n",
       "          s.onload = () => {\n",
       "            VEGA_DEBUG[key] = version;\n",
       "            return resolve(paths[lib]);\n",
       "          };\n",
       "          s.onerror = () => reject(`Error loading script: ${paths[lib]}`);\n",
       "          s.src = paths[lib];\n",
       "        });\n",
       "    }\n",
       "\n",
       "    function showError(err) {\n",
       "      outputDiv.innerHTML = `<div class=\"error\" style=\"color:red;\">${err}</div>`;\n",
       "      throw err;\n",
       "    }\n",
       "\n",
       "    function displayChart(vegaEmbed) {\n",
       "      vegaEmbed(outputDiv, spec, embedOpt)\n",
       "        .catch(err => showError(`Javascript Error: ${err.message}<br>This usually means there's a typo in your chart specification. See the javascript console for the full traceback.`));\n",
       "    }\n",
       "\n",
       "    if(typeof define === \"function\" && define.amd) {\n",
       "      requirejs.config({paths});\n",
       "      require([\"vega-embed\"], displayChart, err => showError(`Error loading script: ${err.message}`));\n",
       "    } else {\n",
       "      maybeLoadScript(\"vega\", \"5\")\n",
       "        .then(() => maybeLoadScript(\"vega-lite\", \"5.8.0\"))\n",
       "        .then(() => maybeLoadScript(\"vega-embed\", \"6\"))\n",
       "        .catch(showError)\n",
       "        .then(() => displayChart(vegaEmbed));\n",
       "    }\n",
       "  })({\"config\": {\"view\": {\"continuousWidth\": 300, \"continuousHeight\": 300}}, \"data\": {\"name\": \"data-aaee7695d3b27677f97769233816cd8c\"}, \"mark\": {\"type\": \"bar\"}, \"encoding\": {\"color\": {\"field\": \"cat\", \"type\": \"nominal\"}, \"x\": {\"aggregate\": \"sum\", \"axis\": {\"format\": \".2s\"}, \"field\": \"profit\", \"type\": \"quantitative\"}, \"y\": {\"field\": \"year\", \"type\": \"ordinal\"}}, \"height\": 340, \"title\": \"\\u5229\\u6da6\\u53d8\\u5316\\u9a71\\u52a8\\u56e0\\u7d20\", \"width\": \"container\", \"$schema\": \"https://vega.github.io/schema/vega-lite/v5.8.0.json\", \"datasets\": {\"data-aaee7695d3b27677f97769233816cd8c\": [{\"year\": 2010, \"cat\": \"base\", \"profit\": 1845427989404.7}, {\"year\": 2011, \"cat\": \"base\", \"profit\": 1845427989404.7}, {\"year\": 2012, \"cat\": \"base\", \"profit\": 2253045804231.3936}, {\"year\": 2013, \"cat\": \"base\", \"profit\": 2170686123561.3994}, {\"year\": 2014, \"cat\": \"base\", \"profit\": 2508562027999.031}, {\"year\": 2015, \"cat\": \"base\", \"profit\": 2759373482565.75}, {\"year\": 2016, \"cat\": \"base\", \"profit\": 2884374399278.5693}, {\"year\": 2017, \"cat\": \"base\", \"profit\": 3074586003415.21}, {\"year\": 2018, \"cat\": \"base\", \"profit\": 3710739481196.839}, {\"year\": 2019, \"cat\": \"base\", \"profit\": 3937215260934.3506}, {\"year\": 2020, \"cat\": \"base\", \"profit\": 4230200812142.19}, {\"year\": 2021, \"cat\": \"base\", \"profit\": 4317787470704.66}, {\"year\": 2022, \"cat\": \"base\", \"profit\": 5141388454933.619}, {\"year\": 2010, \"cat\": \"\\u589e\\u957f\\u9a71\\u52a8\", \"profit\": 0.0}, {\"year\": 2011, \"cat\": \"\\u589e\\u957f\\u9a71\\u52a8\", \"profit\": 360365450850.5036}, {\"year\": 2012, \"cat\": \"\\u589e\\u957f\\u9a71\\u52a8\", \"profit\": -114349520022.8239}, {\"year\": 2013, \"cat\": \"\\u589e\\u957f\\u9a71\\u52a8\", \"profit\": 326801148973.8911}, {\"year\": 2014, \"cat\": \"\\u589e\\u957f\\u9a71\\u52a8\", \"profit\": 227300937348.89923}, {\"year\": 2015, \"cat\": \"\\u589e\\u957f\\u9a71\\u52a8\", \"profit\": 44419560858.53934}, {\"year\": 2016, \"cat\": \"\\u589e\\u957f\\u9a71\\u52a8\", \"profit\": 120980965093.70062}, {\"year\": 2017, \"cat\": \"\\u589e\\u957f\\u9a71\\u52a8\", \"profit\": 560726360421.8894}, {\"year\": 2018, \"cat\": \"\\u589e\\u957f\\u9a71\\u52a8\", \"profit\": 140019269538.27124}, {\"year\": 2019, \"cat\": \"\\u589e\\u957f\\u9a71\\u52a8\", \"profit\": 132533548833.39935}, {\"year\": 2020, \"cat\": \"\\u589e\\u957f\\u9a71\\u52a8\", \"profit\": -13618405905.92978}, {\"year\": 2021, \"cat\": \"\\u589e\\u957f\\u9a71\\u52a8\", \"profit\": 670293213363.299}, {\"year\": 2022, \"cat\": \"\\u589e\\u957f\\u9a71\\u52a8\", \"profit\": -285516869140.67896}, {\"year\": 2010, \"cat\": \"\\u65b0\\u53d1\\u9a71\\u52a8\", \"profit\": 0.0}, {\"year\": 2011, \"cat\": \"\\u65b0\\u53d1\\u9a71\\u52a8\", \"profit\": 47252363976.19}, {\"year\": 2012, \"cat\": \"\\u65b0\\u53d1\\u9a71\\u52a8\", \"profit\": 31989839352.83}, {\"year\": 2013, \"cat\": \"\\u65b0\\u53d1\\u9a71\\u52a8\", \"profit\": 11074755463.74}, {\"year\": 2014, \"cat\": \"\\u65b0\\u53d1\\u9a71\\u52a8\", \"profit\": 23510517217.82}, {\"year\": 2015, \"cat\": \"\\u65b0\\u53d1\\u9a71\\u52a8\", \"profit\": 80581355854.28}, {\"year\": 2016, \"cat\": \"\\u65b0\\u53d1\\u9a71\\u52a8\", \"profit\": 69230639042.94}, {\"year\": 2017, \"cat\": \"\\u65b0\\u53d1\\u9a71\\u52a8\", \"profit\": 75427117359.74}, {\"year\": 2018, \"cat\": \"\\u65b0\\u53d1\\u9a71\\u52a8\", \"profit\": 86456510199.24}, {\"year\": 2019, \"cat\": \"\\u65b0\\u53d1\\u9a71\\u52a8\", \"profit\": 160452002374.44}, {\"year\": 2020, \"cat\": \"\\u65b0\\u53d1\\u9a71\\u52a8\", \"profit\": 101205064468.4}, {\"year\": 2021, \"cat\": \"\\u65b0\\u53d1\\u9a71\\u52a8\", \"profit\": 153307770865.66}, {\"year\": 2022, \"cat\": \"\\u65b0\\u53d1\\u9a71\\u52a8\", \"profit\": 330899580954.76}]}}, {\"mode\": \"vega-lite\"});\n",
       "</script>"
      ],
      "text/plain": [
       "alt.Chart(...)"
      ]
     },
     "execution_count": 71,
     "metadata": {},
     "output_type": "execute_result"
    }
   ],
   "source": [
    "inc_plotdf = inc_df.reset_index().melt(id_vars='year', var_name='cat',value_name='profit')\n",
    "alt.Chart(inc_plotdf).mark_bar().encode(\n",
    "    alt.X('sum(profit)').axis(format='.2s'),\n",
    "    alt.Y('year:O'),\n",
    "    color='cat'\n",
    ").properties(\n",
    "    title = '利润变化驱动因素',\n",
    "    width = 'container',\n",
    "    height = len(df_total)*20+80\n",
    ")"
   ]
  },
  {
   "attachments": {},
   "cell_type": "markdown",
   "metadata": {},
   "source": [
    "- 可以看出，大部分时候，是已上市公司利润增长驱动的。只有少数例外。\n",
    "- 其中，2015年和最近2022年，出出了已上市公司亏损，利润增长全部由当年新发公司驱动。\n",
    "- 从大规律上看，上市公司的利润在爆发后，容易第二年就疲软。2017年和2021年就是个例子。\n",
    "- 下图上两个驱动因素的详细对比。"
   ]
  },
  {
   "cell_type": "code",
   "execution_count": 72,
   "metadata": {
    "tags": [
     "remove-input"
    ]
   },
   "outputs": [
    {
     "data": {
      "text/html": [
       "\n",
       "<style>\n",
       "  #altair-viz-15225730c09b4eb2b83bdd90640f2884.vega-embed {\n",
       "    width: 100%;\n",
       "    display: flex;\n",
       "  }\n",
       "\n",
       "  #altair-viz-15225730c09b4eb2b83bdd90640f2884.vega-embed details,\n",
       "  #altair-viz-15225730c09b4eb2b83bdd90640f2884.vega-embed details summary {\n",
       "    position: relative;\n",
       "  }\n",
       "</style>\n",
       "<div id=\"altair-viz-15225730c09b4eb2b83bdd90640f2884\"></div>\n",
       "<script type=\"text/javascript\">\n",
       "  var VEGA_DEBUG = (typeof VEGA_DEBUG == \"undefined\") ? {} : VEGA_DEBUG;\n",
       "  (function(spec, embedOpt){\n",
       "    let outputDiv = document.currentScript.previousElementSibling;\n",
       "    if (outputDiv.id !== \"altair-viz-15225730c09b4eb2b83bdd90640f2884\") {\n",
       "      outputDiv = document.getElementById(\"altair-viz-15225730c09b4eb2b83bdd90640f2884\");\n",
       "    }\n",
       "    const paths = {\n",
       "      \"vega\": \"https://cdn.jsdelivr.net/npm/vega@5?noext\",\n",
       "      \"vega-lib\": \"https://cdn.jsdelivr.net/npm/vega-lib?noext\",\n",
       "      \"vega-lite\": \"https://cdn.jsdelivr.net/npm/vega-lite@5.8.0?noext\",\n",
       "      \"vega-embed\": \"https://cdn.jsdelivr.net/npm/vega-embed@6?noext\",\n",
       "    };\n",
       "\n",
       "    function maybeLoadScript(lib, version) {\n",
       "      var key = `${lib.replace(\"-\", \"\")}_version`;\n",
       "      return (VEGA_DEBUG[key] == version) ?\n",
       "        Promise.resolve(paths[lib]) :\n",
       "        new Promise(function(resolve, reject) {\n",
       "          var s = document.createElement('script');\n",
       "          document.getElementsByTagName(\"head\")[0].appendChild(s);\n",
       "          s.async = true;\n",
       "          s.onload = () => {\n",
       "            VEGA_DEBUG[key] = version;\n",
       "            return resolve(paths[lib]);\n",
       "          };\n",
       "          s.onerror = () => reject(`Error loading script: ${paths[lib]}`);\n",
       "          s.src = paths[lib];\n",
       "        });\n",
       "    }\n",
       "\n",
       "    function showError(err) {\n",
       "      outputDiv.innerHTML = `<div class=\"error\" style=\"color:red;\">${err}</div>`;\n",
       "      throw err;\n",
       "    }\n",
       "\n",
       "    function displayChart(vegaEmbed) {\n",
       "      vegaEmbed(outputDiv, spec, embedOpt)\n",
       "        .catch(err => showError(`Javascript Error: ${err.message}<br>This usually means there's a typo in your chart specification. See the javascript console for the full traceback.`));\n",
       "    }\n",
       "\n",
       "    if(typeof define === \"function\" && define.amd) {\n",
       "      requirejs.config({paths});\n",
       "      require([\"vega-embed\"], displayChart, err => showError(`Error loading script: ${err.message}`));\n",
       "    } else {\n",
       "      maybeLoadScript(\"vega\", \"5\")\n",
       "        .then(() => maybeLoadScript(\"vega-lite\", \"5.8.0\"))\n",
       "        .then(() => maybeLoadScript(\"vega-embed\", \"6\"))\n",
       "        .catch(showError)\n",
       "        .then(() => displayChart(vegaEmbed));\n",
       "    }\n",
       "  })({\"config\": {\"view\": {\"continuousWidth\": 300, \"continuousHeight\": 300}}, \"data\": {\"name\": \"data-e3dcb2ec371357d19d7dbeb6dfb1d62e\"}, \"mark\": {\"type\": \"bar\"}, \"encoding\": {\"color\": {\"field\": \"cat\", \"type\": \"nominal\"}, \"x\": {\"aggregate\": \"sum\", \"axis\": {\"format\": \".2s\"}, \"field\": \"profit\", \"type\": \"quantitative\"}, \"y\": {\"field\": \"year\", \"type\": \"ordinal\"}}, \"height\": 340, \"title\": \"\\u4e24\\u79cd\\u5229\\u6da6\\u589e\\u957f\\u9a71\\u52a8\\u56e0\\u7d20\\u5bf9\\u6bd4\", \"width\": \"container\", \"$schema\": \"https://vega.github.io/schema/vega-lite/v5.8.0.json\", \"datasets\": {\"data-e3dcb2ec371357d19d7dbeb6dfb1d62e\": [{\"year\": 2010, \"cat\": \"\\u589e\\u957f\\u9a71\\u52a8\", \"profit\": 0.0}, {\"year\": 2011, \"cat\": \"\\u589e\\u957f\\u9a71\\u52a8\", \"profit\": 360365450850.5036}, {\"year\": 2012, \"cat\": \"\\u589e\\u957f\\u9a71\\u52a8\", \"profit\": -114349520022.8239}, {\"year\": 2013, \"cat\": \"\\u589e\\u957f\\u9a71\\u52a8\", \"profit\": 326801148973.8911}, {\"year\": 2014, \"cat\": \"\\u589e\\u957f\\u9a71\\u52a8\", \"profit\": 227300937348.89923}, {\"year\": 2015, \"cat\": \"\\u589e\\u957f\\u9a71\\u52a8\", \"profit\": 44419560858.53934}, {\"year\": 2016, \"cat\": \"\\u589e\\u957f\\u9a71\\u52a8\", \"profit\": 120980965093.70062}, {\"year\": 2017, \"cat\": \"\\u589e\\u957f\\u9a71\\u52a8\", \"profit\": 560726360421.8894}, {\"year\": 2018, \"cat\": \"\\u589e\\u957f\\u9a71\\u52a8\", \"profit\": 140019269538.27124}, {\"year\": 2019, \"cat\": \"\\u589e\\u957f\\u9a71\\u52a8\", \"profit\": 132533548833.39935}, {\"year\": 2020, \"cat\": \"\\u589e\\u957f\\u9a71\\u52a8\", \"profit\": -13618405905.92978}, {\"year\": 2021, \"cat\": \"\\u589e\\u957f\\u9a71\\u52a8\", \"profit\": 670293213363.299}, {\"year\": 2022, \"cat\": \"\\u589e\\u957f\\u9a71\\u52a8\", \"profit\": -285516869140.67896}, {\"year\": 2010, \"cat\": \"\\u65b0\\u53d1\\u9a71\\u52a8\", \"profit\": 0.0}, {\"year\": 2011, \"cat\": \"\\u65b0\\u53d1\\u9a71\\u52a8\", \"profit\": 47252363976.19}, {\"year\": 2012, \"cat\": \"\\u65b0\\u53d1\\u9a71\\u52a8\", \"profit\": 31989839352.83}, {\"year\": 2013, \"cat\": \"\\u65b0\\u53d1\\u9a71\\u52a8\", \"profit\": 11074755463.74}, {\"year\": 2014, \"cat\": \"\\u65b0\\u53d1\\u9a71\\u52a8\", \"profit\": 23510517217.82}, {\"year\": 2015, \"cat\": \"\\u65b0\\u53d1\\u9a71\\u52a8\", \"profit\": 80581355854.28}, {\"year\": 2016, \"cat\": \"\\u65b0\\u53d1\\u9a71\\u52a8\", \"profit\": 69230639042.94}, {\"year\": 2017, \"cat\": \"\\u65b0\\u53d1\\u9a71\\u52a8\", \"profit\": 75427117359.74}, {\"year\": 2018, \"cat\": \"\\u65b0\\u53d1\\u9a71\\u52a8\", \"profit\": 86456510199.24}, {\"year\": 2019, \"cat\": \"\\u65b0\\u53d1\\u9a71\\u52a8\", \"profit\": 160452002374.44}, {\"year\": 2020, \"cat\": \"\\u65b0\\u53d1\\u9a71\\u52a8\", \"profit\": 101205064468.4}, {\"year\": 2021, \"cat\": \"\\u65b0\\u53d1\\u9a71\\u52a8\", \"profit\": 153307770865.66}, {\"year\": 2022, \"cat\": \"\\u65b0\\u53d1\\u9a71\\u52a8\", \"profit\": 330899580954.76}]}}, {\"mode\": \"vega-lite\"});\n",
       "</script>"
      ],
      "text/plain": [
       "alt.Chart(...)"
      ]
     },
     "execution_count": 72,
     "metadata": {},
     "output_type": "execute_result"
    }
   ],
   "source": [
    "inc_plotdf_sel = inc_plotdf[inc_plotdf['cat'] != 'base']\n",
    "alt.Chart(inc_plotdf_sel).mark_bar().encode(\n",
    "    alt.X('sum(profit)').axis(format='.2s'),\n",
    "    alt.Y('year:O'),\n",
    "    color='cat'\n",
    ").properties(\n",
    "    title = '两种利润增长驱动因素对比',\n",
    "    width = 'container',\n",
    "    height = len(df_total)*20+80\n",
    ")\n"
   ]
  },
  {
   "attachments": {},
   "cell_type": "markdown",
   "metadata": {},
   "source": [
    "- 谁能想到疫情第2年，上市公司却出现史诗性的暴涨。\n",
    "- 而到了第三年，增长不再还转为亏损。\n",
    "- 这个地方也和不停留上市前数据有很大不同，2022年以前上市的公司亏损比不保留数据要大数倍，什么原因？"
   ]
  },
  {
   "attachments": {},
   "cell_type": "markdown",
   "metadata": {},
   "source": [
    "## 利润构成——按板块和交易所\n",
    "\n",
    "- 这方面应该符合常识认知。"
   ]
  },
  {
   "cell_type": "code",
   "execution_count": 73,
   "metadata": {
    "tags": [
     "remove-input"
    ]
   },
   "outputs": [
    {
     "data": {
      "text/html": [
       "\n",
       "<style>\n",
       "  #altair-viz-e5afbea19afa450a86139af45e6c0ea3.vega-embed {\n",
       "    width: 100%;\n",
       "    display: flex;\n",
       "  }\n",
       "\n",
       "  #altair-viz-e5afbea19afa450a86139af45e6c0ea3.vega-embed details,\n",
       "  #altair-viz-e5afbea19afa450a86139af45e6c0ea3.vega-embed details summary {\n",
       "    position: relative;\n",
       "  }\n",
       "</style>\n",
       "<div id=\"altair-viz-e5afbea19afa450a86139af45e6c0ea3\"></div>\n",
       "<script type=\"text/javascript\">\n",
       "  var VEGA_DEBUG = (typeof VEGA_DEBUG == \"undefined\") ? {} : VEGA_DEBUG;\n",
       "  (function(spec, embedOpt){\n",
       "    let outputDiv = document.currentScript.previousElementSibling;\n",
       "    if (outputDiv.id !== \"altair-viz-e5afbea19afa450a86139af45e6c0ea3\") {\n",
       "      outputDiv = document.getElementById(\"altair-viz-e5afbea19afa450a86139af45e6c0ea3\");\n",
       "    }\n",
       "    const paths = {\n",
       "      \"vega\": \"https://cdn.jsdelivr.net/npm/vega@5?noext\",\n",
       "      \"vega-lib\": \"https://cdn.jsdelivr.net/npm/vega-lib?noext\",\n",
       "      \"vega-lite\": \"https://cdn.jsdelivr.net/npm/vega-lite@5.8.0?noext\",\n",
       "      \"vega-embed\": \"https://cdn.jsdelivr.net/npm/vega-embed@6?noext\",\n",
       "    };\n",
       "\n",
       "    function maybeLoadScript(lib, version) {\n",
       "      var key = `${lib.replace(\"-\", \"\")}_version`;\n",
       "      return (VEGA_DEBUG[key] == version) ?\n",
       "        Promise.resolve(paths[lib]) :\n",
       "        new Promise(function(resolve, reject) {\n",
       "          var s = document.createElement('script');\n",
       "          document.getElementsByTagName(\"head\")[0].appendChild(s);\n",
       "          s.async = true;\n",
       "          s.onload = () => {\n",
       "            VEGA_DEBUG[key] = version;\n",
       "            return resolve(paths[lib]);\n",
       "          };\n",
       "          s.onerror = () => reject(`Error loading script: ${paths[lib]}`);\n",
       "          s.src = paths[lib];\n",
       "        });\n",
       "    }\n",
       "\n",
       "    function showError(err) {\n",
       "      outputDiv.innerHTML = `<div class=\"error\" style=\"color:red;\">${err}</div>`;\n",
       "      throw err;\n",
       "    }\n",
       "\n",
       "    function displayChart(vegaEmbed) {\n",
       "      vegaEmbed(outputDiv, spec, embedOpt)\n",
       "        .catch(err => showError(`Javascript Error: ${err.message}<br>This usually means there's a typo in your chart specification. See the javascript console for the full traceback.`));\n",
       "    }\n",
       "\n",
       "    if(typeof define === \"function\" && define.amd) {\n",
       "      requirejs.config({paths});\n",
       "      require([\"vega-embed\"], displayChart, err => showError(`Error loading script: ${err.message}`));\n",
       "    } else {\n",
       "      maybeLoadScript(\"vega\", \"5\")\n",
       "        .then(() => maybeLoadScript(\"vega-lite\", \"5.8.0\"))\n",
       "        .then(() => maybeLoadScript(\"vega-embed\", \"6\"))\n",
       "        .catch(showError)\n",
       "        .then(() => displayChart(vegaEmbed));\n",
       "    }\n",
       "  })({\"config\": {\"view\": {\"continuousWidth\": 300, \"continuousHeight\": 300}}, \"data\": {\"name\": \"data-29a31c1f7aa668ac58117ad4660627ba\"}, \"mark\": {\"type\": \"bar\"}, \"encoding\": {\"color\": {\"field\": \"market\", \"type\": \"nominal\"}, \"x\": {\"aggregate\": \"sum\", \"axis\": {\"format\": \".2s\"}, \"field\": \"profit\", \"type\": \"quantitative\"}, \"y\": {\"field\": \"year\", \"type\": \"ordinal\"}}, \"height\": 340, \"title\": \"\\u4e0d\\u540c\\u677f\\u5757\\u5229\\u6da6\\u53d8\\u5316\", \"width\": \"container\", \"$schema\": \"https://vega.github.io/schema/vega-lite/v5.8.0.json\", \"datasets\": {\"data-29a31c1f7aa668ac58117ad4660627ba\": [{\"year\": 2010, \"market\": \"\\u4e3b\\u677fA\\u80a1\", \"profit\": 1816957799178.06}, {\"year\": 2010, \"market\": \"\\u521b\\u4e1a\\u677f\", \"profit\": 25983898534.3}, {\"year\": 2010, \"market\": \"\\u79d1\\u521b\\u677f\", \"profit\": 2486291692.34}, {\"year\": 2011, \"market\": \"\\u4e3b\\u677fA\\u80a1\", \"profit\": 2208217581056.953}, {\"year\": 2011, \"market\": \"\\u521b\\u4e1a\\u677f\", \"profit\": 42108721816.23}, {\"year\": 2011, \"market\": \"\\u79d1\\u521b\\u677f\", \"profit\": 2719501358.21}, {\"year\": 2012, \"market\": \"\\u4e3b\\u677fA\\u80a1\", \"profit\": 2124444273270.18}, {\"year\": 2012, \"market\": \"\\u521b\\u4e1a\\u677f\", \"profit\": 44680913768.35}, {\"year\": 2012, \"market\": \"\\u79d1\\u521b\\u677f\", \"profit\": 1560936522.8700001}, {\"year\": 2013, \"market\": \"\\u4e3b\\u677fA\\u80a1\", \"profit\": 2453457342167.22}, {\"year\": 2013, \"market\": \"\\u521b\\u4e1a\\u677f\", \"profit\": 52000215478.25}, {\"year\": 2013, \"market\": \"\\u79d1\\u521b\\u677f\", \"profit\": 3104470353.56}, {\"year\": 2014, \"market\": \"\\u4e3b\\u677fA\\u80a1\", \"profit\": 2685849322677.75}, {\"year\": 2014, \"market\": \"\\u521b\\u4e1a\\u677f\", \"profit\": 67224472930.96}, {\"year\": 2014, \"market\": \"\\u79d1\\u521b\\u677f\", \"profit\": 6299686957.04}, {\"year\": 2015, \"market\": \"\\u4e3b\\u677fA\\u80a1\", \"profit\": 2792075436996.94}, {\"year\": 2015, \"market\": \"\\u521b\\u4e1a\\u677f\", \"profit\": 84422863061.32}, {\"year\": 2015, \"market\": \"\\u79d1\\u521b\\u677f\", \"profit\": 7876099220.309999}, {\"year\": 2016, \"market\": \"\\u4e3b\\u677fA\\u80a1\", \"profit\": 2939245059014.6}, {\"year\": 2016, \"market\": \"\\u521b\\u4e1a\\u677f\", \"profit\": 121544192879.79}, {\"year\": 2016, \"market\": \"\\u79d1\\u521b\\u677f\", \"profit\": 13796751520.82}, {\"year\": 2017, \"market\": \"\\u4e3b\\u677fA\\u80a1\", \"profit\": 3542630797925.64}, {\"year\": 2017, \"market\": \"\\u521b\\u4e1a\\u677f\", \"profit\": 145570832788.86}, {\"year\": 2017, \"market\": \"\\u79d1\\u521b\\u677f\", \"profit\": 22537850482.34}, {\"year\": 2018, \"market\": \"\\u4e3b\\u677fA\\u80a1\", \"profit\": 3819738304186.01}, {\"year\": 2018, \"market\": \"\\u521b\\u4e1a\\u677f\", \"profit\": 93251574686.43}, {\"year\": 2018, \"market\": \"\\u79d1\\u521b\\u677f\", \"profit\": 24225382061.91}, {\"year\": 2019, \"market\": \"\\u4e3b\\u677fA\\u80a1\", \"profit\": 4072814709384.3}, {\"year\": 2019, \"market\": \"\\u521b\\u4e1a\\u677f\", \"profit\": 127252951641.99}, {\"year\": 2019, \"market\": \"\\u79d1\\u521b\\u677f\", \"profit\": 30133151115.9}, {\"year\": 2020, \"market\": \"\\u4e3b\\u677fA\\u80a1\", \"profit\": 4085411027863.2}, {\"year\": 2020, \"market\": \"\\u521b\\u4e1a\\u677f\", \"profit\": 175136704370.99}, {\"year\": 2020, \"market\": \"\\u79d1\\u521b\\u677f\", \"profit\": 57239738470.47}, {\"year\": 2021, \"market\": \"\\u4e3b\\u677fA\\u80a1\", \"profit\": 4823105473421.91}, {\"year\": 2021, \"market\": \"\\u521b\\u4e1a\\u677f\", \"profit\": 211990582788.92}, {\"year\": 2021, \"market\": \"\\u79d1\\u521b\\u677f\", \"profit\": 106292398722.79}, {\"year\": 2022, \"market\": \"\\u4e3b\\u677fA\\u80a1\", \"profit\": 4841190997473.3}, {\"year\": 2022, \"market\": \"\\u521b\\u4e1a\\u677f\", \"profit\": 232895624606.91}, {\"year\": 2022, \"market\": \"\\u79d1\\u521b\\u677f\", \"profit\": 112684544667.49}]}}, {\"mode\": \"vega-lite\"});\n",
       "</script>"
      ],
      "text/plain": [
       "alt.Chart(...)"
      ]
     },
     "execution_count": 73,
     "metadata": {},
     "output_type": "execute_result"
    }
   ],
   "source": [
    "sel_e_m = sel.merge(code[['code', 'market', 'ex']])\n",
    "sel_bymarket  =sel_e_m.groupby(['year','market'])['profit'].sum().to_frame('profit').reset_index()\n",
    "alt.Chart(sel_bymarket).mark_bar().encode(\n",
    "    alt.X('sum(profit)').axis(format='.2s'),\n",
    "    alt.Y('year:O'),\n",
    "    color='market'\n",
    ").properties(\n",
    "    title = '不同板块利润变化',\n",
    "    width = 'container',\n",
    "    height = 340\n",
    ")\n"
   ]
  },
  {
   "cell_type": "code",
   "execution_count": 74,
   "metadata": {
    "tags": [
     "remove-input"
    ]
   },
   "outputs": [
    {
     "data": {
      "text/html": [
       "\n",
       "<style>\n",
       "  #altair-viz-31efbebdb8df4a38b56c7608704ca38d.vega-embed {\n",
       "    width: 100%;\n",
       "    display: flex;\n",
       "  }\n",
       "\n",
       "  #altair-viz-31efbebdb8df4a38b56c7608704ca38d.vega-embed details,\n",
       "  #altair-viz-31efbebdb8df4a38b56c7608704ca38d.vega-embed details summary {\n",
       "    position: relative;\n",
       "  }\n",
       "</style>\n",
       "<div id=\"altair-viz-31efbebdb8df4a38b56c7608704ca38d\"></div>\n",
       "<script type=\"text/javascript\">\n",
       "  var VEGA_DEBUG = (typeof VEGA_DEBUG == \"undefined\") ? {} : VEGA_DEBUG;\n",
       "  (function(spec, embedOpt){\n",
       "    let outputDiv = document.currentScript.previousElementSibling;\n",
       "    if (outputDiv.id !== \"altair-viz-31efbebdb8df4a38b56c7608704ca38d\") {\n",
       "      outputDiv = document.getElementById(\"altair-viz-31efbebdb8df4a38b56c7608704ca38d\");\n",
       "    }\n",
       "    const paths = {\n",
       "      \"vega\": \"https://cdn.jsdelivr.net/npm/vega@5?noext\",\n",
       "      \"vega-lib\": \"https://cdn.jsdelivr.net/npm/vega-lib?noext\",\n",
       "      \"vega-lite\": \"https://cdn.jsdelivr.net/npm/vega-lite@5.8.0?noext\",\n",
       "      \"vega-embed\": \"https://cdn.jsdelivr.net/npm/vega-embed@6?noext\",\n",
       "    };\n",
       "\n",
       "    function maybeLoadScript(lib, version) {\n",
       "      var key = `${lib.replace(\"-\", \"\")}_version`;\n",
       "      return (VEGA_DEBUG[key] == version) ?\n",
       "        Promise.resolve(paths[lib]) :\n",
       "        new Promise(function(resolve, reject) {\n",
       "          var s = document.createElement('script');\n",
       "          document.getElementsByTagName(\"head\")[0].appendChild(s);\n",
       "          s.async = true;\n",
       "          s.onload = () => {\n",
       "            VEGA_DEBUG[key] = version;\n",
       "            return resolve(paths[lib]);\n",
       "          };\n",
       "          s.onerror = () => reject(`Error loading script: ${paths[lib]}`);\n",
       "          s.src = paths[lib];\n",
       "        });\n",
       "    }\n",
       "\n",
       "    function showError(err) {\n",
       "      outputDiv.innerHTML = `<div class=\"error\" style=\"color:red;\">${err}</div>`;\n",
       "      throw err;\n",
       "    }\n",
       "\n",
       "    function displayChart(vegaEmbed) {\n",
       "      vegaEmbed(outputDiv, spec, embedOpt)\n",
       "        .catch(err => showError(`Javascript Error: ${err.message}<br>This usually means there's a typo in your chart specification. See the javascript console for the full traceback.`));\n",
       "    }\n",
       "\n",
       "    if(typeof define === \"function\" && define.amd) {\n",
       "      requirejs.config({paths});\n",
       "      require([\"vega-embed\"], displayChart, err => showError(`Error loading script: ${err.message}`));\n",
       "    } else {\n",
       "      maybeLoadScript(\"vega\", \"5\")\n",
       "        .then(() => maybeLoadScript(\"vega-lite\", \"5.8.0\"))\n",
       "        .then(() => maybeLoadScript(\"vega-embed\", \"6\"))\n",
       "        .catch(showError)\n",
       "        .then(() => displayChart(vegaEmbed));\n",
       "    }\n",
       "  })({\"config\": {\"view\": {\"continuousWidth\": 300, \"continuousHeight\": 300}}, \"data\": {\"name\": \"data-2d249bfebda4d88600a4f6d2fc562976\"}, \"mark\": {\"type\": \"bar\"}, \"encoding\": {\"color\": {\"field\": \"ex\", \"type\": \"nominal\"}, \"x\": {\"aggregate\": \"sum\", \"axis\": {\"format\": \".2s\"}, \"field\": \"profit\", \"type\": \"quantitative\"}, \"y\": {\"field\": \"year\", \"type\": \"ordinal\"}}, \"height\": 340, \"title\": \"\\u4e0d\\u540c\\u4ea4\\u6613\\u6240\\u5229\\u6da6\\u53d8\\u5316\", \"width\": \"container\", \"$schema\": \"https://vega.github.io/schema/vega-lite/v5.8.0.json\", \"datasets\": {\"data-2d249bfebda4d88600a4f6d2fc562976\": [{\"year\": 2010, \"ex\": \"\\u4e0a\\u4ea4\\u6240\", \"profit\": 1554054694239.49}, {\"year\": 2010, \"ex\": \"\\u5317\\u4ea4\\u6240\", \"profit\": 296112799.86}, {\"year\": 2010, \"ex\": \"\\u6df1\\u4ea4\\u6240\", \"profit\": 291077182365.35}, {\"year\": 2011, \"ex\": \"\\u4e0a\\u4ea4\\u6240\", \"profit\": 1914797660088.8032}, {\"year\": 2011, \"ex\": \"\\u5317\\u4ea4\\u6240\", \"profit\": 229138630.01}, {\"year\": 2011, \"ex\": \"\\u6df1\\u4ea4\\u6240\", \"profit\": 338019005512.58}, {\"year\": 2012, \"ex\": \"\\u4e0a\\u4ea4\\u6240\", \"profit\": 1854380058291.6}, {\"year\": 2012, \"ex\": \"\\u5317\\u4ea4\\u6240\", \"profit\": 569151771.25}, {\"year\": 2012, \"ex\": \"\\u6df1\\u4ea4\\u6240\", \"profit\": 315736913498.55}, {\"year\": 2013, \"ex\": \"\\u4e0a\\u4ea4\\u6240\", \"profit\": 2127967200944.25}, {\"year\": 2013, \"ex\": \"\\u5317\\u4ea4\\u6240\", \"profit\": 1358856499.61}, {\"year\": 2013, \"ex\": \"\\u6df1\\u4ea4\\u6240\", \"profit\": 379235970555.17}, {\"year\": 2014, \"ex\": \"\\u4e0a\\u4ea4\\u6240\", \"profit\": 2309711619501.0}, {\"year\": 2014, \"ex\": \"\\u5317\\u4ea4\\u6240\", \"profit\": 1611845714.33}, {\"year\": 2014, \"ex\": \"\\u6df1\\u4ea4\\u6240\", \"profit\": 448050017350.42}, {\"year\": 2015, \"ex\": \"\\u4e0a\\u4ea4\\u6240\", \"profit\": 2371277206737.42}, {\"year\": 2015, \"ex\": \"\\u5317\\u4ea4\\u6240\", \"profit\": 2393544503.22}, {\"year\": 2015, \"ex\": \"\\u6df1\\u4ea4\\u6240\", \"profit\": 510703648037.93}, {\"year\": 2016, \"ex\": \"\\u4e0a\\u4ea4\\u6240\", \"profit\": 2424707802584.96}, {\"year\": 2016, \"ex\": \"\\u5317\\u4ea4\\u6240\", \"profit\": 3364041975.62}, {\"year\": 2016, \"ex\": \"\\u6df1\\u4ea4\\u6240\", \"profit\": 646514158854.63}, {\"year\": 2017, \"ex\": \"\\u4e0a\\u4ea4\\u6240\", \"profit\": 2869985492442.65}, {\"year\": 2017, \"ex\": \"\\u5317\\u4ea4\\u6240\", \"profit\": 4636771223.25}, {\"year\": 2017, \"ex\": \"\\u6df1\\u4ea4\\u6240\", \"profit\": 836117217530.94}, {\"year\": 2018, \"ex\": \"\\u4e0a\\u4ea4\\u6240\", \"profit\": 3217827870219.1}, {\"year\": 2018, \"ex\": \"\\u5317\\u4ea4\\u6240\", \"profit\": 5537579405.87}, {\"year\": 2018, \"ex\": \"\\u6df1\\u4ea4\\u6240\", \"profit\": 713849811309.38}, {\"year\": 2019, \"ex\": \"\\u4e0a\\u4ea4\\u6240\", \"profit\": 3513579634565.85}, {\"year\": 2019, \"ex\": \"\\u5317\\u4ea4\\u6240\", \"profit\": 6698541857.01}, {\"year\": 2019, \"ex\": \"\\u6df1\\u4ea4\\u6240\", \"profit\": 709922635719.3301}, {\"year\": 2020, \"ex\": \"\\u4e0a\\u4ea4\\u6240\", \"profit\": 3348325241150.41}, {\"year\": 2020, \"ex\": \"\\u5317\\u4ea4\\u6240\", \"profit\": 8179020772.09}, {\"year\": 2020, \"ex\": \"\\u6df1\\u4ea4\\u6240\", \"profit\": 961283208782.16}, {\"year\": 2021, \"ex\": \"\\u4e0a\\u4ea4\\u6240\", \"profit\": 4166087233258.56}, {\"year\": 2021, \"ex\": \"\\u5317\\u4ea4\\u6240\", \"profit\": 10922971573.68}, {\"year\": 2021, \"ex\": \"\\u6df1\\u4ea4\\u6240\", \"profit\": 964378250101.38}, {\"year\": 2022, \"ex\": \"\\u4e0a\\u4ea4\\u6240\", \"profit\": 4255346860074.5}, {\"year\": 2022, \"ex\": \"\\u5317\\u4ea4\\u6240\", \"profit\": 11626378234.14}, {\"year\": 2022, \"ex\": \"\\u6df1\\u4ea4\\u6240\", \"profit\": 919797928439.06}]}}, {\"mode\": \"vega-lite\"});\n",
       "</script>"
      ],
      "text/plain": [
       "alt.Chart(...)"
      ]
     },
     "execution_count": 74,
     "metadata": {},
     "output_type": "execute_result"
    }
   ],
   "source": [
    "sel_byex  =sel_e_m.groupby(['year','ex'])['profit'].sum().to_frame('profit').reset_index()\n",
    "alt.Chart(sel_byex).mark_bar().encode(\n",
    "    alt.X('sum(profit)').axis(format='.2s'),\n",
    "    alt.Y('year:O'),\n",
    "    color='ex'\n",
    ").properties(\n",
    "    title = '不同交易所利润变化',\n",
    "    width = 'container',\n",
    "    height = 340\n",
    ")\n"
   ]
  },
  {
   "attachments": {},
   "cell_type": "markdown",
   "metadata": {},
   "source": [
    "- 2020年对上交所打击比较大。\n",
    "- 但第二年2021年，上交所又迎来狂欢。"
   ]
  },
  {
   "attachments": {},
   "cell_type": "markdown",
   "metadata": {},
   "source": [
    "## 利润构成-分行业看\n",
    "\n",
    "- 一般人可能不知道，中国上市银行有多挣钱，不然无法解释为什么银行股在大部分时候都被嫌弃。\n",
    "- 先看一下从2010年以来，每年的利润额前十榜上有哪些公司。"
   ]
  },
  {
   "cell_type": "code",
   "execution_count": 75,
   "metadata": {
    "tags": [
     "remove-input"
    ]
   },
   "outputs": [
    {
     "data": {
      "text/html": [
       "\n",
       "<style>\n",
       "  #altair-viz-c85e8e8d7c1e4b0bb121f578ea973df9.vega-embed {\n",
       "    width: 100%;\n",
       "    display: flex;\n",
       "  }\n",
       "\n",
       "  #altair-viz-c85e8e8d7c1e4b0bb121f578ea973df9.vega-embed details,\n",
       "  #altair-viz-c85e8e8d7c1e4b0bb121f578ea973df9.vega-embed details summary {\n",
       "    position: relative;\n",
       "  }\n",
       "</style>\n",
       "<div id=\"altair-viz-c85e8e8d7c1e4b0bb121f578ea973df9\"></div>\n",
       "<script type=\"text/javascript\">\n",
       "  var VEGA_DEBUG = (typeof VEGA_DEBUG == \"undefined\") ? {} : VEGA_DEBUG;\n",
       "  (function(spec, embedOpt){\n",
       "    let outputDiv = document.currentScript.previousElementSibling;\n",
       "    if (outputDiv.id !== \"altair-viz-c85e8e8d7c1e4b0bb121f578ea973df9\") {\n",
       "      outputDiv = document.getElementById(\"altair-viz-c85e8e8d7c1e4b0bb121f578ea973df9\");\n",
       "    }\n",
       "    const paths = {\n",
       "      \"vega\": \"https://cdn.jsdelivr.net/npm/vega@5?noext\",\n",
       "      \"vega-lib\": \"https://cdn.jsdelivr.net/npm/vega-lib?noext\",\n",
       "      \"vega-lite\": \"https://cdn.jsdelivr.net/npm/vega-lite@5.8.0?noext\",\n",
       "      \"vega-embed\": \"https://cdn.jsdelivr.net/npm/vega-embed@6?noext\",\n",
       "    };\n",
       "\n",
       "    function maybeLoadScript(lib, version) {\n",
       "      var key = `${lib.replace(\"-\", \"\")}_version`;\n",
       "      return (VEGA_DEBUG[key] == version) ?\n",
       "        Promise.resolve(paths[lib]) :\n",
       "        new Promise(function(resolve, reject) {\n",
       "          var s = document.createElement('script');\n",
       "          document.getElementsByTagName(\"head\")[0].appendChild(s);\n",
       "          s.async = true;\n",
       "          s.onload = () => {\n",
       "            VEGA_DEBUG[key] = version;\n",
       "            return resolve(paths[lib]);\n",
       "          };\n",
       "          s.onerror = () => reject(`Error loading script: ${paths[lib]}`);\n",
       "          s.src = paths[lib];\n",
       "        });\n",
       "    }\n",
       "\n",
       "    function showError(err) {\n",
       "      outputDiv.innerHTML = `<div class=\"error\" style=\"color:red;\">${err}</div>`;\n",
       "      throw err;\n",
       "    }\n",
       "\n",
       "    function displayChart(vegaEmbed) {\n",
       "      vegaEmbed(outputDiv, spec, embedOpt)\n",
       "        .catch(err => showError(`Javascript Error: ${err.message}<br>This usually means there's a typo in your chart specification. See the javascript console for the full traceback.`));\n",
       "    }\n",
       "\n",
       "    if(typeof define === \"function\" && define.amd) {\n",
       "      requirejs.config({paths});\n",
       "      require([\"vega-embed\"], displayChart, err => showError(`Error loading script: ${err.message}`));\n",
       "    } else {\n",
       "      maybeLoadScript(\"vega\", \"5\")\n",
       "        .then(() => maybeLoadScript(\"vega-lite\", \"5.8.0\"))\n",
       "        .then(() => maybeLoadScript(\"vega-embed\", \"6\"))\n",
       "        .catch(showError)\n",
       "        .then(() => displayChart(vegaEmbed));\n",
       "    }\n",
       "  })({\"config\": {\"view\": {\"continuousWidth\": 300, \"continuousHeight\": 300}}, \"data\": {\"name\": \"data-18f7e398efd38664eb8b6a48787e18f2\"}, \"mark\": {\"type\": \"bar\"}, \"encoding\": {\"x\": {\"field\": \"count\", \"type\": \"quantitative\"}, \"y\": {\"field\": \"name\", \"sort\": \"-x\", \"type\": \"ordinal\"}}, \"height\": 440, \"title\": \"2010\\u81f32022\\u5229\\u6da6\\u989d\\u524d\\u5341\\u4e0a\\u699c\\u6b21\\u6570\\u7edf\\u8ba1\", \"width\": \"container\", \"$schema\": \"https://vega.github.io/schema/vega-lite/v5.8.0.json\", \"datasets\": {\"data-18f7e398efd38664eb8b6a48787e18f2\": [{\"name\": \"\\u5de5\\u5546\\u94f6\\u884c\", \"count\": 13}, {\"name\": \"\\u519c\\u4e1a\\u94f6\\u884c\", \"count\": 13}, {\"name\": \"\\u4ea4\\u901a\\u94f6\\u884c\", \"count\": 13}, {\"name\": \"\\u62db\\u5546\\u94f6\\u884c\", \"count\": 13}, {\"name\": \"\\u4e2d\\u56fd\\u94f6\\u884c\", \"count\": 13}, {\"name\": \"\\u5efa\\u8bbe\\u94f6\\u884c\", \"count\": 13}, {\"name\": \"\\u4e2d\\u56fd\\u77f3\\u5316\", \"count\": 7}, {\"name\": \"\\u4e2d\\u56fd\\u77f3\\u6cb9\", \"count\": 7}, {\"name\": \"\\u5174\\u4e1a\\u94f6\\u884c\", \"count\": 7}, {\"name\": \"\\u4e2d\\u56fd\\u5e73\\u5b89\", \"count\": 7}, {\"name\": \"\\u4e2d\\u56fd\\u79fb\\u52a8\", \"count\": 6}, {\"name\": \"\\u4e2d\\u56fd\\u795e\\u534e\", \"count\": 4}, {\"name\": \"\\u6c11\\u751f\\u94f6\\u884c\", \"count\": 4}, {\"name\": \"\\u6d66\\u53d1\\u94f6\\u884c\", \"count\": 4}, {\"name\": \"\\u4e2d\\u56fd\\u6d77\\u6cb9\", \"count\": 2}, {\"name\": \"\\u4e2d\\u8fdc\\u6d77\\u63a7\", \"count\": 2}, {\"name\": \"\\u4e2d\\u56fd\\u4eba\\u5bff\", \"count\": 1}, {\"name\": \"\\u90ae\\u50a8\\u94f6\\u884c\", \"count\": 1}]}}, {\"mode\": \"vega-lite\"});\n",
       "</script>"
      ],
      "text/plain": [
       "alt.Chart(...)"
      ]
     },
     "execution_count": 75,
     "metadata": {},
     "output_type": "execute_result"
    }
   ],
   "source": [
    "# 先按年份和利润额排列，然后取每年的前10名。\n",
    "top10 = sel.sort_values(by=['year', 'profit'], ascending=[True, False]).groupby('year', as_index=False).nth[:10]['name'].value_counts().to_frame('count').reset_index()\n",
    "\n",
    "alt.Chart(top10).mark_bar().encode(\n",
    "    alt.X('count:Q'),\n",
    "    alt.Y('name:O').sort('-x'),\n",
    ").properties(\n",
    "    title = '2010至2022利润额前十上榜次数统计',\n",
    "    width = 'container',\n",
    "    height = 440\n",
    ")"
   ]
  },
  {
   "attachments": {},
   "cell_type": "markdown",
   "metadata": {},
   "source": [
    "- 每年都上榜的有6家，全是银行。而且，工商银行每年都是冠军。\n",
    "- 上榜的共有19家公司，银行占了11家，如果把平安和人寿算进去，金融占了13家。\n",
    "- 4家资源性公司，三桶油加一个煤炭。\n",
    "- 1家交通运输企业，中远海控。应该就是2021年疫情上的榜。世事无常，它还曾夺过亏损冠军。\n",
    "- 1家高科技企业，中国移动。"
   ]
  },
  {
   "cell_type": "code",
   "execution_count": 76,
   "metadata": {
    "tags": [
     "remove-input"
    ]
   },
   "outputs": [
    {
     "data": {
      "text/html": [
       "\n",
       "<style>\n",
       "  #altair-viz-56ffa4f0559a4c2fbd14719b8fcb3a88.vega-embed {\n",
       "    width: 100%;\n",
       "    display: flex;\n",
       "  }\n",
       "\n",
       "  #altair-viz-56ffa4f0559a4c2fbd14719b8fcb3a88.vega-embed details,\n",
       "  #altair-viz-56ffa4f0559a4c2fbd14719b8fcb3a88.vega-embed details summary {\n",
       "    position: relative;\n",
       "  }\n",
       "</style>\n",
       "<div id=\"altair-viz-56ffa4f0559a4c2fbd14719b8fcb3a88\"></div>\n",
       "<script type=\"text/javascript\">\n",
       "  var VEGA_DEBUG = (typeof VEGA_DEBUG == \"undefined\") ? {} : VEGA_DEBUG;\n",
       "  (function(spec, embedOpt){\n",
       "    let outputDiv = document.currentScript.previousElementSibling;\n",
       "    if (outputDiv.id !== \"altair-viz-56ffa4f0559a4c2fbd14719b8fcb3a88\") {\n",
       "      outputDiv = document.getElementById(\"altair-viz-56ffa4f0559a4c2fbd14719b8fcb3a88\");\n",
       "    }\n",
       "    const paths = {\n",
       "      \"vega\": \"https://cdn.jsdelivr.net/npm/vega@5?noext\",\n",
       "      \"vega-lib\": \"https://cdn.jsdelivr.net/npm/vega-lib?noext\",\n",
       "      \"vega-lite\": \"https://cdn.jsdelivr.net/npm/vega-lite@5.8.0?noext\",\n",
       "      \"vega-embed\": \"https://cdn.jsdelivr.net/npm/vega-embed@6?noext\",\n",
       "    };\n",
       "\n",
       "    function maybeLoadScript(lib, version) {\n",
       "      var key = `${lib.replace(\"-\", \"\")}_version`;\n",
       "      return (VEGA_DEBUG[key] == version) ?\n",
       "        Promise.resolve(paths[lib]) :\n",
       "        new Promise(function(resolve, reject) {\n",
       "          var s = document.createElement('script');\n",
       "          document.getElementsByTagName(\"head\")[0].appendChild(s);\n",
       "          s.async = true;\n",
       "          s.onload = () => {\n",
       "            VEGA_DEBUG[key] = version;\n",
       "            return resolve(paths[lib]);\n",
       "          };\n",
       "          s.onerror = () => reject(`Error loading script: ${paths[lib]}`);\n",
       "          s.src = paths[lib];\n",
       "        });\n",
       "    }\n",
       "\n",
       "    function showError(err) {\n",
       "      outputDiv.innerHTML = `<div class=\"error\" style=\"color:red;\">${err}</div>`;\n",
       "      throw err;\n",
       "    }\n",
       "\n",
       "    function displayChart(vegaEmbed) {\n",
       "      vegaEmbed(outputDiv, spec, embedOpt)\n",
       "        .catch(err => showError(`Javascript Error: ${err.message}<br>This usually means there's a typo in your chart specification. See the javascript console for the full traceback.`));\n",
       "    }\n",
       "\n",
       "    if(typeof define === \"function\" && define.amd) {\n",
       "      requirejs.config({paths});\n",
       "      require([\"vega-embed\"], displayChart, err => showError(`Error loading script: ${err.message}`));\n",
       "    } else {\n",
       "      maybeLoadScript(\"vega\", \"5\")\n",
       "        .then(() => maybeLoadScript(\"vega-lite\", \"5.8.0\"))\n",
       "        .then(() => maybeLoadScript(\"vega-embed\", \"6\"))\n",
       "        .catch(showError)\n",
       "        .then(() => displayChart(vegaEmbed));\n",
       "    }\n",
       "  })({\"config\": {\"view\": {\"continuousWidth\": 300, \"continuousHeight\": 300}}, \"data\": {\"name\": \"data-f1b368283d8fc397b115561fc1409dcd\"}, \"mark\": {\"type\": \"bar\"}, \"encoding\": {\"x\": {\"aggregate\": \"count\", \"type\": \"quantitative\"}, \"y\": {\"bin\": {\"step\": 20}, \"field\": \"counts\", \"type\": \"quantitative\"}}, \"height\": 400, \"width\": \"container\", \"$schema\": \"https://vega.github.io/schema/vega-lite/v5.8.0.json\", \"datasets\": {\"data-f1b368283d8fc397b115561fc1409dcd\": [{\"indu\": \"\\u4fdd\\u9669\", \"counts\": 6}, {\"indu\": \"\\u8d35\\u91d1\\u5c5e\", \"counts\": 10}, {\"indu\": \"\\u8239\\u8236\\u5236\\u9020\", \"counts\": 11}, {\"indu\": \"\\u80fd\\u6e90\\u91d1\\u5c5e\", \"counts\": 11}, {\"indu\": \"\\u822a\\u7a7a\\u673a\\u573a\", \"counts\": 13}, {\"indu\": \"\\u73e0\\u5b9d\\u9996\\u9970\", \"counts\": 15}, {\"indu\": \"\\u6c7d\\u8f66\\u670d\\u52a1\", \"counts\": 15}, {\"indu\": \"\\u623f\\u5730\\u4ea7\\u670d\\u52a1\", \"counts\": 17}, {\"indu\": \"\\u91c7\\u6398\\u884c\\u4e1a\", \"counts\": 19}, {\"indu\": \"\\u6559\\u80b2\", \"counts\": 19}, {\"indu\": \"\\u516c\\u7528\\u4e8b\\u4e1a\", \"counts\": 20}, {\"indu\": \"\\u98ce\\u7535\\u8bbe\\u5907\", \"counts\": 20}, {\"indu\": \"\\u77f3\\u6cb9\\u884c\\u4e1a\", \"counts\": 20}, {\"indu\": \"\\u73bb\\u7483\\u73bb\\u7ea4\", \"counts\": 21}, {\"indu\": \"\\u7535\\u5b50\\u5316\\u5b66\\u54c1\", \"counts\": 21}, {\"indu\": \"\\u7535\\u673a\", \"counts\": 22}, {\"indu\": \"\\u6c7d\\u8f66\\u6574\\u8f66\", \"counts\": 23}, {\"indu\": \"\\u7efc\\u5408\\u884c\\u4e1a\", \"counts\": 23}, {\"indu\": \"\\u5316\\u80a5\\u884c\\u4e1a\", \"counts\": 24}, {\"indu\": \"\\u591a\\u5143\\u91d1\\u878d\", \"counts\": 25}, {\"indu\": \"\\u975e\\u91d1\\u5c5e\\u6750\\u6599\", \"counts\": 26}, {\"indu\": \"\\u7535\\u6e90\\u8bbe\\u5907\", \"counts\": 26}, {\"indu\": \"\\u5bb6\\u7528\\u8f7b\\u5de5\", \"counts\": 27}, {\"indu\": \"\\u7f8e\\u5bb9\\u62a4\\u7406\", \"counts\": 28}, {\"indu\": \"\\u6a61\\u80f6\\u5236\\u54c1\", \"counts\": 29}, {\"indu\": \"\\u6e38\\u620f\", \"counts\": 29}, {\"indu\": \"\\u5316\\u7ea4\\u884c\\u4e1a\", \"counts\": 29}, {\"indu\": \"\\u94c1\\u8def\\u516c\\u8def\", \"counts\": 30}, {\"indu\": \"\\u533b\\u836f\\u5546\\u4e1a\", \"counts\": 30}, {\"indu\": \"\\u5305\\u88c5\\u6750\\u6599\", \"counts\": 30}, {\"indu\": \"\\u65c5\\u6e38\\u9152\\u5e97\", \"counts\": 31}, {\"indu\": \"\\u71c3\\u6c14\", \"counts\": 32}, {\"indu\": \"\\u5de5\\u7a0b\\u673a\\u68b0\", \"counts\": 32}, {\"indu\": \"\\u6c34\\u6ce5\\u5efa\\u6750\", \"counts\": 32}, {\"indu\": \"\\u4e13\\u4e1a\\u670d\\u52a1\", \"counts\": 33}, {\"indu\": \"\\u9020\\u7eb8\\u5370\\u5237\", \"counts\": 33}, {\"indu\": \"\\u822a\\u8fd0\\u6e2f\\u53e3\", \"counts\": 34}, {\"indu\": \"\\u8d38\\u6613\\u884c\\u4e1a\", \"counts\": 34}, {\"indu\": \"\\u7164\\u70ad\\u884c\\u4e1a\", \"counts\": 34}, {\"indu\": \"\\u822a\\u5929\\u822a\\u7a7a\", \"counts\": 36}, {\"indu\": \"\\u917f\\u9152\\u884c\\u4e1a\", \"counts\": 38}, {\"indu\": \"\\u5c0f\\u91d1\\u5c5e\", \"counts\": 38}, {\"indu\": \"\\u5de5\\u7a0b\\u54a8\\u8be2\\u670d\\u52a1\", \"counts\": 39}, {\"indu\": \"\\u901a\\u4fe1\\u670d\\u52a1\", \"counts\": 40}, {\"indu\": \"\\u533b\\u7597\\u670d\\u52a1\", \"counts\": 41}, {\"indu\": \"\\u94f6\\u884c\", \"counts\": 42}, {\"indu\": \"\\u4ea4\\u8fd0\\u8bbe\\u5907\", \"counts\": 44}, {\"indu\": \"\\u519c\\u836f\\u517d\\u836f\", \"counts\": 45}, {\"indu\": \"\\u94a2\\u94c1\\u884c\\u4e1a\", \"counts\": 46}, {\"indu\": \"\\u5149\\u4f0f\\u8bbe\\u5907\", \"counts\": 47}, {\"indu\": \"\\u88c5\\u4fee\\u88c5\\u9970\", \"counts\": 47}, {\"indu\": \"\\u8ba1\\u7b97\\u673a\\u8bbe\\u5907\", \"counts\": 48}, {\"indu\": \"\\u8bc1\\u5238\", \"counts\": 49}, {\"indu\": \"\\u7535\\u6c60\", \"counts\": 51}, {\"indu\": \"\\u7269\\u6d41\\u884c\\u4e1a\", \"counts\": 55}, {\"indu\": \"\\u4eea\\u5668\\u4eea\\u8868\", \"counts\": 59}, {\"indu\": \"\\u5546\\u4e1a\\u767e\\u8d27\", \"counts\": 65}, {\"indu\": \"\\u751f\\u7269\\u5236\\u54c1\", \"counts\": 66}, {\"indu\": \"\\u88c5\\u4fee\\u5efa\\u6750\", \"counts\": 69}, {\"indu\": \"\\u5de5\\u7a0b\\u5efa\\u8bbe\", \"counts\": 72}, {\"indu\": \"\\u4e2d\\u836f\", \"counts\": 73}, {\"indu\": \"\\u5316\\u5b66\\u539f\\u6599\", \"counts\": 74}, {\"indu\": \"\\u6709\\u8272\\u91d1\\u5c5e\", \"counts\": 75}, {\"indu\": \"\\u519c\\u7267\\u9972\\u6e14\", \"counts\": 77}, {\"indu\": \"\\u7535\\u529b\\u884c\\u4e1a\", \"counts\": 78}, {\"indu\": \"\\u5851\\u6599\\u5236\\u54c1\", \"counts\": 80}, {\"indu\": \"\\u5bb6\\u7535\\u884c\\u4e1a\", \"counts\": 88}, {\"indu\": \"\\u6d88\\u8d39\\u7535\\u5b50\", \"counts\": 90}, {\"indu\": \"\\u5149\\u5b66\\u5149\\u7535\\u5b50\", \"counts\": 98}, {\"indu\": \"\\u623f\\u5730\\u4ea7\\u5f00\\u53d1\", \"counts\": 100}, {\"indu\": \"\\u7eba\\u7ec7\\u670d\\u88c5\", \"counts\": 102}, {\"indu\": \"\\u901a\\u4fe1\\u8bbe\\u5907\", \"counts\": 103}, {\"indu\": \"\\u6587\\u5316\\u4f20\\u5a92\", \"counts\": 111}, {\"indu\": \"\\u73af\\u4fdd\\u884c\\u4e1a\", \"counts\": 116}, {\"indu\": \"\\u98df\\u54c1\\u996e\\u6599\", \"counts\": 117}, {\"indu\": \"\\u533b\\u7597\\u5668\\u68b0\", \"counts\": 118}, {\"indu\": \"\\u7535\\u5b50\\u5143\\u4ef6\", \"counts\": 127}, {\"indu\": \"\\u7535\\u7f51\\u8bbe\\u5907\", \"counts\": 130}, {\"indu\": \"\\u534a\\u5bfc\\u4f53\", \"counts\": 130}, {\"indu\": \"\\u5316\\u5b66\\u5236\\u836f\", \"counts\": 137}, {\"indu\": \"\\u4e92\\u8054\\u7f51\\u670d\\u52a1\", \"counts\": 140}, {\"indu\": \"\\u5316\\u5b66\\u5236\\u54c1\", \"counts\": 144}, {\"indu\": \"\\u8f6f\\u4ef6\\u5f00\\u53d1\", \"counts\": 174}, {\"indu\": \"\\u901a\\u7528\\u8bbe\\u5907\", \"counts\": 180}, {\"indu\": \"\\u6c7d\\u8f66\\u96f6\\u90e8\\u4ef6\", \"counts\": 190}, {\"indu\": \"\\u4e13\\u7528\\u8bbe\\u5907\", \"counts\": 237}]}}, {\"mode\": \"vega-lite\"});\n",
       "</script>"
      ],
      "text/plain": [
       "alt.Chart(...)"
      ]
     },
     "execution_count": 76,
     "metadata": {},
     "output_type": "execute_result"
    }
   ],
   "source": [
    "indu_counts = code.groupby('indu')['code'].count().sort_values().to_frame('counts').reset_index()\n",
    "alt.Chart(indu_counts).mark_bar().encode(\n",
    "    alt.Y('counts:Q').bin(step = 20),\n",
    "    alt.X('count()')\n",
    ").properties(\n",
    "    width='container',\n",
    "    height=400\n",
    ")"
   ]
  },
  {
   "cell_type": "code",
   "execution_count": null,
   "metadata": {},
   "outputs": [],
   "source": []
  }
 ],
 "metadata": {
  "kernelspec": {
   "display_name": ".venv",
   "language": "python",
   "name": "python3"
  },
  "language_info": {
   "codemirror_mode": {
    "name": "ipython",
    "version": 3
   },
   "file_extension": ".py",
   "mimetype": "text/x-python",
   "name": "python",
   "nbconvert_exporter": "python",
   "pygments_lexer": "ipython3",
   "version": "3.12.3"
  }
 },
 "nbformat": 4,
 "nbformat_minor": 2
}