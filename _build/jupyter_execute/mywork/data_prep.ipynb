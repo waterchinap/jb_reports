{
 "cells": [
  {
   "cell_type": "code",
   "execution_count": 1,
   "metadata": {},
   "outputs": [
    {
     "ename": "ModuleNotFoundError",
     "evalue": "No module named 'altair'",
     "output_type": "error",
     "traceback": [
      "\u001b[0;31m---------------------------------------------------------------------------\u001b[0m",
      "\u001b[0;31mModuleNotFoundError\u001b[0m                       Traceback (most recent call last)",
      "Cell \u001b[0;32mIn[1], line 3\u001b[0m\n\u001b[1;32m      1\u001b[0m \u001b[38;5;28;01mimport\u001b[39;00m \u001b[38;5;21;01mpandas\u001b[39;00m \u001b[38;5;28;01mas\u001b[39;00m \u001b[38;5;21;01mpd\u001b[39;00m\n\u001b[1;32m      2\u001b[0m \u001b[38;5;28;01mimport\u001b[39;00m \u001b[38;5;21;01mnumpy\u001b[39;00m \u001b[38;5;28;01mas\u001b[39;00m \u001b[38;5;21;01mnp\u001b[39;00m\n\u001b[0;32m----> 3\u001b[0m \u001b[38;5;28;01mimport\u001b[39;00m \u001b[38;5;21;01maltair\u001b[39;00m \u001b[38;5;28;01mas\u001b[39;00m \u001b[38;5;21;01malt\u001b[39;00m\n\u001b[1;32m      4\u001b[0m \u001b[38;5;28;01mfrom\u001b[39;00m \u001b[38;5;21;01mIPython\u001b[39;00m\u001b[38;5;21;01m.\u001b[39;00m\u001b[38;5;21;01mdisplay\u001b[39;00m \u001b[38;5;28;01mimport\u001b[39;00m HTML\n",
      "\u001b[0;31mModuleNotFoundError\u001b[0m: No module named 'altair'"
     ]
    }
   ],
   "source": [
    "import pandas as pd\n",
    "import numpy as np\n",
    "import altair as alt\n",
    "from IPython.display import HTML"
   ]
  },
  {
   "attachments": {},
   "cell_type": "markdown",
   "metadata": {},
   "source": [
    "# 上市公司利润分析\n",
    "\n",
    "## 数据准备\n",
    "- 从交易所取下的上市公司列表，不包括B股。\n",
    "- 从东方财富取下的行业分类数据。\n",
    "- 从东方财富取下的业绩快报数据。"
   ]
  },
  {
   "cell_type": "code",
   "execution_count": 7,
   "metadata": {
    "tags": [
     "remove-cell"
    ]
   },
   "outputs": [],
   "source": [
    "def showProfile(df) :\n",
    "    col_profile = pd.concat([df.dtypes, df.isna().sum()/len(df)*100, df.sample().T], axis=1 ).reset_index()\n",
    "    col_profile.columns = ['列名', '类型', '缺失比%','样例']\n",
    "    print(df.shape)\n",
    "    return (col_profile)"
   ]
  },
  {
   "cell_type": "code",
   "execution_count": 8,
   "metadata": {
    "tags": [
     "remove-cell"
    ]
   },
   "outputs": [],
   "source": [
    "# load data\n",
    "code = pd.read_pickle('../../ex_list_basic_20230529.pkl')\n",
    "indu = pd.read_pickle('../../em_code_indu.pkl')\n",
    "df = pd.read_pickle('../../yjbg2022q4.pkl.gz')"
   ]
  },
  {
   "cell_type": "code",
   "execution_count": 9,
   "metadata": {},
   "outputs": [
    {
     "name": "stdout",
     "output_type": "stream",
     "text": [
      "(320679, 11)\n"
     ]
    },
    {
     "data": {
      "text/html": [
       "<div>\n",
       "<style scoped>\n",
       "    .dataframe tbody tr th:only-of-type {\n",
       "        vertical-align: middle;\n",
       "    }\n",
       "\n",
       "    .dataframe tbody tr th {\n",
       "        vertical-align: top;\n",
       "    }\n",
       "\n",
       "    .dataframe thead th {\n",
       "        text-align: right;\n",
       "    }\n",
       "</style>\n",
       "<table border=\"1\" class=\"dataframe\">\n",
       "  <thead>\n",
       "    <tr style=\"text-align: right;\">\n",
       "      <th></th>\n",
       "      <th>列名</th>\n",
       "      <th>类型</th>\n",
       "      <th>缺失比%</th>\n",
       "      <th>样例</th>\n",
       "    </tr>\n",
       "  </thead>\n",
       "  <tbody>\n",
       "    <tr>\n",
       "      <th>0</th>\n",
       "      <td>股票代码</td>\n",
       "      <td>object</td>\n",
       "      <td>0.000000</td>\n",
       "      <td>872810</td>\n",
       "    </tr>\n",
       "    <tr>\n",
       "      <th>1</th>\n",
       "      <td>股票简称</td>\n",
       "      <td>object</td>\n",
       "      <td>0.000000</td>\n",
       "      <td>国拓科技</td>\n",
       "    </tr>\n",
       "    <tr>\n",
       "      <th>2</th>\n",
       "      <td>每股收益</td>\n",
       "      <td>float64</td>\n",
       "      <td>1.772489</td>\n",
       "      <td>0.22</td>\n",
       "    </tr>\n",
       "    <tr>\n",
       "      <th>3</th>\n",
       "      <td>营业收入-营业收入</td>\n",
       "      <td>float64</td>\n",
       "      <td>0.188974</td>\n",
       "      <td>57384790.22</td>\n",
       "    </tr>\n",
       "    <tr>\n",
       "      <th>4</th>\n",
       "      <td>净利润-净利润</td>\n",
       "      <td>float64</td>\n",
       "      <td>0.026506</td>\n",
       "      <td>10822362.5</td>\n",
       "    </tr>\n",
       "    <tr>\n",
       "      <th>5</th>\n",
       "      <td>每股净资产</td>\n",
       "      <td>float64</td>\n",
       "      <td>4.812289</td>\n",
       "      <td>2.842418</td>\n",
       "    </tr>\n",
       "    <tr>\n",
       "      <th>6</th>\n",
       "      <td>净资产收益率</td>\n",
       "      <td>float64</td>\n",
       "      <td>2.447307</td>\n",
       "      <td>7.92</td>\n",
       "    </tr>\n",
       "    <tr>\n",
       "      <th>7</th>\n",
       "      <td>每股经营现金流量</td>\n",
       "      <td>float64</td>\n",
       "      <td>4.056393</td>\n",
       "      <td>0.311391</td>\n",
       "    </tr>\n",
       "    <tr>\n",
       "      <th>8</th>\n",
       "      <td>销售毛利率</td>\n",
       "      <td>float64</td>\n",
       "      <td>2.401467</td>\n",
       "      <td>43.542055</td>\n",
       "    </tr>\n",
       "    <tr>\n",
       "      <th>9</th>\n",
       "      <td>最新公告日期</td>\n",
       "      <td>object</td>\n",
       "      <td>0.000000</td>\n",
       "      <td>2022-10-25</td>\n",
       "    </tr>\n",
       "    <tr>\n",
       "      <th>10</th>\n",
       "      <td>qs</td>\n",
       "      <td>object</td>\n",
       "      <td>0.000000</td>\n",
       "      <td>20220930</td>\n",
       "    </tr>\n",
       "  </tbody>\n",
       "</table>\n",
       "</div>"
      ],
      "text/plain": [
       "           列名       类型      缺失比%           样例\n",
       "0        股票代码   object  0.000000       872810\n",
       "1        股票简称   object  0.000000         国拓科技\n",
       "2        每股收益  float64  1.772489         0.22\n",
       "3   营业收入-营业收入  float64  0.188974  57384790.22\n",
       "4     净利润-净利润  float64  0.026506   10822362.5\n",
       "5       每股净资产  float64  4.812289     2.842418\n",
       "6      净资产收益率  float64  2.447307         7.92\n",
       "7    每股经营现金流量  float64  4.056393     0.311391\n",
       "8       销售毛利率  float64  2.401467    43.542055\n",
       "9      最新公告日期   object  0.000000   2022-10-25\n",
       "10         qs   object  0.000000     20220930"
      ]
     },
     "execution_count": 9,
     "metadata": {},
     "output_type": "execute_result"
    }
   ],
   "source": [
    "showProfile(df)"
   ]
  },
  {
   "cell_type": "code",
   "execution_count": 10,
   "metadata": {
    "tags": [
     "remove-cell"
    ]
   },
   "outputs": [],
   "source": [
    "# select A share from all codes\n",
    "code = code[code.market != '主板B股']\n",
    "\n",
    "code['ly'] = pd.to_datetime(code['list_day']).dt.year\n",
    "code['ly'] = code['ly'].apply(lambda x: x if x>2010 else 2010)\n",
    "# exclude 2023 ipos\n",
    "code_sel = code[code['ly'] < 2023]\n",
    "\n",
    "# select yearly profit from yjbg\n",
    "df = df.iloc[:,[0,1,4,10]]\n",
    "df.columns = ['code', 'name', 'profit','year']\n",
    "sel = df[(df['year'].str[4:] == '1231') & (df.code.isin(code_sel.code)==True)]\n",
    "sel.loc[:,'year'] = sel['year'].str[0:4].astype('int32')\n",
    "sel = sel[sel['year'] > 2009]\n",
    "\n",
    "# merge listed year to the profit df\n",
    "sel = sel.merge(code_sel[['code','ly']])\n",
    "# select data only in and after list year\n",
    "sel = sel[sel['year'] >= sel['ly']]"
   ]
  },
  {
   "cell_type": "code",
   "execution_count": 11,
   "metadata": {},
   "outputs": [
    {
     "name": "stdout",
     "output_type": "stream",
     "text": [
      "(41283, 5)\n"
     ]
    },
    {
     "data": {
      "text/html": [
       "<div>\n",
       "<style scoped>\n",
       "    .dataframe tbody tr th:only-of-type {\n",
       "        vertical-align: middle;\n",
       "    }\n",
       "\n",
       "    .dataframe tbody tr th {\n",
       "        vertical-align: top;\n",
       "    }\n",
       "\n",
       "    .dataframe thead th {\n",
       "        text-align: right;\n",
       "    }\n",
       "</style>\n",
       "<table border=\"1\" class=\"dataframe\">\n",
       "  <thead>\n",
       "    <tr style=\"text-align: right;\">\n",
       "      <th></th>\n",
       "      <th>列名</th>\n",
       "      <th>类型</th>\n",
       "      <th>缺失比%</th>\n",
       "      <th>样例</th>\n",
       "    </tr>\n",
       "  </thead>\n",
       "  <tbody>\n",
       "    <tr>\n",
       "      <th>0</th>\n",
       "      <td>code</td>\n",
       "      <td>object</td>\n",
       "      <td>0.0</td>\n",
       "      <td>002522</td>\n",
       "    </tr>\n",
       "    <tr>\n",
       "      <th>1</th>\n",
       "      <td>name</td>\n",
       "      <td>object</td>\n",
       "      <td>0.0</td>\n",
       "      <td>浙江众成</td>\n",
       "    </tr>\n",
       "    <tr>\n",
       "      <th>2</th>\n",
       "      <td>profit</td>\n",
       "      <td>float64</td>\n",
       "      <td>0.0</td>\n",
       "      <td>64161660.67</td>\n",
       "    </tr>\n",
       "    <tr>\n",
       "      <th>3</th>\n",
       "      <td>year</td>\n",
       "      <td>object</td>\n",
       "      <td>0.0</td>\n",
       "      <td>2019</td>\n",
       "    </tr>\n",
       "    <tr>\n",
       "      <th>4</th>\n",
       "      <td>ly</td>\n",
       "      <td>int64</td>\n",
       "      <td>0.0</td>\n",
       "      <td>2010</td>\n",
       "    </tr>\n",
       "  </tbody>\n",
       "</table>\n",
       "</div>"
      ],
      "text/plain": [
       "       列名       类型  缺失比%           样例\n",
       "0    code   object   0.0       002522\n",
       "1    name   object   0.0         浙江众成\n",
       "2  profit  float64   0.0  64161660.67\n",
       "3    year   object   0.0         2019\n",
       "4      ly    int64   0.0         2010"
      ]
     },
     "execution_count": 11,
     "metadata": {},
     "output_type": "execute_result"
    }
   ],
   "source": [
    "showProfile(sel)"
   ]
  },
  {
   "cell_type": "code",
   "execution_count": 12,
   "metadata": {
    "tags": [
     "remove-cell"
    ]
   },
   "outputs": [],
   "source": [
    "# pivot the sum of each year\n",
    "sel_table = sel.pivot_table(index='ly', columns='year', values='profit', aggfunc='sum')\n",
    "\n",
    "# 分别计算出总利润，总利润增长，新上市引起的利润增长，以及已上市公司的利润增长。\n",
    "\n",
    "# 总利润\n",
    "total_sum= sel_table.sum()\n",
    "# 总利润增长\n",
    "total_inc = total_sum.diff()\n",
    "total_inc.values[0] = 0\n",
    "# 新上市引起的利润增长\n",
    "li = []\n",
    "for i in range(0, len(sel_table)):\n",
    "    li.append(sel_table.iat[i,i])\n",
    "new_inc = pd.Series(li, index=total_inc.index)\n",
    "new_inc.values[0] = 0\n",
    "# 已上市公司的利润增长\n",
    "old_inc = total_inc - new_inc\n",
    "old_inc.values[0] = 0\n",
    "# 上一年基数\n",
    "base = total_sum - new_inc - old_inc\n",
    "base.values[0] = total_sum.values[0]\n",
    "\n",
    "inc_df = pd.DataFrame([base, old_inc, new_inc]).T\n",
    "inc_df.columns = ['base', '增长驱动', '新发驱动']"
   ]
  },
  {
   "cell_type": "code",
   "execution_count": 13,
   "metadata": {
    "tags": [
     "remove-cell"
    ]
   },
   "outputs": [],
   "source": [
    "# 利润的一些统计值\n",
    "profit_quant = sel.groupby('year')['profit'].agg(['mean', 'median', 'idxmin', 'idxmax', 'count']).reset_index()\n"
   ]
  },
  {
   "attachments": {},
   "cell_type": "markdown",
   "metadata": {},
   "source": [
    "## 上市公司利润总和的变化\n",
    "- 上市当年的数据计入上市公司总盘子。上市之前的数据不计入。\n",
    "- 如果把全体上市公司当做一个公司，以2010年底数为基数，则近12年来的几何平均增长率为10%"
   ]
  },
  {
   "cell_type": "code",
   "execution_count": 14,
   "metadata": {
    "tags": [
     "remove-input"
    ]
   },
   "outputs": [
    {
     "data": {
      "text/html": [
       "\n",
       "<style>\n",
       "  #altair-viz-207a797e9ba5489db80388e45ed7f77c.vega-embed {\n",
       "    width: 100%;\n",
       "    display: flex;\n",
       "  }\n",
       "\n",
       "  #altair-viz-207a797e9ba5489db80388e45ed7f77c.vega-embed details,\n",
       "  #altair-viz-207a797e9ba5489db80388e45ed7f77c.vega-embed details summary {\n",
       "    position: relative;\n",
       "  }\n",
       "</style>\n",
       "<div id=\"altair-viz-207a797e9ba5489db80388e45ed7f77c\"></div>\n",
       "<script type=\"text/javascript\">\n",
       "  var VEGA_DEBUG = (typeof VEGA_DEBUG == \"undefined\") ? {} : VEGA_DEBUG;\n",
       "  (function(spec, embedOpt){\n",
       "    let outputDiv = document.currentScript.previousElementSibling;\n",
       "    if (outputDiv.id !== \"altair-viz-207a797e9ba5489db80388e45ed7f77c\") {\n",
       "      outputDiv = document.getElementById(\"altair-viz-207a797e9ba5489db80388e45ed7f77c\");\n",
       "    }\n",
       "    const paths = {\n",
       "      \"vega\": \"https://cdn.jsdelivr.net/npm/vega@5?noext\",\n",
       "      \"vega-lib\": \"https://cdn.jsdelivr.net/npm/vega-lib?noext\",\n",
       "      \"vega-lite\": \"https://cdn.jsdelivr.net/npm/vega-lite@5.8.0?noext\",\n",
       "      \"vega-embed\": \"https://cdn.jsdelivr.net/npm/vega-embed@6?noext\",\n",
       "    };\n",
       "\n",
       "    function maybeLoadScript(lib, version) {\n",
       "      var key = `${lib.replace(\"-\", \"\")}_version`;\n",
       "      return (VEGA_DEBUG[key] == version) ?\n",
       "        Promise.resolve(paths[lib]) :\n",
       "        new Promise(function(resolve, reject) {\n",
       "          var s = document.createElement('script');\n",
       "          document.getElementsByTagName(\"head\")[0].appendChild(s);\n",
       "          s.async = true;\n",
       "          s.onload = () => {\n",
       "            VEGA_DEBUG[key] = version;\n",
       "            return resolve(paths[lib]);\n",
       "          };\n",
       "          s.onerror = () => reject(`Error loading script: ${paths[lib]}`);\n",
       "          s.src = paths[lib];\n",
       "        });\n",
       "    }\n",
       "\n",
       "    function showError(err) {\n",
       "      outputDiv.innerHTML = `<div class=\"error\" style=\"color:red;\">${err}</div>`;\n",
       "      throw err;\n",
       "    }\n",
       "\n",
       "    function displayChart(vegaEmbed) {\n",
       "      vegaEmbed(outputDiv, spec, embedOpt)\n",
       "        .catch(err => showError(`Javascript Error: ${err.message}<br>This usually means there's a typo in your chart specification. See the javascript console for the full traceback.`));\n",
       "    }\n",
       "\n",
       "    if(typeof define === \"function\" && define.amd) {\n",
       "      requirejs.config({paths});\n",
       "      require([\"vega-embed\"], displayChart, err => showError(`Error loading script: ${err.message}`));\n",
       "    } else {\n",
       "      maybeLoadScript(\"vega\", \"5\")\n",
       "        .then(() => maybeLoadScript(\"vega-lite\", \"5.8.0\"))\n",
       "        .then(() => maybeLoadScript(\"vega-embed\", \"6\"))\n",
       "        .catch(showError)\n",
       "        .then(() => displayChart(vegaEmbed));\n",
       "    }\n",
       "  })({\"config\": {\"view\": {\"continuousWidth\": 300, \"continuousHeight\": 300}}, \"data\": {\"name\": \"data-4b4aa0c087757c2e8b40dc55fe47b66a\"}, \"mark\": {\"type\": \"bar\"}, \"encoding\": {\"x\": {\"axis\": {\"format\": \".2s\"}, \"field\": \"profit\", \"type\": \"quantitative\"}, \"y\": {\"field\": \"year\", \"type\": \"ordinal\"}}, \"height\": 340, \"title\": \"\\u603b\\u5229\\u6da6\\u53d8\\u5316\", \"width\": \"container\", \"$schema\": \"https://vega.github.io/schema/vega-lite/v5.8.0.json\", \"datasets\": {\"data-4b4aa0c087757c2e8b40dc55fe47b66a\": [{\"year\": 2010, \"profit\": 1639755382273.81}, {\"year\": 2011, \"profit\": 1895460237203.5}, {\"year\": 2012, \"profit\": 1944562706111.8801}, {\"year\": 2013, \"profit\": 2243097185672.0503}, {\"year\": 2014, \"profit\": 2438536459615.01}, {\"year\": 2015, \"profit\": 2509332378330.2295}, {\"year\": 2016, \"profit\": 2724844403120.15}, {\"year\": 2017, \"profit\": 3351079314140.4297}, {\"year\": 2018, \"profit\": 3451202502101.3906}, {\"year\": 2019, \"profit\": 3852874361561.71}, {\"year\": 2020, \"profit\": 4022474245413.57}, {\"year\": 2021, \"profit\": 4890493084267.709}, {\"year\": 2022, \"profit\": 5186771166747.701}]}}, {\"mode\": \"vega-lite\"});\n",
       "</script>"
      ],
      "text/plain": [
       "alt.Chart(...)"
      ]
     },
     "execution_count": 14,
     "metadata": {},
     "output_type": "execute_result"
    }
   ],
   "source": [
    "df_total = total_sum.to_frame('profit').reset_index()\n",
    "alt.Chart(df_total).mark_bar().encode(\n",
    "    alt.X('profit:Q').axis(format='.2s'),\n",
    "    alt.Y('year:O')\n",
    ").properties(\n",
    "    title = '总利润变化',\n",
    "    width = 'container',\n",
    "    height = 340\n",
    ")"
   ]
  },
  {
   "cell_type": "code",
   "execution_count": 15,
   "metadata": {
    "tags": [
     "remove-input"
    ]
   },
   "outputs": [
    {
     "data": {
      "text/html": [
       "\n",
       "      \n",
       "  <style>\n",
       "      .card_group {\n",
       "        display: flex;\n",
       "        flex-wrap: wrap;\n",
       "        justify-content: center;\n",
       "        text-align: center;\n",
       "      }\n",
       "\n",
       "      .card {\n",
       "        display: flex;\n",
       "        flex-direction: column;\n",
       "        justify-content: center;\n",
       "        align-items: center;\n",
       "        background: #fff;\n",
       "        border-radius: 10px;\n",
       "        display: inline-block;\n",
       "        height: 260px;\n",
       "        margin: 1rem;\n",
       "        width: 260px;\n",
       "        box-shadow: 0 3px 6px rgba(0, 0, 0, 0.12), 0 3px 6px rgba(0, 0, 0, 0.24);\n",
       "      }\n",
       "\n",
       "      .card_title {\n",
       "        border-bottom: 5px;\n",
       "        border-bottom-style: dotted;\n",
       "        border-bottom-color: grey;\n",
       "        margin: 5px;\n",
       "        padding: 5px;\n",
       "        font-size: 2em;\n",
       "      }\n",
       "      .card_content {\n",
       "        font-size: 4em;\n",
       "        margin: 5px;\n",
       "        align-self: center;\n",
       "        height: 200px;\n",
       "\n",
       "        display: flex;\n",
       "        align-items: center;\n",
       "        justify-content: center;\n",
       "        justify-items: center;\n",
       "      }\n",
       "    </style>\n",
       "\n",
       "      <div class ='card_group'>\n",
       "      <div class = 'card'>\n",
       "      <div class = 'card_title'>总体年增长率</div>\n",
       "      <div class = 'card_content'>10.07%</div>\n",
       "      </div>\n",
       "      </div>\n"
      ],
      "text/plain": [
       "<IPython.core.display.HTML object>"
      ]
     },
     "execution_count": 15,
     "metadata": {},
     "output_type": "execute_result"
    }
   ],
   "source": [
    "# card the average increace persent\n",
    "a= pow((total_sum.values[-1]/total_sum.values[0]) , (1/12))-1\n",
    "avi = f'{a:.2%}'\n",
    "sty = '''\n",
    "  <style>\n",
    "      .card_group {\n",
    "        display: flex;\n",
    "        flex-wrap: wrap;\n",
    "        justify-content: center;\n",
    "        text-align: center;\n",
    "      }\n",
    "\n",
    "      .card {\n",
    "        display: flex;\n",
    "        flex-direction: column;\n",
    "        justify-content: center;\n",
    "        align-items: center;\n",
    "        background: #fff;\n",
    "        border-radius: 10px;\n",
    "        display: inline-block;\n",
    "        height: 260px;\n",
    "        margin: 1rem;\n",
    "        width: 260px;\n",
    "        box-shadow: 0 3px 6px rgba(0, 0, 0, 0.12), 0 3px 6px rgba(0, 0, 0, 0.24);\n",
    "      }\n",
    "\n",
    "      .card_title {\n",
    "        border-bottom: 5px;\n",
    "        border-bottom-style: dotted;\n",
    "        border-bottom-color: grey;\n",
    "        margin: 5px;\n",
    "        padding: 5px;\n",
    "        font-size: 2em;\n",
    "      }\n",
    "      .card_content {\n",
    "        font-size: 4em;\n",
    "        margin: 5px;\n",
    "        align-self: center;\n",
    "        height: 200px;\n",
    "\n",
    "        display: flex;\n",
    "        align-items: center;\n",
    "        justify-content: center;\n",
    "        justify-items: center;\n",
    "      }\n",
    "    </style>\n",
    "'''\n",
    "\n",
    "card = f'''\n",
    "      {sty}\n",
    "      <div class ='card_group'>\n",
    "      <div class = 'card'>\n",
    "      <div class = 'card_title'>总体年增长率</div>\n",
    "      <div class = 'card_content'>{avi}</div>\n",
    "      </div>\n",
    "      </div>\n",
    "'''\n",
    "HTML(card)"
   ]
  },
  {
   "attachments": {},
   "cell_type": "markdown",
   "metadata": {},
   "source": [
    "- 上市公司总体利润保持增长,特别是疫情爆发后第2年,即2021年,出现了爆涨.\n",
    "- 近12年的增长率为10%\n",
    "\n",
    "以下观察利润的主要统计指标:"
   ]
  },
  {
   "cell_type": "code",
   "execution_count": 16,
   "metadata": {
    "tags": [
     "remove-input"
    ]
   },
   "outputs": [
    {
     "data": {
      "text/html": [
       "\n",
       "<style>\n",
       "  #altair-viz-f518112a8bdc441abe55bcca262bf82f.vega-embed {\n",
       "    width: 100%;\n",
       "    display: flex;\n",
       "  }\n",
       "\n",
       "  #altair-viz-f518112a8bdc441abe55bcca262bf82f.vega-embed details,\n",
       "  #altair-viz-f518112a8bdc441abe55bcca262bf82f.vega-embed details summary {\n",
       "    position: relative;\n",
       "  }\n",
       "</style>\n",
       "<div id=\"altair-viz-f518112a8bdc441abe55bcca262bf82f\"></div>\n",
       "<script type=\"text/javascript\">\n",
       "  var VEGA_DEBUG = (typeof VEGA_DEBUG == \"undefined\") ? {} : VEGA_DEBUG;\n",
       "  (function(spec, embedOpt){\n",
       "    let outputDiv = document.currentScript.previousElementSibling;\n",
       "    if (outputDiv.id !== \"altair-viz-f518112a8bdc441abe55bcca262bf82f\") {\n",
       "      outputDiv = document.getElementById(\"altair-viz-f518112a8bdc441abe55bcca262bf82f\");\n",
       "    }\n",
       "    const paths = {\n",
       "      \"vega\": \"https://cdn.jsdelivr.net/npm/vega@5?noext\",\n",
       "      \"vega-lib\": \"https://cdn.jsdelivr.net/npm/vega-lib?noext\",\n",
       "      \"vega-lite\": \"https://cdn.jsdelivr.net/npm/vega-lite@5.8.0?noext\",\n",
       "      \"vega-embed\": \"https://cdn.jsdelivr.net/npm/vega-embed@6?noext\",\n",
       "    };\n",
       "\n",
       "    function maybeLoadScript(lib, version) {\n",
       "      var key = `${lib.replace(\"-\", \"\")}_version`;\n",
       "      return (VEGA_DEBUG[key] == version) ?\n",
       "        Promise.resolve(paths[lib]) :\n",
       "        new Promise(function(resolve, reject) {\n",
       "          var s = document.createElement('script');\n",
       "          document.getElementsByTagName(\"head\")[0].appendChild(s);\n",
       "          s.async = true;\n",
       "          s.onload = () => {\n",
       "            VEGA_DEBUG[key] = version;\n",
       "            return resolve(paths[lib]);\n",
       "          };\n",
       "          s.onerror = () => reject(`Error loading script: ${paths[lib]}`);\n",
       "          s.src = paths[lib];\n",
       "        });\n",
       "    }\n",
       "\n",
       "    function showError(err) {\n",
       "      outputDiv.innerHTML = `<div class=\"error\" style=\"color:red;\">${err}</div>`;\n",
       "      throw err;\n",
       "    }\n",
       "\n",
       "    function displayChart(vegaEmbed) {\n",
       "      vegaEmbed(outputDiv, spec, embedOpt)\n",
       "        .catch(err => showError(`Javascript Error: ${err.message}<br>This usually means there's a typo in your chart specification. See the javascript console for the full traceback.`));\n",
       "    }\n",
       "\n",
       "    if(typeof define === \"function\" && define.amd) {\n",
       "      requirejs.config({paths});\n",
       "      require([\"vega-embed\"], displayChart, err => showError(`Error loading script: ${err.message}`));\n",
       "    } else {\n",
       "      maybeLoadScript(\"vega\", \"5\")\n",
       "        .then(() => maybeLoadScript(\"vega-lite\", \"5.8.0\"))\n",
       "        .then(() => maybeLoadScript(\"vega-embed\", \"6\"))\n",
       "        .catch(showError)\n",
       "        .then(() => displayChart(vegaEmbed));\n",
       "    }\n",
       "  })({\"config\": {\"view\": {\"continuousWidth\": 300, \"continuousHeight\": 300}}, \"data\": {\"name\": \"data-040b2dbae7ac42c2b01ea01091681ee2\"}, \"mark\": {\"type\": \"bar\"}, \"encoding\": {\"x\": {\"axis\": {\"format\": \".2s\"}, \"field\": \"mean\", \"type\": \"quantitative\"}, \"y\": {\"field\": \"year\", \"type\": \"ordinal\"}}, \"height\": 340, \"title\": \"\\u4e0a\\u5e02\\u516c\\u53f8\\u5229\\u6da6\\u5e73\\u5747\\u503c\\u53d8\\u5316\", \"width\": \"container\", \"$schema\": \"https://vega.github.io/schema/vega-lite/v5.8.0.json\", \"datasets\": {\"data-040b2dbae7ac42c2b01ea01091681ee2\": [{\"year\": 2010, \"mean\": 846981085.8852324, \"median\": 92750928.21, \"idxmin\": 16515, \"idxmax\": 17346, \"count\": 1936}, {\"year\": 2011, \"mean\": 858062579.0871435, \"median\": 93518241.19, \"idxmin\": 17269, \"idxmax\": 17347, \"count\": 2209}, {\"year\": 2012, \"mean\": 824316535.0198729, \"median\": 82868950.38, \"idxmin\": 17270, \"idxmax\": 17348, \"count\": 2359}, {\"year\": 2013, \"mean\": 950062340.3947691, \"median\": 89959637.36, \"idxmin\": 25266, \"idxmax\": 17349, \"count\": 2361}, {\"year\": 2014, \"mean\": 982488501.0535897, \"median\": 98669641.08500001, \"idxmin\": 26138, \"idxmax\": 17350, \"count\": 2482}, {\"year\": 2015, \"mean\": 928694440.5367247, \"median\": 100061152.865, \"idxmin\": 22070, \"idxmax\": 17351, \"count\": 2702}, {\"year\": 2016, \"mean\": 930298532.9874189, \"median\": 122910313.51, \"idxmin\": 21720, \"idxmax\": 17352, \"count\": 2929}, {\"year\": 2017, \"mean\": 995567235.3358378, \"median\": 132433903.395, \"idxmin\": 21721, \"idxmax\": 17353, \"count\": 3366}, {\"year\": 2018, \"mean\": 994296312.9073437, \"median\": 126978510.49, \"idxmin\": 15173, \"idxmax\": 17354, \"count\": 3471}, {\"year\": 2019, \"mean\": 1048686543.702153, \"median\": 132002951.33500001, \"idxmin\": 20111, \"idxmax\": 17355, \"count\": 3674}, {\"year\": 2020, \"mean\": 979180682.9146956, \"median\": 129792827.14500001, \"idxmin\": 16668, \"idxmax\": 17356, \"count\": 4108}, {\"year\": 2021, \"mean\": 1055805933.5638406, \"median\": 130452710.97, \"idxmin\": 17201, \"idxmax\": 17357, \"count\": 4632}, {\"year\": 2022, \"mean\": 1026270511.8218639, \"median\": 106183271.13499999, \"idxmin\": 20426, \"idxmax\": 17358, \"count\": 5054}]}}, {\"mode\": \"vega-lite\"});\n",
       "</script>"
      ],
      "text/plain": [
       "alt.Chart(...)"
      ]
     },
     "execution_count": 16,
     "metadata": {},
     "output_type": "execute_result"
    }
   ],
   "source": [
    "alt.Chart(profit_quant).mark_bar().encode(\n",
    "    alt.X('mean:Q').axis(format='.2s'),\n",
    "    alt.Y('year:O')\n",
    ").properties(\n",
    "    title = '上市公司利润平均值变化',\n",
    "    width = 'container',\n",
    "    height = 340\n",
    ")"
   ]
  },
  {
   "cell_type": "code",
   "execution_count": 17,
   "metadata": {
    "tags": [
     "remove-input"
    ]
   },
   "outputs": [
    {
     "data": {
      "text/html": [
       "\n",
       "<style>\n",
       "  #altair-viz-8ff7a8c81dd04323bf4698cca9313689.vega-embed {\n",
       "    width: 100%;\n",
       "    display: flex;\n",
       "  }\n",
       "\n",
       "  #altair-viz-8ff7a8c81dd04323bf4698cca9313689.vega-embed details,\n",
       "  #altair-viz-8ff7a8c81dd04323bf4698cca9313689.vega-embed details summary {\n",
       "    position: relative;\n",
       "  }\n",
       "</style>\n",
       "<div id=\"altair-viz-8ff7a8c81dd04323bf4698cca9313689\"></div>\n",
       "<script type=\"text/javascript\">\n",
       "  var VEGA_DEBUG = (typeof VEGA_DEBUG == \"undefined\") ? {} : VEGA_DEBUG;\n",
       "  (function(spec, embedOpt){\n",
       "    let outputDiv = document.currentScript.previousElementSibling;\n",
       "    if (outputDiv.id !== \"altair-viz-8ff7a8c81dd04323bf4698cca9313689\") {\n",
       "      outputDiv = document.getElementById(\"altair-viz-8ff7a8c81dd04323bf4698cca9313689\");\n",
       "    }\n",
       "    const paths = {\n",
       "      \"vega\": \"https://cdn.jsdelivr.net/npm/vega@5?noext\",\n",
       "      \"vega-lib\": \"https://cdn.jsdelivr.net/npm/vega-lib?noext\",\n",
       "      \"vega-lite\": \"https://cdn.jsdelivr.net/npm/vega-lite@5.8.0?noext\",\n",
       "      \"vega-embed\": \"https://cdn.jsdelivr.net/npm/vega-embed@6?noext\",\n",
       "    };\n",
       "\n",
       "    function maybeLoadScript(lib, version) {\n",
       "      var key = `${lib.replace(\"-\", \"\")}_version`;\n",
       "      return (VEGA_DEBUG[key] == version) ?\n",
       "        Promise.resolve(paths[lib]) :\n",
       "        new Promise(function(resolve, reject) {\n",
       "          var s = document.createElement('script');\n",
       "          document.getElementsByTagName(\"head\")[0].appendChild(s);\n",
       "          s.async = true;\n",
       "          s.onload = () => {\n",
       "            VEGA_DEBUG[key] = version;\n",
       "            return resolve(paths[lib]);\n",
       "          };\n",
       "          s.onerror = () => reject(`Error loading script: ${paths[lib]}`);\n",
       "          s.src = paths[lib];\n",
       "        });\n",
       "    }\n",
       "\n",
       "    function showError(err) {\n",
       "      outputDiv.innerHTML = `<div class=\"error\" style=\"color:red;\">${err}</div>`;\n",
       "      throw err;\n",
       "    }\n",
       "\n",
       "    function displayChart(vegaEmbed) {\n",
       "      vegaEmbed(outputDiv, spec, embedOpt)\n",
       "        .catch(err => showError(`Javascript Error: ${err.message}<br>This usually means there's a typo in your chart specification. See the javascript console for the full traceback.`));\n",
       "    }\n",
       "\n",
       "    if(typeof define === \"function\" && define.amd) {\n",
       "      requirejs.config({paths});\n",
       "      require([\"vega-embed\"], displayChart, err => showError(`Error loading script: ${err.message}`));\n",
       "    } else {\n",
       "      maybeLoadScript(\"vega\", \"5\")\n",
       "        .then(() => maybeLoadScript(\"vega-lite\", \"5.8.0\"))\n",
       "        .then(() => maybeLoadScript(\"vega-embed\", \"6\"))\n",
       "        .catch(showError)\n",
       "        .then(() => displayChart(vegaEmbed));\n",
       "    }\n",
       "  })({\"config\": {\"view\": {\"continuousWidth\": 300, \"continuousHeight\": 300}}, \"data\": {\"name\": \"data-040b2dbae7ac42c2b01ea01091681ee2\"}, \"mark\": {\"type\": \"bar\"}, \"encoding\": {\"x\": {\"axis\": {\"format\": \".2s\"}, \"field\": \"median\", \"type\": \"quantitative\"}, \"y\": {\"field\": \"year\", \"type\": \"ordinal\"}}, \"height\": 340, \"title\": \"\\u4e0a\\u5e02\\u516c\\u53f8\\u5229\\u6da6\\u4e2d\\u4f4d\\u6570\\u53d8\\u5316\", \"width\": \"container\", \"$schema\": \"https://vega.github.io/schema/vega-lite/v5.8.0.json\", \"datasets\": {\"data-040b2dbae7ac42c2b01ea01091681ee2\": [{\"year\": 2010, \"mean\": 846981085.8852324, \"median\": 92750928.21, \"idxmin\": 16515, \"idxmax\": 17346, \"count\": 1936}, {\"year\": 2011, \"mean\": 858062579.0871435, \"median\": 93518241.19, \"idxmin\": 17269, \"idxmax\": 17347, \"count\": 2209}, {\"year\": 2012, \"mean\": 824316535.0198729, \"median\": 82868950.38, \"idxmin\": 17270, \"idxmax\": 17348, \"count\": 2359}, {\"year\": 2013, \"mean\": 950062340.3947691, \"median\": 89959637.36, \"idxmin\": 25266, \"idxmax\": 17349, \"count\": 2361}, {\"year\": 2014, \"mean\": 982488501.0535897, \"median\": 98669641.08500001, \"idxmin\": 26138, \"idxmax\": 17350, \"count\": 2482}, {\"year\": 2015, \"mean\": 928694440.5367247, \"median\": 100061152.865, \"idxmin\": 22070, \"idxmax\": 17351, \"count\": 2702}, {\"year\": 2016, \"mean\": 930298532.9874189, \"median\": 122910313.51, \"idxmin\": 21720, \"idxmax\": 17352, \"count\": 2929}, {\"year\": 2017, \"mean\": 995567235.3358378, \"median\": 132433903.395, \"idxmin\": 21721, \"idxmax\": 17353, \"count\": 3366}, {\"year\": 2018, \"mean\": 994296312.9073437, \"median\": 126978510.49, \"idxmin\": 15173, \"idxmax\": 17354, \"count\": 3471}, {\"year\": 2019, \"mean\": 1048686543.702153, \"median\": 132002951.33500001, \"idxmin\": 20111, \"idxmax\": 17355, \"count\": 3674}, {\"year\": 2020, \"mean\": 979180682.9146956, \"median\": 129792827.14500001, \"idxmin\": 16668, \"idxmax\": 17356, \"count\": 4108}, {\"year\": 2021, \"mean\": 1055805933.5638406, \"median\": 130452710.97, \"idxmin\": 17201, \"idxmax\": 17357, \"count\": 4632}, {\"year\": 2022, \"mean\": 1026270511.8218639, \"median\": 106183271.13499999, \"idxmin\": 20426, \"idxmax\": 17358, \"count\": 5054}]}}, {\"mode\": \"vega-lite\"});\n",
       "</script>"
      ],
      "text/plain": [
       "alt.Chart(...)"
      ]
     },
     "execution_count": 17,
     "metadata": {},
     "output_type": "execute_result"
    }
   ],
   "source": [
    "alt.Chart(profit_quant).mark_bar().encode(\n",
    "    alt.X('median:Q').axis(format='.2s'),\n",
    "    alt.Y('year:O')\n",
    ").properties(\n",
    "    title = '上市公司利润中位数变化',\n",
    "    width = 'container',\n",
    "    height = 340\n",
    ")"
   ]
  },
  {
   "attachments": {},
   "cell_type": "markdown",
   "metadata": {},
   "source": [
    "- 上市公司的平均利润总体略有增长，但2022年有较大下降，大约为10亿左右。\n",
    "- 上市公司利润中位数在2022年急剧下降，略高于1亿。\n",
    "- 平均值和中位数差一个数量级，说明上市公司利润的分布是左偏的。"
   ]
  },
  {
   "cell_type": "code",
   "execution_count": 18,
   "metadata": {
    "tags": [
     "remove-input"
    ]
   },
   "outputs": [
    {
     "data": {
      "text/html": [
       "\n",
       "<style>\n",
       "  #altair-viz-ae8f28f73c5b402999b14e9a85feaa77.vega-embed {\n",
       "    width: 100%;\n",
       "    display: flex;\n",
       "  }\n",
       "\n",
       "  #altair-viz-ae8f28f73c5b402999b14e9a85feaa77.vega-embed details,\n",
       "  #altair-viz-ae8f28f73c5b402999b14e9a85feaa77.vega-embed details summary {\n",
       "    position: relative;\n",
       "  }\n",
       "</style>\n",
       "<div id=\"altair-viz-ae8f28f73c5b402999b14e9a85feaa77\"></div>\n",
       "<script type=\"text/javascript\">\n",
       "  var VEGA_DEBUG = (typeof VEGA_DEBUG == \"undefined\") ? {} : VEGA_DEBUG;\n",
       "  (function(spec, embedOpt){\n",
       "    let outputDiv = document.currentScript.previousElementSibling;\n",
       "    if (outputDiv.id !== \"altair-viz-ae8f28f73c5b402999b14e9a85feaa77\") {\n",
       "      outputDiv = document.getElementById(\"altair-viz-ae8f28f73c5b402999b14e9a85feaa77\");\n",
       "    }\n",
       "    const paths = {\n",
       "      \"vega\": \"https://cdn.jsdelivr.net/npm/vega@5?noext\",\n",
       "      \"vega-lib\": \"https://cdn.jsdelivr.net/npm/vega-lib?noext\",\n",
       "      \"vega-lite\": \"https://cdn.jsdelivr.net/npm/vega-lite@5.8.0?noext\",\n",
       "      \"vega-embed\": \"https://cdn.jsdelivr.net/npm/vega-embed@6?noext\",\n",
       "    };\n",
       "\n",
       "    function maybeLoadScript(lib, version) {\n",
       "      var key = `${lib.replace(\"-\", \"\")}_version`;\n",
       "      return (VEGA_DEBUG[key] == version) ?\n",
       "        Promise.resolve(paths[lib]) :\n",
       "        new Promise(function(resolve, reject) {\n",
       "          var s = document.createElement('script');\n",
       "          document.getElementsByTagName(\"head\")[0].appendChild(s);\n",
       "          s.async = true;\n",
       "          s.onload = () => {\n",
       "            VEGA_DEBUG[key] = version;\n",
       "            return resolve(paths[lib]);\n",
       "          };\n",
       "          s.onerror = () => reject(`Error loading script: ${paths[lib]}`);\n",
       "          s.src = paths[lib];\n",
       "        });\n",
       "    }\n",
       "\n",
       "    function showError(err) {\n",
       "      outputDiv.innerHTML = `<div class=\"error\" style=\"color:red;\">${err}</div>`;\n",
       "      throw err;\n",
       "    }\n",
       "\n",
       "    function displayChart(vegaEmbed) {\n",
       "      vegaEmbed(outputDiv, spec, embedOpt)\n",
       "        .catch(err => showError(`Javascript Error: ${err.message}<br>This usually means there's a typo in your chart specification. See the javascript console for the full traceback.`));\n",
       "    }\n",
       "\n",
       "    if(typeof define === \"function\" && define.amd) {\n",
       "      requirejs.config({paths});\n",
       "      require([\"vega-embed\"], displayChart, err => showError(`Error loading script: ${err.message}`));\n",
       "    } else {\n",
       "      maybeLoadScript(\"vega\", \"5\")\n",
       "        .then(() => maybeLoadScript(\"vega-lite\", \"5.8.0\"))\n",
       "        .then(() => maybeLoadScript(\"vega-embed\", \"6\"))\n",
       "        .catch(showError)\n",
       "        .then(() => displayChart(vegaEmbed));\n",
       "    }\n",
       "  })({\"config\": {\"view\": {\"continuousWidth\": 300, \"continuousHeight\": 300}}, \"layer\": [{\"mark\": {\"type\": \"bar\", \"color\": \"brown\"}, \"encoding\": {\"text\": {\"field\": \"name\", \"type\": \"nominal\"}, \"x\": {\"axis\": {\"format\": \".2s\"}, \"field\": \"profit\", \"type\": \"quantitative\"}, \"y\": {\"field\": \"year\", \"type\": \"ordinal\"}}, \"title\": \"\\u5386\\u5e74\\u4e8f\\u635f\\u738b\"}, {\"mark\": {\"type\": \"text\", \"align\": \"left\", \"color\": \"white\"}, \"encoding\": {\"text\": {\"field\": \"name\", \"type\": \"nominal\"}, \"x\": {\"axis\": {\"format\": \".2s\"}, \"field\": \"profit\", \"type\": \"quantitative\"}, \"y\": {\"field\": \"year\", \"type\": \"ordinal\"}}, \"title\": \"\\u5386\\u5e74\\u4e8f\\u635f\\u738b\"}], \"data\": {\"name\": \"data-45d821d69965bea25fa994e8440049b6\"}, \"height\": 340, \"width\": \"container\", \"$schema\": \"https://vega.github.io/schema/vega-lite/v5.8.0.json\", \"datasets\": {\"data-45d821d69965bea25fa994e8440049b6\": [{\"year\": 2010, \"code\": \"000932\", \"name\": \"\\u534e\\u83f1\\u94a2\\u94c1\", \"profit\": -2643626083.51}, {\"year\": 2011, \"code\": \"601919\", \"name\": \"\\u4e2d\\u8fdc\\u6d77\\u63a7\", \"profit\": -10448856161.2}, {\"year\": 2012, \"code\": \"601919\", \"name\": \"\\u4e2d\\u8fdc\\u6d77\\u63a7\", \"profit\": -9559139238.95}, {\"year\": 2013, \"code\": \"600550\", \"name\": \"\\u4fdd\\u53d8\\u7535\\u6c14\", \"profit\": -5233347041.62}, {\"year\": 2014, \"code\": \"601600\", \"name\": \"\\u4e2d\\u56fd\\u94dd\\u4e1a\", \"profit\": -16208170000.0}, {\"year\": 2015, \"code\": \"600307\", \"name\": \"\\u9152\\u94a2\\u5b8f\\u5174\", \"profit\": -7363873554.6}, {\"year\": 2016, \"code\": \"600871\", \"name\": \"\\u77f3\\u5316\\u6cb9\\u670d\", \"profit\": -16114763000.0}, {\"year\": 2017, \"code\": \"600871\", \"name\": \"\\u77f3\\u5316\\u6cb9\\u670d\", \"profit\": -10589524000.0}, {\"year\": 2018, \"code\": \"002354\", \"name\": \"\\u5929\\u5a31\\u6570\\u79d1\", \"profit\": -7150585884.37}, {\"year\": 2019, \"code\": \"000792\", \"name\": \"\\u76d0\\u6e56\\u80a1\\u4efd\", \"profit\": -45859976778.09}, {\"year\": 2020, \"code\": \"600221\", \"name\": \"\\u6d77\\u822a\\u63a7\\u80a1\", \"profit\": -64003308000.0}, {\"year\": 2021, \"code\": \"002024\", \"name\": \"ST\\u6613\\u8d2d\", \"profit\": -43264609000.0}, {\"year\": 2022, \"code\": \"601111\", \"name\": \"\\u4e2d\\u56fd\\u56fd\\u822a\", \"profit\": -38619499000.0}]}}, {\"mode\": \"vega-lite\"});\n",
       "</script>"
      ],
      "text/plain": [
       "alt.LayerChart(...)"
      ]
     },
     "execution_count": 18,
     "metadata": {},
     "output_type": "execute_result"
    }
   ],
   "source": [
    "mindf = sel.loc[profit_quant['idxmin'],['year','code', 'name', 'profit']].reset_index(drop = True)\n",
    "base = alt.Chart(mindf).encode(\n",
    "    alt.X('profit:Q').axis(format='.2s'),\n",
    "    alt.Y('year:O'),\n",
    "    text='name'\n",
    ").properties(\n",
    "    title = '历年亏损王',\n",
    "    width = 'container',\n",
    "    height = 340\n",
    ")\n",
    "base.mark_bar(color='brown') + base.mark_text(align='left', color='white')\n"
   ]
  },
  {
   "attachments": {},
   "cell_type": "markdown",
   "metadata": {},
   "source": [
    "- 上市公司亏损王呈现出不断创新高的情况。\n",
    "- 谁又能想到中海远控，曾经勇巨亏王呢？\n",
    "- 疫情来临之际，中海远控大翻身，而同为交通行业的大航空，却整整苦了三年。\n",
    "- 看到其中的一个亏损王，感觉自己也算是亲历一段历史。"
   ]
  },
  {
   "cell_type": "code",
   "execution_count": 19,
   "metadata": {},
   "outputs": [
    {
     "data": {
      "text/html": [
       "\n",
       "<style>\n",
       "  #altair-viz-2f7bb460d31c4d5087efe6a7b84d8aed.vega-embed {\n",
       "    width: 100%;\n",
       "    display: flex;\n",
       "  }\n",
       "\n",
       "  #altair-viz-2f7bb460d31c4d5087efe6a7b84d8aed.vega-embed details,\n",
       "  #altair-viz-2f7bb460d31c4d5087efe6a7b84d8aed.vega-embed details summary {\n",
       "    position: relative;\n",
       "  }\n",
       "</style>\n",
       "<div id=\"altair-viz-2f7bb460d31c4d5087efe6a7b84d8aed\"></div>\n",
       "<script type=\"text/javascript\">\n",
       "  var VEGA_DEBUG = (typeof VEGA_DEBUG == \"undefined\") ? {} : VEGA_DEBUG;\n",
       "  (function(spec, embedOpt){\n",
       "    let outputDiv = document.currentScript.previousElementSibling;\n",
       "    if (outputDiv.id !== \"altair-viz-2f7bb460d31c4d5087efe6a7b84d8aed\") {\n",
       "      outputDiv = document.getElementById(\"altair-viz-2f7bb460d31c4d5087efe6a7b84d8aed\");\n",
       "    }\n",
       "    const paths = {\n",
       "      \"vega\": \"https://cdn.jsdelivr.net/npm/vega@5?noext\",\n",
       "      \"vega-lib\": \"https://cdn.jsdelivr.net/npm/vega-lib?noext\",\n",
       "      \"vega-lite\": \"https://cdn.jsdelivr.net/npm/vega-lite@5.8.0?noext\",\n",
       "      \"vega-embed\": \"https://cdn.jsdelivr.net/npm/vega-embed@6?noext\",\n",
       "    };\n",
       "\n",
       "    function maybeLoadScript(lib, version) {\n",
       "      var key = `${lib.replace(\"-\", \"\")}_version`;\n",
       "      return (VEGA_DEBUG[key] == version) ?\n",
       "        Promise.resolve(paths[lib]) :\n",
       "        new Promise(function(resolve, reject) {\n",
       "          var s = document.createElement('script');\n",
       "          document.getElementsByTagName(\"head\")[0].appendChild(s);\n",
       "          s.async = true;\n",
       "          s.onload = () => {\n",
       "            VEGA_DEBUG[key] = version;\n",
       "            return resolve(paths[lib]);\n",
       "          };\n",
       "          s.onerror = () => reject(`Error loading script: ${paths[lib]}`);\n",
       "          s.src = paths[lib];\n",
       "        });\n",
       "    }\n",
       "\n",
       "    function showError(err) {\n",
       "      outputDiv.innerHTML = `<div class=\"error\" style=\"color:red;\">${err}</div>`;\n",
       "      throw err;\n",
       "    }\n",
       "\n",
       "    function displayChart(vegaEmbed) {\n",
       "      vegaEmbed(outputDiv, spec, embedOpt)\n",
       "        .catch(err => showError(`Javascript Error: ${err.message}<br>This usually means there's a typo in your chart specification. See the javascript console for the full traceback.`));\n",
       "    }\n",
       "\n",
       "    if(typeof define === \"function\" && define.amd) {\n",
       "      requirejs.config({paths});\n",
       "      require([\"vega-embed\"], displayChart, err => showError(`Error loading script: ${err.message}`));\n",
       "    } else {\n",
       "      maybeLoadScript(\"vega\", \"5\")\n",
       "        .then(() => maybeLoadScript(\"vega-lite\", \"5.8.0\"))\n",
       "        .then(() => maybeLoadScript(\"vega-embed\", \"6\"))\n",
       "        .catch(showError)\n",
       "        .then(() => displayChart(vegaEmbed));\n",
       "    }\n",
       "  })({\"config\": {\"view\": {\"continuousWidth\": 300, \"continuousHeight\": 300}}, \"layer\": [{\"mark\": {\"type\": \"bar\"}, \"encoding\": {\"text\": {\"field\": \"name\", \"type\": \"nominal\"}, \"x\": {\"axis\": {\"format\": \".2s\"}, \"field\": \"profit\", \"type\": \"quantitative\"}, \"y\": {\"field\": \"year\", \"type\": \"ordinal\"}}, \"title\": \"\\u5386\\u5e74\\u8d62\\u5229\\u738b\"}, {\"mark\": {\"type\": \"text\", \"align\": \"right\", \"color\": \"white\"}, \"encoding\": {\"text\": {\"field\": \"name\", \"type\": \"nominal\"}, \"x\": {\"axis\": {\"format\": \".2s\"}, \"field\": \"profit\", \"type\": \"quantitative\"}, \"y\": {\"field\": \"year\", \"type\": \"ordinal\"}}, \"title\": \"\\u5386\\u5e74\\u8d62\\u5229\\u738b\"}], \"data\": {\"name\": \"data-5cee42fe8868c3c63c1d64d187034dce\"}, \"height\": 340, \"width\": \"container\", \"$schema\": \"https://vega.github.io/schema/vega-lite/v5.8.0.json\", \"datasets\": {\"data-5cee42fe8868c3c63c1d64d187034dce\": [{\"year\": 2010, \"code\": \"601398\", \"name\": \"\\u5de5\\u5546\\u94f6\\u884c\", \"profit\": 165156000000.0}, {\"year\": 2011, \"code\": \"601398\", \"name\": \"\\u5de5\\u5546\\u94f6\\u884c\", \"profit\": 208265000000.0}, {\"year\": 2012, \"code\": \"601398\", \"name\": \"\\u5de5\\u5546\\u94f6\\u884c\", \"profit\": 238532000000.0}, {\"year\": 2013, \"code\": \"601398\", \"name\": \"\\u5de5\\u5546\\u94f6\\u884c\", \"profit\": 262649000000.0}, {\"year\": 2014, \"code\": \"601398\", \"name\": \"\\u5de5\\u5546\\u94f6\\u884c\", \"profit\": 275811000000.0}, {\"year\": 2015, \"code\": \"601398\", \"name\": \"\\u5de5\\u5546\\u94f6\\u884c\", \"profit\": 277131000000.0}, {\"year\": 2016, \"code\": \"601398\", \"name\": \"\\u5de5\\u5546\\u94f6\\u884c\", \"profit\": 278249000000.0}, {\"year\": 2017, \"code\": \"601398\", \"name\": \"\\u5de5\\u5546\\u94f6\\u884c\", \"profit\": 286049000000.0}, {\"year\": 2018, \"code\": \"601398\", \"name\": \"\\u5de5\\u5546\\u94f6\\u884c\", \"profit\": 297676000000.0}, {\"year\": 2019, \"code\": \"601398\", \"name\": \"\\u5de5\\u5546\\u94f6\\u884c\", \"profit\": 312224000000.0}, {\"year\": 2020, \"code\": \"601398\", \"name\": \"\\u5de5\\u5546\\u94f6\\u884c\", \"profit\": 315906000000.0}, {\"year\": 2021, \"code\": \"601398\", \"name\": \"\\u5de5\\u5546\\u94f6\\u884c\", \"profit\": 348338000000.0}, {\"year\": 2022, \"code\": \"601398\", \"name\": \"\\u5de5\\u5546\\u94f6\\u884c\", \"profit\": 360483000000.0}]}}, {\"mode\": \"vega-lite\"});\n",
       "</script>"
      ],
      "text/plain": [
       "alt.LayerChart(...)"
      ]
     },
     "execution_count": 19,
     "metadata": {},
     "output_type": "execute_result"
    }
   ],
   "source": [
    "maxdf = sel.loc[profit_quant['idxmax'],['year','code', 'name', 'profit']].reset_index(drop = True)\n",
    "base = alt.Chart(maxdf).encode(\n",
    "    alt.X('profit:Q').axis(format='.2s'),\n",
    "    alt.Y('year:O'),\n",
    "    text='name'\n",
    ").properties(\n",
    "    title = '历年赢利王',\n",
    "    width = 'container',\n",
    "    height = 340\n",
    ")\n",
    "base.mark_bar() + base.mark_text(align='right', color='white')"
   ]
  },
  {
   "attachments": {},
   "cell_type": "markdown",
   "metadata": {},
   "source": [
    "- 赢利王没什么惊喜，宇宙第一行，永远行，疫情完全没受到影响。可怕。"
   ]
  },
  {
   "attachments": {},
   "cell_type": "markdown",
   "metadata": {},
   "source": [
    "## 利润构成-利润增长和新增上市公司驱动\n",
    "- 上市公司上市当年的利润记为新增上市公司驱动的利润，象是给整个池子注入资本。\n",
    "- 上市公司上市后第二年的利润增长做为池子本身的利润增长驱动。\n",
    "- 上市公司的利润增长是不是IPO的因素更重要呢？"
   ]
  },
  {
   "cell_type": "code",
   "execution_count": 20,
   "metadata": {
    "tags": [
     "remove-input"
    ]
   },
   "outputs": [
    {
     "data": {
      "text/html": [
       "\n",
       "<style>\n",
       "  #altair-viz-7b7fb72b44dc48b3a5094f40a86ab9ed.vega-embed {\n",
       "    width: 100%;\n",
       "    display: flex;\n",
       "  }\n",
       "\n",
       "  #altair-viz-7b7fb72b44dc48b3a5094f40a86ab9ed.vega-embed details,\n",
       "  #altair-viz-7b7fb72b44dc48b3a5094f40a86ab9ed.vega-embed details summary {\n",
       "    position: relative;\n",
       "  }\n",
       "</style>\n",
       "<div id=\"altair-viz-7b7fb72b44dc48b3a5094f40a86ab9ed\"></div>\n",
       "<script type=\"text/javascript\">\n",
       "  var VEGA_DEBUG = (typeof VEGA_DEBUG == \"undefined\") ? {} : VEGA_DEBUG;\n",
       "  (function(spec, embedOpt){\n",
       "    let outputDiv = document.currentScript.previousElementSibling;\n",
       "    if (outputDiv.id !== \"altair-viz-7b7fb72b44dc48b3a5094f40a86ab9ed\") {\n",
       "      outputDiv = document.getElementById(\"altair-viz-7b7fb72b44dc48b3a5094f40a86ab9ed\");\n",
       "    }\n",
       "    const paths = {\n",
       "      \"vega\": \"https://cdn.jsdelivr.net/npm/vega@5?noext\",\n",
       "      \"vega-lib\": \"https://cdn.jsdelivr.net/npm/vega-lib?noext\",\n",
       "      \"vega-lite\": \"https://cdn.jsdelivr.net/npm/vega-lite@5.8.0?noext\",\n",
       "      \"vega-embed\": \"https://cdn.jsdelivr.net/npm/vega-embed@6?noext\",\n",
       "    };\n",
       "\n",
       "    function maybeLoadScript(lib, version) {\n",
       "      var key = `${lib.replace(\"-\", \"\")}_version`;\n",
       "      return (VEGA_DEBUG[key] == version) ?\n",
       "        Promise.resolve(paths[lib]) :\n",
       "        new Promise(function(resolve, reject) {\n",
       "          var s = document.createElement('script');\n",
       "          document.getElementsByTagName(\"head\")[0].appendChild(s);\n",
       "          s.async = true;\n",
       "          s.onload = () => {\n",
       "            VEGA_DEBUG[key] = version;\n",
       "            return resolve(paths[lib]);\n",
       "          };\n",
       "          s.onerror = () => reject(`Error loading script: ${paths[lib]}`);\n",
       "          s.src = paths[lib];\n",
       "        });\n",
       "    }\n",
       "\n",
       "    function showError(err) {\n",
       "      outputDiv.innerHTML = `<div class=\"error\" style=\"color:red;\">${err}</div>`;\n",
       "      throw err;\n",
       "    }\n",
       "\n",
       "    function displayChart(vegaEmbed) {\n",
       "      vegaEmbed(outputDiv, spec, embedOpt)\n",
       "        .catch(err => showError(`Javascript Error: ${err.message}<br>This usually means there's a typo in your chart specification. See the javascript console for the full traceback.`));\n",
       "    }\n",
       "\n",
       "    if(typeof define === \"function\" && define.amd) {\n",
       "      requirejs.config({paths});\n",
       "      require([\"vega-embed\"], displayChart, err => showError(`Error loading script: ${err.message}`));\n",
       "    } else {\n",
       "      maybeLoadScript(\"vega\", \"5\")\n",
       "        .then(() => maybeLoadScript(\"vega-lite\", \"5.8.0\"))\n",
       "        .then(() => maybeLoadScript(\"vega-embed\", \"6\"))\n",
       "        .catch(showError)\n",
       "        .then(() => displayChart(vegaEmbed));\n",
       "    }\n",
       "  })({\"config\": {\"view\": {\"continuousWidth\": 300, \"continuousHeight\": 300}}, \"data\": {\"name\": \"data-040b2dbae7ac42c2b01ea01091681ee2\"}, \"mark\": {\"type\": \"bar\"}, \"encoding\": {\"x\": {\"axis\": {\"format\": \".0f\"}, \"field\": \"count\", \"type\": \"quantitative\"}, \"y\": {\"field\": \"year\", \"type\": \"ordinal\"}}, \"height\": 340, \"title\": \"\\u4e0a\\u5e02\\u516c\\u53f8\\u62a5\\u544a\\u6570\\u91cf\\u53d8\\u5316\", \"width\": \"container\", \"$schema\": \"https://vega.github.io/schema/vega-lite/v5.8.0.json\", \"datasets\": {\"data-040b2dbae7ac42c2b01ea01091681ee2\": [{\"year\": 2010, \"mean\": 846981085.8852324, \"median\": 92750928.21, \"idxmin\": 16515, \"idxmax\": 17346, \"count\": 1936}, {\"year\": 2011, \"mean\": 858062579.0871435, \"median\": 93518241.19, \"idxmin\": 17269, \"idxmax\": 17347, \"count\": 2209}, {\"year\": 2012, \"mean\": 824316535.0198729, \"median\": 82868950.38, \"idxmin\": 17270, \"idxmax\": 17348, \"count\": 2359}, {\"year\": 2013, \"mean\": 950062340.3947691, \"median\": 89959637.36, \"idxmin\": 25266, \"idxmax\": 17349, \"count\": 2361}, {\"year\": 2014, \"mean\": 982488501.0535897, \"median\": 98669641.08500001, \"idxmin\": 26138, \"idxmax\": 17350, \"count\": 2482}, {\"year\": 2015, \"mean\": 928694440.5367247, \"median\": 100061152.865, \"idxmin\": 22070, \"idxmax\": 17351, \"count\": 2702}, {\"year\": 2016, \"mean\": 930298532.9874189, \"median\": 122910313.51, \"idxmin\": 21720, \"idxmax\": 17352, \"count\": 2929}, {\"year\": 2017, \"mean\": 995567235.3358378, \"median\": 132433903.395, \"idxmin\": 21721, \"idxmax\": 17353, \"count\": 3366}, {\"year\": 2018, \"mean\": 994296312.9073437, \"median\": 126978510.49, \"idxmin\": 15173, \"idxmax\": 17354, \"count\": 3471}, {\"year\": 2019, \"mean\": 1048686543.702153, \"median\": 132002951.33500001, \"idxmin\": 20111, \"idxmax\": 17355, \"count\": 3674}, {\"year\": 2020, \"mean\": 979180682.9146956, \"median\": 129792827.14500001, \"idxmin\": 16668, \"idxmax\": 17356, \"count\": 4108}, {\"year\": 2021, \"mean\": 1055805933.5638406, \"median\": 130452710.97, \"idxmin\": 17201, \"idxmax\": 17357, \"count\": 4632}, {\"year\": 2022, \"mean\": 1026270511.8218639, \"median\": 106183271.13499999, \"idxmin\": 20426, \"idxmax\": 17358, \"count\": 5054}]}}, {\"mode\": \"vega-lite\"});\n",
       "</script>"
      ],
      "text/plain": [
       "alt.Chart(...)"
      ]
     },
     "execution_count": 20,
     "metadata": {},
     "output_type": "execute_result"
    }
   ],
   "source": [
    "alt.Chart(profit_quant).mark_bar().encode(\n",
    "    alt.X('count:Q').axis(format='.0f'),\n",
    "    alt.Y('year:O')\n",
    ").properties(\n",
    "    title = '上市公司报告数量变化',\n",
    "    width = 'container',\n",
    "    height = 340\n",
    ")"
   ]
  },
  {
   "attachments": {},
   "cell_type": "markdown",
   "metadata": {},
   "source": [
    "- 最近几年IPO增长很快，利润增长是不是IPO驱动的呢？"
   ]
  },
  {
   "cell_type": "code",
   "execution_count": 21,
   "metadata": {
    "tags": [
     "remove-input"
    ]
   },
   "outputs": [
    {
     "data": {
      "text/html": [
       "\n",
       "<style>\n",
       "  #altair-viz-c019ddc9a951468bbeec90171262e07a.vega-embed {\n",
       "    width: 100%;\n",
       "    display: flex;\n",
       "  }\n",
       "\n",
       "  #altair-viz-c019ddc9a951468bbeec90171262e07a.vega-embed details,\n",
       "  #altair-viz-c019ddc9a951468bbeec90171262e07a.vega-embed details summary {\n",
       "    position: relative;\n",
       "  }\n",
       "</style>\n",
       "<div id=\"altair-viz-c019ddc9a951468bbeec90171262e07a\"></div>\n",
       "<script type=\"text/javascript\">\n",
       "  var VEGA_DEBUG = (typeof VEGA_DEBUG == \"undefined\") ? {} : VEGA_DEBUG;\n",
       "  (function(spec, embedOpt){\n",
       "    let outputDiv = document.currentScript.previousElementSibling;\n",
       "    if (outputDiv.id !== \"altair-viz-c019ddc9a951468bbeec90171262e07a\") {\n",
       "      outputDiv = document.getElementById(\"altair-viz-c019ddc9a951468bbeec90171262e07a\");\n",
       "    }\n",
       "    const paths = {\n",
       "      \"vega\": \"https://cdn.jsdelivr.net/npm/vega@5?noext\",\n",
       "      \"vega-lib\": \"https://cdn.jsdelivr.net/npm/vega-lib?noext\",\n",
       "      \"vega-lite\": \"https://cdn.jsdelivr.net/npm/vega-lite@5.8.0?noext\",\n",
       "      \"vega-embed\": \"https://cdn.jsdelivr.net/npm/vega-embed@6?noext\",\n",
       "    };\n",
       "\n",
       "    function maybeLoadScript(lib, version) {\n",
       "      var key = `${lib.replace(\"-\", \"\")}_version`;\n",
       "      return (VEGA_DEBUG[key] == version) ?\n",
       "        Promise.resolve(paths[lib]) :\n",
       "        new Promise(function(resolve, reject) {\n",
       "          var s = document.createElement('script');\n",
       "          document.getElementsByTagName(\"head\")[0].appendChild(s);\n",
       "          s.async = true;\n",
       "          s.onload = () => {\n",
       "            VEGA_DEBUG[key] = version;\n",
       "            return resolve(paths[lib]);\n",
       "          };\n",
       "          s.onerror = () => reject(`Error loading script: ${paths[lib]}`);\n",
       "          s.src = paths[lib];\n",
       "        });\n",
       "    }\n",
       "\n",
       "    function showError(err) {\n",
       "      outputDiv.innerHTML = `<div class=\"error\" style=\"color:red;\">${err}</div>`;\n",
       "      throw err;\n",
       "    }\n",
       "\n",
       "    function displayChart(vegaEmbed) {\n",
       "      vegaEmbed(outputDiv, spec, embedOpt)\n",
       "        .catch(err => showError(`Javascript Error: ${err.message}<br>This usually means there's a typo in your chart specification. See the javascript console for the full traceback.`));\n",
       "    }\n",
       "\n",
       "    if(typeof define === \"function\" && define.amd) {\n",
       "      requirejs.config({paths});\n",
       "      require([\"vega-embed\"], displayChart, err => showError(`Error loading script: ${err.message}`));\n",
       "    } else {\n",
       "      maybeLoadScript(\"vega\", \"5\")\n",
       "        .then(() => maybeLoadScript(\"vega-lite\", \"5.8.0\"))\n",
       "        .then(() => maybeLoadScript(\"vega-embed\", \"6\"))\n",
       "        .catch(showError)\n",
       "        .then(() => displayChart(vegaEmbed));\n",
       "    }\n",
       "  })({\"config\": {\"view\": {\"continuousWidth\": 300, \"continuousHeight\": 300}}, \"data\": {\"name\": \"data-c4875dc903fc41e56ef92a33eedb5d6d\"}, \"mark\": {\"type\": \"bar\"}, \"encoding\": {\"color\": {\"field\": \"cat\", \"type\": \"nominal\"}, \"x\": {\"aggregate\": \"sum\", \"axis\": {\"format\": \".2s\"}, \"field\": \"profit\", \"type\": \"quantitative\"}, \"y\": {\"field\": \"year\", \"type\": \"ordinal\"}}, \"height\": 340, \"title\": \"\\u5229\\u6da6\\u53d8\\u5316\\u9a71\\u52a8\\u56e0\\u7d20\", \"width\": \"container\", \"$schema\": \"https://vega.github.io/schema/vega-lite/v5.8.0.json\", \"datasets\": {\"data-c4875dc903fc41e56ef92a33eedb5d6d\": [{\"year\": 2010, \"cat\": \"base\", \"profit\": 1639755382273.81}, {\"year\": 2011, \"cat\": \"base\", \"profit\": 1639755382273.81}, {\"year\": 2012, \"cat\": \"base\", \"profit\": 1895460237203.5}, {\"year\": 2013, \"cat\": \"base\", \"profit\": 1944562706111.88}, {\"year\": 2014, \"cat\": \"base\", \"profit\": 2243097185672.0503}, {\"year\": 2015, \"cat\": \"base\", \"profit\": 2438536459615.01}, {\"year\": 2016, \"cat\": \"base\", \"profit\": 2509332378330.2295}, {\"year\": 2017, \"cat\": \"base\", \"profit\": 2724844403120.1494}, {\"year\": 2018, \"cat\": \"base\", \"profit\": 3351079314140.4297}, {\"year\": 2019, \"cat\": \"base\", \"profit\": 3451202502101.3906}, {\"year\": 2020, \"cat\": \"base\", \"profit\": 3852874361561.71}, {\"year\": 2021, \"cat\": \"base\", \"profit\": 4022474245413.57}, {\"year\": 2022, \"cat\": \"base\", \"profit\": 4890493084267.709}, {\"year\": 2010, \"cat\": \"\\u589e\\u957f\\u9a71\\u52a8\", \"profit\": 0.0}, {\"year\": 2011, \"cat\": \"\\u589e\\u957f\\u9a71\\u52a8\", \"profit\": 208452490953.49994}, {\"year\": 2012, \"cat\": \"\\u589e\\u957f\\u9a71\\u52a8\", \"profit\": 17112629555.550129}, {\"year\": 2013, \"cat\": \"\\u589e\\u957f\\u9a71\\u52a8\", \"profit\": 287459724096.4302}, {\"year\": 2014, \"cat\": \"\\u589e\\u957f\\u9a71\\u52a8\", \"profit\": 171928756725.13947}, {\"year\": 2015, \"cat\": \"\\u589e\\u957f\\u9a71\\u52a8\", \"profit\": -9785437139.060272}, {\"year\": 2016, \"cat\": \"\\u589e\\u957f\\u9a71\\u52a8\", \"profit\": 146281385746.9804}, {\"year\": 2017, \"cat\": \"\\u589e\\u957f\\u9a71\\u52a8\", \"profit\": 550807793660.5398}, {\"year\": 2018, \"cat\": \"\\u589e\\u957f\\u9a71\\u52a8\", \"profit\": 13666677761.720932}, {\"year\": 2019, \"cat\": \"\\u589e\\u957f\\u9a71\\u52a8\", \"profit\": 241219857085.87933}, {\"year\": 2020, \"cat\": \"\\u589e\\u957f\\u9a71\\u52a8\", \"profit\": 68394819383.45987}, {\"year\": 2021, \"cat\": \"\\u589e\\u957f\\u9a71\\u52a8\", \"profit\": 714711067988.4791}, {\"year\": 2022, \"cat\": \"\\u589e\\u957f\\u9a71\\u52a8\", \"profit\": -34621498474.76782}, {\"year\": 2010, \"cat\": \"\\u65b0\\u53d1\\u9a71\\u52a8\", \"profit\": 0.0}, {\"year\": 2011, \"cat\": \"\\u65b0\\u53d1\\u9a71\\u52a8\", \"profit\": 47252363976.19}, {\"year\": 2012, \"cat\": \"\\u65b0\\u53d1\\u9a71\\u52a8\", \"profit\": 31989839352.829998}, {\"year\": 2013, \"cat\": \"\\u65b0\\u53d1\\u9a71\\u52a8\", \"profit\": 11074755463.74}, {\"year\": 2014, \"cat\": \"\\u65b0\\u53d1\\u9a71\\u52a8\", \"profit\": 23510517217.82}, {\"year\": 2015, \"cat\": \"\\u65b0\\u53d1\\u9a71\\u52a8\", \"profit\": 80581355854.28}, {\"year\": 2016, \"cat\": \"\\u65b0\\u53d1\\u9a71\\u52a8\", \"profit\": 69230639042.94}, {\"year\": 2017, \"cat\": \"\\u65b0\\u53d1\\u9a71\\u52a8\", \"profit\": 75427117359.74}, {\"year\": 2018, \"cat\": \"\\u65b0\\u53d1\\u9a71\\u52a8\", \"profit\": 86456510199.24}, {\"year\": 2019, \"cat\": \"\\u65b0\\u53d1\\u9a71\\u52a8\", \"profit\": 160452002374.44}, {\"year\": 2020, \"cat\": \"\\u65b0\\u53d1\\u9a71\\u52a8\", \"profit\": 101205064468.4}, {\"year\": 2021, \"cat\": \"\\u65b0\\u53d1\\u9a71\\u52a8\", \"profit\": 153307770865.66}, {\"year\": 2022, \"cat\": \"\\u65b0\\u53d1\\u9a71\\u52a8\", \"profit\": 330899580954.76}]}}, {\"mode\": \"vega-lite\"});\n",
       "</script>"
      ],
      "text/plain": [
       "alt.Chart(...)"
      ]
     },
     "execution_count": 21,
     "metadata": {},
     "output_type": "execute_result"
    }
   ],
   "source": [
    "inc_plotdf = inc_df.reset_index().melt(id_vars='year', var_name='cat',value_name='profit')\n",
    "alt.Chart(inc_plotdf).mark_bar().encode(\n",
    "    alt.X('sum(profit)').axis(format='.2s'),\n",
    "    alt.Y('year:O'),\n",
    "    color='cat'\n",
    ").properties(\n",
    "    title = '利润变化驱动因素',\n",
    "    width = 'container',\n",
    "    height = len(df_total)*20+80\n",
    ")"
   ]
  },
  {
   "attachments": {},
   "cell_type": "markdown",
   "metadata": {},
   "source": [
    "- 可以看出，大部分时候，是已上市公司利润增长驱动的。只有少数例外。\n",
    "- 其中，2015年和最近2022年，出出了已上市公司亏损，利润增长全部由当年新发公司驱动。\n",
    "- 从大规律上看，上市公司的利润在爆发后，容易第二年就疲软。2017年和2021年就是个例子。\n",
    "- 下图上两个驱动因素的详细对比。"
   ]
  },
  {
   "cell_type": "code",
   "execution_count": 22,
   "metadata": {
    "tags": [
     "remove-input"
    ]
   },
   "outputs": [
    {
     "data": {
      "text/html": [
       "\n",
       "<style>\n",
       "  #altair-viz-d1511800b8914ab4b0ee2f73f0ec1c0a.vega-embed {\n",
       "    width: 100%;\n",
       "    display: flex;\n",
       "  }\n",
       "\n",
       "  #altair-viz-d1511800b8914ab4b0ee2f73f0ec1c0a.vega-embed details,\n",
       "  #altair-viz-d1511800b8914ab4b0ee2f73f0ec1c0a.vega-embed details summary {\n",
       "    position: relative;\n",
       "  }\n",
       "</style>\n",
       "<div id=\"altair-viz-d1511800b8914ab4b0ee2f73f0ec1c0a\"></div>\n",
       "<script type=\"text/javascript\">\n",
       "  var VEGA_DEBUG = (typeof VEGA_DEBUG == \"undefined\") ? {} : VEGA_DEBUG;\n",
       "  (function(spec, embedOpt){\n",
       "    let outputDiv = document.currentScript.previousElementSibling;\n",
       "    if (outputDiv.id !== \"altair-viz-d1511800b8914ab4b0ee2f73f0ec1c0a\") {\n",
       "      outputDiv = document.getElementById(\"altair-viz-d1511800b8914ab4b0ee2f73f0ec1c0a\");\n",
       "    }\n",
       "    const paths = {\n",
       "      \"vega\": \"https://cdn.jsdelivr.net/npm/vega@5?noext\",\n",
       "      \"vega-lib\": \"https://cdn.jsdelivr.net/npm/vega-lib?noext\",\n",
       "      \"vega-lite\": \"https://cdn.jsdelivr.net/npm/vega-lite@5.8.0?noext\",\n",
       "      \"vega-embed\": \"https://cdn.jsdelivr.net/npm/vega-embed@6?noext\",\n",
       "    };\n",
       "\n",
       "    function maybeLoadScript(lib, version) {\n",
       "      var key = `${lib.replace(\"-\", \"\")}_version`;\n",
       "      return (VEGA_DEBUG[key] == version) ?\n",
       "        Promise.resolve(paths[lib]) :\n",
       "        new Promise(function(resolve, reject) {\n",
       "          var s = document.createElement('script');\n",
       "          document.getElementsByTagName(\"head\")[0].appendChild(s);\n",
       "          s.async = true;\n",
       "          s.onload = () => {\n",
       "            VEGA_DEBUG[key] = version;\n",
       "            return resolve(paths[lib]);\n",
       "          };\n",
       "          s.onerror = () => reject(`Error loading script: ${paths[lib]}`);\n",
       "          s.src = paths[lib];\n",
       "        });\n",
       "    }\n",
       "\n",
       "    function showError(err) {\n",
       "      outputDiv.innerHTML = `<div class=\"error\" style=\"color:red;\">${err}</div>`;\n",
       "      throw err;\n",
       "    }\n",
       "\n",
       "    function displayChart(vegaEmbed) {\n",
       "      vegaEmbed(outputDiv, spec, embedOpt)\n",
       "        .catch(err => showError(`Javascript Error: ${err.message}<br>This usually means there's a typo in your chart specification. See the javascript console for the full traceback.`));\n",
       "    }\n",
       "\n",
       "    if(typeof define === \"function\" && define.amd) {\n",
       "      requirejs.config({paths});\n",
       "      require([\"vega-embed\"], displayChart, err => showError(`Error loading script: ${err.message}`));\n",
       "    } else {\n",
       "      maybeLoadScript(\"vega\", \"5\")\n",
       "        .then(() => maybeLoadScript(\"vega-lite\", \"5.8.0\"))\n",
       "        .then(() => maybeLoadScript(\"vega-embed\", \"6\"))\n",
       "        .catch(showError)\n",
       "        .then(() => displayChart(vegaEmbed));\n",
       "    }\n",
       "  })({\"config\": {\"view\": {\"continuousWidth\": 300, \"continuousHeight\": 300}}, \"data\": {\"name\": \"data-f625cfee1187ab63620e107daf14ee70\"}, \"mark\": {\"type\": \"bar\"}, \"encoding\": {\"color\": {\"field\": \"cat\", \"type\": \"nominal\"}, \"x\": {\"aggregate\": \"sum\", \"axis\": {\"format\": \".2s\"}, \"field\": \"profit\", \"type\": \"quantitative\"}, \"y\": {\"field\": \"year\", \"type\": \"ordinal\"}}, \"height\": 340, \"title\": \"\\u4e24\\u79cd\\u5229\\u6da6\\u589e\\u957f\\u9a71\\u52a8\\u56e0\\u7d20\\u5bf9\\u6bd4\", \"width\": \"container\", \"$schema\": \"https://vega.github.io/schema/vega-lite/v5.8.0.json\", \"datasets\": {\"data-f625cfee1187ab63620e107daf14ee70\": [{\"year\": 2010, \"cat\": \"\\u589e\\u957f\\u9a71\\u52a8\", \"profit\": 0.0}, {\"year\": 2011, \"cat\": \"\\u589e\\u957f\\u9a71\\u52a8\", \"profit\": 208452490953.49994}, {\"year\": 2012, \"cat\": \"\\u589e\\u957f\\u9a71\\u52a8\", \"profit\": 17112629555.550129}, {\"year\": 2013, \"cat\": \"\\u589e\\u957f\\u9a71\\u52a8\", \"profit\": 287459724096.4302}, {\"year\": 2014, \"cat\": \"\\u589e\\u957f\\u9a71\\u52a8\", \"profit\": 171928756725.13947}, {\"year\": 2015, \"cat\": \"\\u589e\\u957f\\u9a71\\u52a8\", \"profit\": -9785437139.060272}, {\"year\": 2016, \"cat\": \"\\u589e\\u957f\\u9a71\\u52a8\", \"profit\": 146281385746.9804}, {\"year\": 2017, \"cat\": \"\\u589e\\u957f\\u9a71\\u52a8\", \"profit\": 550807793660.5398}, {\"year\": 2018, \"cat\": \"\\u589e\\u957f\\u9a71\\u52a8\", \"profit\": 13666677761.720932}, {\"year\": 2019, \"cat\": \"\\u589e\\u957f\\u9a71\\u52a8\", \"profit\": 241219857085.87933}, {\"year\": 2020, \"cat\": \"\\u589e\\u957f\\u9a71\\u52a8\", \"profit\": 68394819383.45987}, {\"year\": 2021, \"cat\": \"\\u589e\\u957f\\u9a71\\u52a8\", \"profit\": 714711067988.4791}, {\"year\": 2022, \"cat\": \"\\u589e\\u957f\\u9a71\\u52a8\", \"profit\": -34621498474.76782}, {\"year\": 2010, \"cat\": \"\\u65b0\\u53d1\\u9a71\\u52a8\", \"profit\": 0.0}, {\"year\": 2011, \"cat\": \"\\u65b0\\u53d1\\u9a71\\u52a8\", \"profit\": 47252363976.19}, {\"year\": 2012, \"cat\": \"\\u65b0\\u53d1\\u9a71\\u52a8\", \"profit\": 31989839352.829998}, {\"year\": 2013, \"cat\": \"\\u65b0\\u53d1\\u9a71\\u52a8\", \"profit\": 11074755463.74}, {\"year\": 2014, \"cat\": \"\\u65b0\\u53d1\\u9a71\\u52a8\", \"profit\": 23510517217.82}, {\"year\": 2015, \"cat\": \"\\u65b0\\u53d1\\u9a71\\u52a8\", \"profit\": 80581355854.28}, {\"year\": 2016, \"cat\": \"\\u65b0\\u53d1\\u9a71\\u52a8\", \"profit\": 69230639042.94}, {\"year\": 2017, \"cat\": \"\\u65b0\\u53d1\\u9a71\\u52a8\", \"profit\": 75427117359.74}, {\"year\": 2018, \"cat\": \"\\u65b0\\u53d1\\u9a71\\u52a8\", \"profit\": 86456510199.24}, {\"year\": 2019, \"cat\": \"\\u65b0\\u53d1\\u9a71\\u52a8\", \"profit\": 160452002374.44}, {\"year\": 2020, \"cat\": \"\\u65b0\\u53d1\\u9a71\\u52a8\", \"profit\": 101205064468.4}, {\"year\": 2021, \"cat\": \"\\u65b0\\u53d1\\u9a71\\u52a8\", \"profit\": 153307770865.66}, {\"year\": 2022, \"cat\": \"\\u65b0\\u53d1\\u9a71\\u52a8\", \"profit\": 330899580954.76}]}}, {\"mode\": \"vega-lite\"});\n",
       "</script>"
      ],
      "text/plain": [
       "alt.Chart(...)"
      ]
     },
     "execution_count": 22,
     "metadata": {},
     "output_type": "execute_result"
    }
   ],
   "source": [
    "inc_plotdf_sel = inc_plotdf[inc_plotdf['cat'] != 'base']\n",
    "alt.Chart(inc_plotdf_sel).mark_bar().encode(\n",
    "    alt.X('sum(profit)').axis(format='.2s'),\n",
    "    alt.Y('year:O'),\n",
    "    color='cat'\n",
    ").properties(\n",
    "    title = '两种利润增长驱动因素对比',\n",
    "    width = 'container',\n",
    "    height = len(df_total)*20+80\n",
    ")\n"
   ]
  },
  {
   "attachments": {},
   "cell_type": "markdown",
   "metadata": {},
   "source": [
    "- 谁能想到疫情第2年，上市公司却出现史诗性的暴涨。\n",
    "- 而到了第三年，增长不再还转为亏损。"
   ]
  },
  {
   "attachments": {},
   "cell_type": "markdown",
   "metadata": {},
   "source": [
    "## 利润构成——按板块和交易所\n",
    "\n",
    "- 这方面应该符合常识认知。"
   ]
  },
  {
   "cell_type": "code",
   "execution_count": 23,
   "metadata": {
    "tags": [
     "remove-input"
    ]
   },
   "outputs": [
    {
     "data": {
      "text/html": [
       "\n",
       "<style>\n",
       "  #altair-viz-e0e4cc7e5da6448d94c597391c628750.vega-embed {\n",
       "    width: 100%;\n",
       "    display: flex;\n",
       "  }\n",
       "\n",
       "  #altair-viz-e0e4cc7e5da6448d94c597391c628750.vega-embed details,\n",
       "  #altair-viz-e0e4cc7e5da6448d94c597391c628750.vega-embed details summary {\n",
       "    position: relative;\n",
       "  }\n",
       "</style>\n",
       "<div id=\"altair-viz-e0e4cc7e5da6448d94c597391c628750\"></div>\n",
       "<script type=\"text/javascript\">\n",
       "  var VEGA_DEBUG = (typeof VEGA_DEBUG == \"undefined\") ? {} : VEGA_DEBUG;\n",
       "  (function(spec, embedOpt){\n",
       "    let outputDiv = document.currentScript.previousElementSibling;\n",
       "    if (outputDiv.id !== \"altair-viz-e0e4cc7e5da6448d94c597391c628750\") {\n",
       "      outputDiv = document.getElementById(\"altair-viz-e0e4cc7e5da6448d94c597391c628750\");\n",
       "    }\n",
       "    const paths = {\n",
       "      \"vega\": \"https://cdn.jsdelivr.net/npm/vega@5?noext\",\n",
       "      \"vega-lib\": \"https://cdn.jsdelivr.net/npm/vega-lib?noext\",\n",
       "      \"vega-lite\": \"https://cdn.jsdelivr.net/npm/vega-lite@5.8.0?noext\",\n",
       "      \"vega-embed\": \"https://cdn.jsdelivr.net/npm/vega-embed@6?noext\",\n",
       "    };\n",
       "\n",
       "    function maybeLoadScript(lib, version) {\n",
       "      var key = `${lib.replace(\"-\", \"\")}_version`;\n",
       "      return (VEGA_DEBUG[key] == version) ?\n",
       "        Promise.resolve(paths[lib]) :\n",
       "        new Promise(function(resolve, reject) {\n",
       "          var s = document.createElement('script');\n",
       "          document.getElementsByTagName(\"head\")[0].appendChild(s);\n",
       "          s.async = true;\n",
       "          s.onload = () => {\n",
       "            VEGA_DEBUG[key] = version;\n",
       "            return resolve(paths[lib]);\n",
       "          };\n",
       "          s.onerror = () => reject(`Error loading script: ${paths[lib]}`);\n",
       "          s.src = paths[lib];\n",
       "        });\n",
       "    }\n",
       "\n",
       "    function showError(err) {\n",
       "      outputDiv.innerHTML = `<div class=\"error\" style=\"color:red;\">${err}</div>`;\n",
       "      throw err;\n",
       "    }\n",
       "\n",
       "    function displayChart(vegaEmbed) {\n",
       "      vegaEmbed(outputDiv, spec, embedOpt)\n",
       "        .catch(err => showError(`Javascript Error: ${err.message}<br>This usually means there's a typo in your chart specification. See the javascript console for the full traceback.`));\n",
       "    }\n",
       "\n",
       "    if(typeof define === \"function\" && define.amd) {\n",
       "      requirejs.config({paths});\n",
       "      require([\"vega-embed\"], displayChart, err => showError(`Error loading script: ${err.message}`));\n",
       "    } else {\n",
       "      maybeLoadScript(\"vega\", \"5\")\n",
       "        .then(() => maybeLoadScript(\"vega-lite\", \"5.8.0\"))\n",
       "        .then(() => maybeLoadScript(\"vega-embed\", \"6\"))\n",
       "        .catch(showError)\n",
       "        .then(() => displayChart(vegaEmbed));\n",
       "    }\n",
       "  })({\"config\": {\"view\": {\"continuousWidth\": 300, \"continuousHeight\": 300}}, \"data\": {\"name\": \"data-d142d94a07638417e55ec20ee33abdfd\"}, \"mark\": {\"type\": \"bar\"}, \"encoding\": {\"color\": {\"field\": \"market\", \"type\": \"nominal\"}, \"x\": {\"aggregate\": \"sum\", \"axis\": {\"format\": \".2s\"}, \"field\": \"profit\", \"type\": \"quantitative\"}, \"y\": {\"field\": \"year\", \"type\": \"ordinal\"}}, \"height\": 340, \"title\": \"\\u4e0d\\u540c\\u677f\\u5757\\u5229\\u6da6\\u53d8\\u5316\", \"width\": \"container\", \"$schema\": \"https://vega.github.io/schema/vega-lite/v5.8.0.json\", \"datasets\": {\"data-d142d94a07638417e55ec20ee33abdfd\": [{\"year\": 2010, \"market\": \"\\u4e3b\\u677fA\\u80a1\", \"profit\": 1628879401245.67}, {\"year\": 2010, \"market\": \"\\u521b\\u4e1a\\u677f\", \"profit\": 10875981028.14}, {\"year\": 2011, \"market\": \"\\u4e3b\\u677fA\\u80a1\", \"profit\": 1875688248913.84}, {\"year\": 2011, \"market\": \"\\u521b\\u4e1a\\u677f\", \"profit\": 19771988289.66}, {\"year\": 2012, \"market\": \"\\u4e3b\\u677fA\\u80a1\", \"profit\": 1921530151776.04}, {\"year\": 2012, \"market\": \"\\u521b\\u4e1a\\u677f\", \"profit\": 23032554335.84}, {\"year\": 2013, \"market\": \"\\u4e3b\\u677fA\\u80a1\", \"profit\": 2217537218528.94}, {\"year\": 2013, \"market\": \"\\u521b\\u4e1a\\u677f\", \"profit\": 25559967143.11}, {\"year\": 2014, \"market\": \"\\u4e3b\\u677fA\\u80a1\", \"profit\": 2402196468739.61}, {\"year\": 2014, \"market\": \"\\u521b\\u4e1a\\u677f\", \"profit\": 36339990875.4}, {\"year\": 2015, \"market\": \"\\u4e3b\\u677fA\\u80a1\", \"profit\": 2451957599088.1}, {\"year\": 2015, \"market\": \"\\u521b\\u4e1a\\u677f\", \"profit\": 57374779242.13}, {\"year\": 2016, \"market\": \"\\u4e3b\\u677fA\\u80a1\", \"profit\": 2639288791200.41}, {\"year\": 2016, \"market\": \"\\u521b\\u4e1a\\u677f\", \"profit\": 85555611919.74}, {\"year\": 2017, \"market\": \"\\u4e3b\\u677fA\\u80a1\", \"profit\": 3253121908224.37}, {\"year\": 2017, \"market\": \"\\u521b\\u4e1a\\u677f\", \"profit\": 97957405916.06}, {\"year\": 2018, \"market\": \"\\u4e3b\\u677fA\\u80a1\", \"profit\": 3408287251007.76}, {\"year\": 2018, \"market\": \"\\u521b\\u4e1a\\u677f\", \"profit\": 42915251093.63}, {\"year\": 2019, \"market\": \"\\u4e3b\\u677fA\\u80a1\", \"profit\": 3763128186946.65}, {\"year\": 2019, \"market\": \"\\u521b\\u4e1a\\u677f\", \"profit\": 74146800191.22}, {\"year\": 2019, \"market\": \"\\u79d1\\u521b\\u677f\", \"profit\": 15599374423.84}, {\"year\": 2020, \"market\": \"\\u4e3b\\u677fA\\u80a1\", \"profit\": 3854620187109.02}, {\"year\": 2020, \"market\": \"\\u521b\\u4e1a\\u677f\", \"profit\": 126951192271.95}, {\"year\": 2020, \"market\": \"\\u79d1\\u521b\\u677f\", \"profit\": 40902866032.6}, {\"year\": 2021, \"market\": \"\\u4e3b\\u677fA\\u80a1\", \"profit\": 4609812831560.6}, {\"year\": 2021, \"market\": \"\\u521b\\u4e1a\\u677f\", \"profit\": 188699564707.76}, {\"year\": 2021, \"market\": \"\\u79d1\\u521b\\u677f\", \"profit\": 91980687999.35}, {\"year\": 2022, \"market\": \"\\u4e3b\\u677fA\\u80a1\", \"profit\": 4841190997473.3}, {\"year\": 2022, \"market\": \"\\u521b\\u4e1a\\u677f\", \"profit\": 232895624606.91}, {\"year\": 2022, \"market\": \"\\u79d1\\u521b\\u677f\", \"profit\": 112684544667.49}]}}, {\"mode\": \"vega-lite\"});\n",
       "</script>"
      ],
      "text/plain": [
       "alt.Chart(...)"
      ]
     },
     "execution_count": 23,
     "metadata": {},
     "output_type": "execute_result"
    }
   ],
   "source": [
    "sel_e_m = sel.merge(code[['code', 'market', 'ex']])\n",
    "sel_bymarket  =sel_e_m.groupby(['year','market'])['profit'].sum().to_frame('profit').reset_index()\n",
    "alt.Chart(sel_bymarket).mark_bar().encode(\n",
    "    alt.X('sum(profit)').axis(format='.2s'),\n",
    "    alt.Y('year:O'),\n",
    "    color='market'\n",
    ").properties(\n",
    "    title = '不同板块利润变化',\n",
    "    width = 'container',\n",
    "    height = 340\n",
    ")\n"
   ]
  },
  {
   "cell_type": "code",
   "execution_count": 24,
   "metadata": {
    "tags": [
     "remove-input"
    ]
   },
   "outputs": [
    {
     "data": {
      "text/html": [
       "\n",
       "<style>\n",
       "  #altair-viz-04b4a6867b2845b79023974b95ffd3ee.vega-embed {\n",
       "    width: 100%;\n",
       "    display: flex;\n",
       "  }\n",
       "\n",
       "  #altair-viz-04b4a6867b2845b79023974b95ffd3ee.vega-embed details,\n",
       "  #altair-viz-04b4a6867b2845b79023974b95ffd3ee.vega-embed details summary {\n",
       "    position: relative;\n",
       "  }\n",
       "</style>\n",
       "<div id=\"altair-viz-04b4a6867b2845b79023974b95ffd3ee\"></div>\n",
       "<script type=\"text/javascript\">\n",
       "  var VEGA_DEBUG = (typeof VEGA_DEBUG == \"undefined\") ? {} : VEGA_DEBUG;\n",
       "  (function(spec, embedOpt){\n",
       "    let outputDiv = document.currentScript.previousElementSibling;\n",
       "    if (outputDiv.id !== \"altair-viz-04b4a6867b2845b79023974b95ffd3ee\") {\n",
       "      outputDiv = document.getElementById(\"altair-viz-04b4a6867b2845b79023974b95ffd3ee\");\n",
       "    }\n",
       "    const paths = {\n",
       "      \"vega\": \"https://cdn.jsdelivr.net/npm/vega@5?noext\",\n",
       "      \"vega-lib\": \"https://cdn.jsdelivr.net/npm/vega-lib?noext\",\n",
       "      \"vega-lite\": \"https://cdn.jsdelivr.net/npm/vega-lite@5.8.0?noext\",\n",
       "      \"vega-embed\": \"https://cdn.jsdelivr.net/npm/vega-embed@6?noext\",\n",
       "    };\n",
       "\n",
       "    function maybeLoadScript(lib, version) {\n",
       "      var key = `${lib.replace(\"-\", \"\")}_version`;\n",
       "      return (VEGA_DEBUG[key] == version) ?\n",
       "        Promise.resolve(paths[lib]) :\n",
       "        new Promise(function(resolve, reject) {\n",
       "          var s = document.createElement('script');\n",
       "          document.getElementsByTagName(\"head\")[0].appendChild(s);\n",
       "          s.async = true;\n",
       "          s.onload = () => {\n",
       "            VEGA_DEBUG[key] = version;\n",
       "            return resolve(paths[lib]);\n",
       "          };\n",
       "          s.onerror = () => reject(`Error loading script: ${paths[lib]}`);\n",
       "          s.src = paths[lib];\n",
       "        });\n",
       "    }\n",
       "\n",
       "    function showError(err) {\n",
       "      outputDiv.innerHTML = `<div class=\"error\" style=\"color:red;\">${err}</div>`;\n",
       "      throw err;\n",
       "    }\n",
       "\n",
       "    function displayChart(vegaEmbed) {\n",
       "      vegaEmbed(outputDiv, spec, embedOpt)\n",
       "        .catch(err => showError(`Javascript Error: ${err.message}<br>This usually means there's a typo in your chart specification. See the javascript console for the full traceback.`));\n",
       "    }\n",
       "\n",
       "    if(typeof define === \"function\" && define.amd) {\n",
       "      requirejs.config({paths});\n",
       "      require([\"vega-embed\"], displayChart, err => showError(`Error loading script: ${err.message}`));\n",
       "    } else {\n",
       "      maybeLoadScript(\"vega\", \"5\")\n",
       "        .then(() => maybeLoadScript(\"vega-lite\", \"5.8.0\"))\n",
       "        .then(() => maybeLoadScript(\"vega-embed\", \"6\"))\n",
       "        .catch(showError)\n",
       "        .then(() => displayChart(vegaEmbed));\n",
       "    }\n",
       "  })({\"config\": {\"view\": {\"continuousWidth\": 300, \"continuousHeight\": 300}}, \"data\": {\"name\": \"data-8e4a33ba3994167d331def9f8cf0cc84\"}, \"mark\": {\"type\": \"bar\"}, \"encoding\": {\"color\": {\"field\": \"ex\", \"type\": \"nominal\"}, \"x\": {\"aggregate\": \"sum\", \"axis\": {\"format\": \".2s\"}, \"field\": \"profit\", \"type\": \"quantitative\"}, \"y\": {\"field\": \"year\", \"type\": \"ordinal\"}}, \"height\": 340, \"title\": \"\\u4e0d\\u540c\\u4ea4\\u6613\\u6240\\u5229\\u6da6\\u53d8\\u5316\", \"width\": \"container\", \"$schema\": \"https://vega.github.io/schema/vega-lite/v5.8.0.json\", \"datasets\": {\"data-8e4a33ba3994167d331def9f8cf0cc84\": [{\"year\": 2010, \"ex\": \"\\u4e0a\\u4ea4\\u6240\", \"profit\": 1405207107841.36}, {\"year\": 2010, \"ex\": \"\\u6df1\\u4ea4\\u6240\", \"profit\": 234548274432.45}, {\"year\": 2011, \"ex\": \"\\u4e0a\\u4ea4\\u6240\", \"profit\": 1617944461373.3}, {\"year\": 2011, \"ex\": \"\\u6df1\\u4ea4\\u6240\", \"profit\": 277515775830.2}, {\"year\": 2012, \"ex\": \"\\u4e0a\\u4ea4\\u6240\", \"profit\": 1687166819335.01}, {\"year\": 2012, \"ex\": \"\\u6df1\\u4ea4\\u6240\", \"profit\": 257395886776.87}, {\"year\": 2013, \"ex\": \"\\u4e0a\\u4ea4\\u6240\", \"profit\": 1933356815170.94}, {\"year\": 2013, \"ex\": \"\\u6df1\\u4ea4\\u6240\", \"profit\": 309740370501.11}, {\"year\": 2014, \"ex\": \"\\u4e0a\\u4ea4\\u6240\", \"profit\": 2074247115294.68}, {\"year\": 2014, \"ex\": \"\\u6df1\\u4ea4\\u6240\", \"profit\": 364289344320.33}, {\"year\": 2015, \"ex\": \"\\u4e0a\\u4ea4\\u6240\", \"profit\": 2077876157807.38}, {\"year\": 2015, \"ex\": \"\\u6df1\\u4ea4\\u6240\", \"profit\": 431456220522.85}, {\"year\": 2016, \"ex\": \"\\u4e0a\\u4ea4\\u6240\", \"profit\": 2165475840578.19}, {\"year\": 2016, \"ex\": \"\\u6df1\\u4ea4\\u6240\", \"profit\": 559368562541.96}, {\"year\": 2017, \"ex\": \"\\u4e0a\\u4ea4\\u6240\", \"profit\": 2607869312651.5303}, {\"year\": 2017, \"ex\": \"\\u6df1\\u4ea4\\u6240\", \"profit\": 743210001488.9}, {\"year\": 2018, \"ex\": \"\\u4e0a\\u4ea4\\u6240\", \"profit\": 2827276456975.31}, {\"year\": 2018, \"ex\": \"\\u6df1\\u4ea4\\u6240\", \"profit\": 623926045126.08}, {\"year\": 2019, \"ex\": \"\\u4e0a\\u4ea4\\u6240\", \"profit\": 3220183203738.59}, {\"year\": 2019, \"ex\": \"\\u6df1\\u4ea4\\u6240\", \"profit\": 632691157823.12}, {\"year\": 2020, \"ex\": \"\\u4e0a\\u4ea4\\u6240\", \"profit\": 3124048236901.44}, {\"year\": 2020, \"ex\": \"\\u5317\\u4ea4\\u6240\", \"profit\": 2974907825.77}, {\"year\": 2020, \"ex\": \"\\u6df1\\u4ea4\\u6240\", \"profit\": 895451100686.36}, {\"year\": 2021, \"ex\": \"\\u4e0a\\u4ea4\\u6240\", \"profit\": 3959230459298.37}, {\"year\": 2021, \"ex\": \"\\u5317\\u4ea4\\u6240\", \"profit\": 6727260548.33}, {\"year\": 2021, \"ex\": \"\\u6df1\\u4ea4\\u6240\", \"profit\": 924535364421.01}, {\"year\": 2022, \"ex\": \"\\u4e0a\\u4ea4\\u6240\", \"profit\": 4255346860074.5}, {\"year\": 2022, \"ex\": \"\\u5317\\u4ea4\\u6240\", \"profit\": 11626378234.14}, {\"year\": 2022, \"ex\": \"\\u6df1\\u4ea4\\u6240\", \"profit\": 919797928439.06}]}}, {\"mode\": \"vega-lite\"});\n",
       "</script>"
      ],
      "text/plain": [
       "alt.Chart(...)"
      ]
     },
     "execution_count": 24,
     "metadata": {},
     "output_type": "execute_result"
    }
   ],
   "source": [
    "sel_byex  =sel_e_m.groupby(['year','ex'])['profit'].sum().to_frame('profit').reset_index()\n",
    "alt.Chart(sel_byex).mark_bar().encode(\n",
    "    alt.X('sum(profit)').axis(format='.2s'),\n",
    "    alt.Y('year:O'),\n",
    "    color='ex'\n",
    ").properties(\n",
    "    title = '不同交易所利润变化',\n",
    "    width = 'container',\n",
    "    height = 340\n",
    ")\n"
   ]
  },
  {
   "attachments": {},
   "cell_type": "markdown",
   "metadata": {},
   "source": [
    "- 2020年对上交所打击比较大。\n",
    "- 但第二年2021年，上交所又迎来狂欢。"
   ]
  },
  {
   "attachments": {},
   "cell_type": "markdown",
   "metadata": {},
   "source": [
    "## 利润构成-分行业看\n",
    "\n",
    "- 一般人可能不知道，中国上市银行有多挣钱，不然无法解释为什么银行股在大部分时候都被嫌弃。\n",
    "- 先看一下从2010年以来，每年的利润额前十榜上有哪些公司。"
   ]
  },
  {
   "cell_type": "code",
   "execution_count": 25,
   "metadata": {
    "tags": [
     "remove-input"
    ]
   },
   "outputs": [
    {
     "data": {
      "text/html": [
       "\n",
       "<style>\n",
       "  #altair-viz-f91a6a3b301b45d8b005230878ab7b0c.vega-embed {\n",
       "    width: 100%;\n",
       "    display: flex;\n",
       "  }\n",
       "\n",
       "  #altair-viz-f91a6a3b301b45d8b005230878ab7b0c.vega-embed details,\n",
       "  #altair-viz-f91a6a3b301b45d8b005230878ab7b0c.vega-embed details summary {\n",
       "    position: relative;\n",
       "  }\n",
       "</style>\n",
       "<div id=\"altair-viz-f91a6a3b301b45d8b005230878ab7b0c\"></div>\n",
       "<script type=\"text/javascript\">\n",
       "  var VEGA_DEBUG = (typeof VEGA_DEBUG == \"undefined\") ? {} : VEGA_DEBUG;\n",
       "  (function(spec, embedOpt){\n",
       "    let outputDiv = document.currentScript.previousElementSibling;\n",
       "    if (outputDiv.id !== \"altair-viz-f91a6a3b301b45d8b005230878ab7b0c\") {\n",
       "      outputDiv = document.getElementById(\"altair-viz-f91a6a3b301b45d8b005230878ab7b0c\");\n",
       "    }\n",
       "    const paths = {\n",
       "      \"vega\": \"https://cdn.jsdelivr.net/npm/vega@5?noext\",\n",
       "      \"vega-lib\": \"https://cdn.jsdelivr.net/npm/vega-lib?noext\",\n",
       "      \"vega-lite\": \"https://cdn.jsdelivr.net/npm/vega-lite@5.8.0?noext\",\n",
       "      \"vega-embed\": \"https://cdn.jsdelivr.net/npm/vega-embed@6?noext\",\n",
       "    };\n",
       "\n",
       "    function maybeLoadScript(lib, version) {\n",
       "      var key = `${lib.replace(\"-\", \"\")}_version`;\n",
       "      return (VEGA_DEBUG[key] == version) ?\n",
       "        Promise.resolve(paths[lib]) :\n",
       "        new Promise(function(resolve, reject) {\n",
       "          var s = document.createElement('script');\n",
       "          document.getElementsByTagName(\"head\")[0].appendChild(s);\n",
       "          s.async = true;\n",
       "          s.onload = () => {\n",
       "            VEGA_DEBUG[key] = version;\n",
       "            return resolve(paths[lib]);\n",
       "          };\n",
       "          s.onerror = () => reject(`Error loading script: ${paths[lib]}`);\n",
       "          s.src = paths[lib];\n",
       "        });\n",
       "    }\n",
       "\n",
       "    function showError(err) {\n",
       "      outputDiv.innerHTML = `<div class=\"error\" style=\"color:red;\">${err}</div>`;\n",
       "      throw err;\n",
       "    }\n",
       "\n",
       "    function displayChart(vegaEmbed) {\n",
       "      vegaEmbed(outputDiv, spec, embedOpt)\n",
       "        .catch(err => showError(`Javascript Error: ${err.message}<br>This usually means there's a typo in your chart specification. See the javascript console for the full traceback.`));\n",
       "    }\n",
       "\n",
       "    if(typeof define === \"function\" && define.amd) {\n",
       "      requirejs.config({paths});\n",
       "      require([\"vega-embed\"], displayChart, err => showError(`Error loading script: ${err.message}`));\n",
       "    } else {\n",
       "      maybeLoadScript(\"vega\", \"5\")\n",
       "        .then(() => maybeLoadScript(\"vega-lite\", \"5.8.0\"))\n",
       "        .then(() => maybeLoadScript(\"vega-embed\", \"6\"))\n",
       "        .catch(showError)\n",
       "        .then(() => displayChart(vegaEmbed));\n",
       "    }\n",
       "  })({\"config\": {\"view\": {\"continuousWidth\": 300, \"continuousHeight\": 300}}, \"data\": {\"name\": \"data-d0464677c30141e3ef317b22564698f8\"}, \"mark\": {\"type\": \"bar\"}, \"encoding\": {\"x\": {\"field\": \"count\", \"type\": \"quantitative\"}, \"y\": {\"field\": \"name\", \"sort\": \"-x\", \"type\": \"ordinal\"}}, \"height\": 440, \"title\": \"2010\\u81f32022\\u5229\\u6da6\\u989d\\u524d\\u5341\\u4e0a\\u699c\\u6b21\\u6570\\u7edf\\u8ba1\", \"width\": \"container\", \"$schema\": \"https://vega.github.io/schema/vega-lite/v5.8.0.json\", \"datasets\": {\"data-d0464677c30141e3ef317b22564698f8\": [{\"name\": \"\\u5de5\\u5546\\u94f6\\u884c\", \"count\": 13}, {\"name\": \"\\u519c\\u4e1a\\u94f6\\u884c\", \"count\": 13}, {\"name\": \"\\u4ea4\\u901a\\u94f6\\u884c\", \"count\": 13}, {\"name\": \"\\u62db\\u5546\\u94f6\\u884c\", \"count\": 13}, {\"name\": \"\\u4e2d\\u56fd\\u94f6\\u884c\", \"count\": 13}, {\"name\": \"\\u5efa\\u8bbe\\u94f6\\u884c\", \"count\": 13}, {\"name\": \"\\u5174\\u4e1a\\u94f6\\u884c\", \"count\": 8}, {\"name\": \"\\u4e2d\\u56fd\\u77f3\\u5316\", \"count\": 7}, {\"name\": \"\\u4e2d\\u56fd\\u77f3\\u6cb9\", \"count\": 7}, {\"name\": \"\\u6d66\\u53d1\\u94f6\\u884c\", \"count\": 7}, {\"name\": \"\\u4e2d\\u56fd\\u5e73\\u5b89\", \"count\": 7}, {\"name\": \"\\u4e2d\\u56fd\\u795e\\u534e\", \"count\": 4}, {\"name\": \"\\u6c11\\u751f\\u94f6\\u884c\", \"count\": 4}, {\"name\": \"\\u90ae\\u50a8\\u94f6\\u884c\", \"count\": 2}, {\"name\": \"\\u4e2d\\u8fdc\\u6d77\\u63a7\", \"count\": 2}, {\"name\": \"\\u4e2d\\u56fd\\u4eba\\u5bff\", \"count\": 1}, {\"name\": \"\\u4e2d\\u4fe1\\u94f6\\u884c\", \"count\": 1}, {\"name\": \"\\u4e2d\\u56fd\\u6d77\\u6cb9\", \"count\": 1}, {\"name\": \"\\u4e2d\\u56fd\\u79fb\\u52a8\", \"count\": 1}]}}, {\"mode\": \"vega-lite\"});\n",
       "</script>"
      ],
      "text/plain": [
       "alt.Chart(...)"
      ]
     },
     "execution_count": 25,
     "metadata": {},
     "output_type": "execute_result"
    }
   ],
   "source": [
    "# 先按年份和利润额排列，然后取每年的前10名。\n",
    "top10 = sel.sort_values(by=['year', 'profit'], ascending=[True, False]).groupby('year', as_index=False).nth[:10]['name'].value_counts().to_frame('count').reset_index()\n",
    "\n",
    "alt.Chart(top10).mark_bar().encode(\n",
    "    alt.X('count:Q'),\n",
    "    alt.Y('name:O').sort('-x'),\n",
    ").properties(\n",
    "    title = '2010至2022利润额前十上榜次数统计',\n",
    "    width = 'container',\n",
    "    height = 440\n",
    ")"
   ]
  },
  {
   "attachments": {},
   "cell_type": "markdown",
   "metadata": {},
   "source": [
    "- 每年都上榜的有6家，全是银行。而且，工商银行每年都是冠军。\n",
    "- 上榜的共有19家公司，银行占了11家，如果把平安和人寿算进去，金融占了13家。\n",
    "- 4家资源性公司，三桶油加一个煤炭。\n",
    "- 1家交通运输企业，中远海控。应该就是2021年疫情上的榜。世事无常，它还曾夺过亏损冠军。\n",
    "- 1家高科技企业，中国移动。"
   ]
  },
  {
   "cell_type": "code",
   "execution_count": 26,
   "metadata": {
    "tags": [
     "remove-input"
    ]
   },
   "outputs": [
    {
     "data": {
      "text/html": [
       "\n",
       "<style>\n",
       "  #altair-viz-9b95ca0fc16f4693be036de71944fe3e.vega-embed {\n",
       "    width: 100%;\n",
       "    display: flex;\n",
       "  }\n",
       "\n",
       "  #altair-viz-9b95ca0fc16f4693be036de71944fe3e.vega-embed details,\n",
       "  #altair-viz-9b95ca0fc16f4693be036de71944fe3e.vega-embed details summary {\n",
       "    position: relative;\n",
       "  }\n",
       "</style>\n",
       "<div id=\"altair-viz-9b95ca0fc16f4693be036de71944fe3e\"></div>\n",
       "<script type=\"text/javascript\">\n",
       "  var VEGA_DEBUG = (typeof VEGA_DEBUG == \"undefined\") ? {} : VEGA_DEBUG;\n",
       "  (function(spec, embedOpt){\n",
       "    let outputDiv = document.currentScript.previousElementSibling;\n",
       "    if (outputDiv.id !== \"altair-viz-9b95ca0fc16f4693be036de71944fe3e\") {\n",
       "      outputDiv = document.getElementById(\"altair-viz-9b95ca0fc16f4693be036de71944fe3e\");\n",
       "    }\n",
       "    const paths = {\n",
       "      \"vega\": \"https://cdn.jsdelivr.net/npm/vega@5?noext\",\n",
       "      \"vega-lib\": \"https://cdn.jsdelivr.net/npm/vega-lib?noext\",\n",
       "      \"vega-lite\": \"https://cdn.jsdelivr.net/npm/vega-lite@5.8.0?noext\",\n",
       "      \"vega-embed\": \"https://cdn.jsdelivr.net/npm/vega-embed@6?noext\",\n",
       "    };\n",
       "\n",
       "    function maybeLoadScript(lib, version) {\n",
       "      var key = `${lib.replace(\"-\", \"\")}_version`;\n",
       "      return (VEGA_DEBUG[key] == version) ?\n",
       "        Promise.resolve(paths[lib]) :\n",
       "        new Promise(function(resolve, reject) {\n",
       "          var s = document.createElement('script');\n",
       "          document.getElementsByTagName(\"head\")[0].appendChild(s);\n",
       "          s.async = true;\n",
       "          s.onload = () => {\n",
       "            VEGA_DEBUG[key] = version;\n",
       "            return resolve(paths[lib]);\n",
       "          };\n",
       "          s.onerror = () => reject(`Error loading script: ${paths[lib]}`);\n",
       "          s.src = paths[lib];\n",
       "        });\n",
       "    }\n",
       "\n",
       "    function showError(err) {\n",
       "      outputDiv.innerHTML = `<div class=\"error\" style=\"color:red;\">${err}</div>`;\n",
       "      throw err;\n",
       "    }\n",
       "\n",
       "    function displayChart(vegaEmbed) {\n",
       "      vegaEmbed(outputDiv, spec, embedOpt)\n",
       "        .catch(err => showError(`Javascript Error: ${err.message}<br>This usually means there's a typo in your chart specification. See the javascript console for the full traceback.`));\n",
       "    }\n",
       "\n",
       "    if(typeof define === \"function\" && define.amd) {\n",
       "      requirejs.config({paths});\n",
       "      require([\"vega-embed\"], displayChart, err => showError(`Error loading script: ${err.message}`));\n",
       "    } else {\n",
       "      maybeLoadScript(\"vega\", \"5\")\n",
       "        .then(() => maybeLoadScript(\"vega-lite\", \"5.8.0\"))\n",
       "        .then(() => maybeLoadScript(\"vega-embed\", \"6\"))\n",
       "        .catch(showError)\n",
       "        .then(() => displayChart(vegaEmbed));\n",
       "    }\n",
       "  })({\"config\": {\"view\": {\"continuousWidth\": 300, \"continuousHeight\": 300}}, \"data\": {\"name\": \"data-ff3c8503dd55bc2b2bbdcdd3a949a7a7\"}, \"mark\": {\"type\": \"bar\"}, \"encoding\": {\"x\": {\"aggregate\": \"count\", \"type\": \"quantitative\"}, \"y\": {\"bin\": {\"step\": 20}, \"field\": \"counts\", \"type\": \"quantitative\"}}, \"height\": 400, \"width\": \"container\", \"$schema\": \"https://vega.github.io/schema/vega-lite/v5.8.0.json\", \"datasets\": {\"data-ff3c8503dd55bc2b2bbdcdd3a949a7a7\": [{\"indu\": \"\\u4fdd\\u9669\", \"counts\": 6}, {\"indu\": \"\\u8d35\\u91d1\\u5c5e\", \"counts\": 11}, {\"indu\": \"\\u80fd\\u6e90\\u91d1\\u5c5e\", \"counts\": 11}, {\"indu\": \"\\u8239\\u8236\\u5236\\u9020\", \"counts\": 11}, {\"indu\": \"\\u822a\\u7a7a\\u673a\\u573a\", \"counts\": 14}, {\"indu\": \"\\u6c7d\\u8f66\\u670d\\u52a1\", \"counts\": 15}, {\"indu\": \"\\u623f\\u5730\\u4ea7\\u670d\\u52a1\", \"counts\": 17}, {\"indu\": \"\\u73e0\\u5b9d\\u9996\\u9970\", \"counts\": 17}, {\"indu\": \"\\u91c7\\u6398\\u884c\\u4e1a\", \"counts\": 19}, {\"indu\": \"\\u98ce\\u7535\\u8bbe\\u5907\", \"counts\": 20}, {\"indu\": \"\\u6559\\u80b2\", \"counts\": 20}, {\"indu\": \"\\u77f3\\u6cb9\\u884c\\u4e1a\", \"counts\": 20}, {\"indu\": \"\\u7535\\u5b50\\u5316\\u5b66\\u54c1\", \"counts\": 21}, {\"indu\": \"\\u516c\\u7528\\u4e8b\\u4e1a\", \"counts\": 22}, {\"indu\": \"\\u73bb\\u7483\\u73bb\\u7ea4\", \"counts\": 23}, {\"indu\": \"\\u7535\\u673a\", \"counts\": 23}, {\"indu\": \"\\u5316\\u80a5\\u884c\\u4e1a\", \"counts\": 24}, {\"indu\": \"\\u7efc\\u5408\\u884c\\u4e1a\", \"counts\": 24}, {\"indu\": \"\\u6c7d\\u8f66\\u6574\\u8f66\", \"counts\": 24}, {\"indu\": \"\\u591a\\u5143\\u91d1\\u878d\", \"counts\": 25}, {\"indu\": \"\\u7535\\u6e90\\u8bbe\\u5907\", \"counts\": 27}, {\"indu\": \"\\u5bb6\\u7528\\u8f7b\\u5de5\", \"counts\": 27}, {\"indu\": \"\\u975e\\u91d1\\u5c5e\\u6750\\u6599\", \"counts\": 28}, {\"indu\": \"\\u7f8e\\u5bb9\\u62a4\\u7406\", \"counts\": 28}, {\"indu\": \"\\u6e38\\u620f\", \"counts\": 29}, {\"indu\": \"\\u5316\\u7ea4\\u884c\\u4e1a\", \"counts\": 29}, {\"indu\": \"\\u6a61\\u80f6\\u5236\\u54c1\", \"counts\": 30}, {\"indu\": \"\\u5305\\u88c5\\u6750\\u6599\", \"counts\": 30}, {\"indu\": \"\\u94c1\\u8def\\u516c\\u8def\", \"counts\": 31}, {\"indu\": \"\\u533b\\u836f\\u5546\\u4e1a\", \"counts\": 31}, {\"indu\": \"\\u6c34\\u6ce5\\u5efa\\u6750\", \"counts\": 32}, {\"indu\": \"\\u71c3\\u6c14\", \"counts\": 32}, {\"indu\": \"\\u4e13\\u4e1a\\u670d\\u52a1\", \"counts\": 33}, {\"indu\": \"\\u5de5\\u7a0b\\u673a\\u68b0\", \"counts\": 33}, {\"indu\": \"\\u65c5\\u6e38\\u9152\\u5e97\", \"counts\": 34}, {\"indu\": \"\\u9020\\u7eb8\\u5370\\u5237\", \"counts\": 35}, {\"indu\": \"\\u7164\\u70ad\\u884c\\u4e1a\", \"counts\": 36}, {\"indu\": \"\\u822a\\u5929\\u822a\\u7a7a\", \"counts\": 37}, {\"indu\": \"\\u822a\\u8fd0\\u6e2f\\u53e3\", \"counts\": 37}, {\"indu\": \"\\u8d38\\u6613\\u884c\\u4e1a\", \"counts\": 38}, {\"indu\": \"\\u5c0f\\u91d1\\u5c5e\", \"counts\": 39}, {\"indu\": \"\\u901a\\u4fe1\\u670d\\u52a1\", \"counts\": 40}, {\"indu\": \"\\u917f\\u9152\\u884c\\u4e1a\", \"counts\": 40}, {\"indu\": \"\\u94f6\\u884c\", \"counts\": 42}, {\"indu\": \"\\u5de5\\u7a0b\\u54a8\\u8be2\\u670d\\u52a1\", \"counts\": 42}, {\"indu\": \"\\u533b\\u7597\\u670d\\u52a1\", \"counts\": 43}, {\"indu\": \"\\u519c\\u836f\\u517d\\u836f\", \"counts\": 46}, {\"indu\": \"\\u88c5\\u4fee\\u88c5\\u9970\", \"counts\": 47}, {\"indu\": \"\\u5149\\u4f0f\\u8bbe\\u5907\", \"counts\": 48}, {\"indu\": \"\\u94a2\\u94c1\\u884c\\u4e1a\", \"counts\": 50}, {\"indu\": \"\\u8bc1\\u5238\", \"counts\": 50}, {\"indu\": \"\\u8ba1\\u7b97\\u673a\\u8bbe\\u5907\", \"counts\": 51}, {\"indu\": \"\\u4ea4\\u8fd0\\u8bbe\\u5907\", \"counts\": 51}, {\"indu\": \"\\u7535\\u6c60\", \"counts\": 54}, {\"indu\": \"\\u7269\\u6d41\\u884c\\u4e1a\", \"counts\": 57}, {\"indu\": \"\\u4eea\\u5668\\u4eea\\u8868\", \"counts\": 62}, {\"indu\": \"\\u751f\\u7269\\u5236\\u54c1\", \"counts\": 68}, {\"indu\": \"\\u5546\\u4e1a\\u767e\\u8d27\", \"counts\": 68}, {\"indu\": \"\\u88c5\\u4fee\\u5efa\\u6750\", \"counts\": 71}, {\"indu\": \"\\u5de5\\u7a0b\\u5efa\\u8bbe\", \"counts\": 73}, {\"indu\": \"\\u4e2d\\u836f\", \"counts\": 73}, {\"indu\": \"\\u6709\\u8272\\u91d1\\u5c5e\", \"counts\": 75}, {\"indu\": \"\\u5316\\u5b66\\u539f\\u6599\", \"counts\": 79}, {\"indu\": \"\\u519c\\u7267\\u9972\\u6e14\", \"counts\": 80}, {\"indu\": \"\\u5851\\u6599\\u5236\\u54c1\", \"counts\": 81}, {\"indu\": \"\\u7535\\u529b\\u884c\\u4e1a\", \"counts\": 83}, {\"indu\": \"\\u6d88\\u8d39\\u7535\\u5b50\", \"counts\": 92}, {\"indu\": \"\\u5bb6\\u7535\\u884c\\u4e1a\", \"counts\": 92}, {\"indu\": \"\\u5149\\u5b66\\u5149\\u7535\\u5b50\", \"counts\": 100}, {\"indu\": \"\\u7eba\\u7ec7\\u670d\\u88c5\", \"counts\": 106}, {\"indu\": \"\\u901a\\u4fe1\\u8bbe\\u5907\", \"counts\": 108}, {\"indu\": \"\\u6587\\u5316\\u4f20\\u5a92\", \"counts\": 111}, {\"indu\": \"\\u623f\\u5730\\u4ea7\\u5f00\\u53d1\", \"counts\": 111}, {\"indu\": \"\\u533b\\u7597\\u5668\\u68b0\", \"counts\": 119}, {\"indu\": \"\\u73af\\u4fdd\\u884c\\u4e1a\", \"counts\": 120}, {\"indu\": \"\\u98df\\u54c1\\u996e\\u6599\", \"counts\": 122}, {\"indu\": \"\\u7535\\u7f51\\u8bbe\\u5907\", \"counts\": 132}, {\"indu\": \"\\u7535\\u5b50\\u5143\\u4ef6\", \"counts\": 135}, {\"indu\": \"\\u534a\\u5bfc\\u4f53\", \"counts\": 143}, {\"indu\": \"\\u5316\\u5b66\\u5236\\u836f\", \"counts\": 144}, {\"indu\": \"\\u4e92\\u8054\\u7f51\\u670d\\u52a1\", \"counts\": 145}, {\"indu\": \"\\u5316\\u5b66\\u5236\\u54c1\", \"counts\": 153}, {\"indu\": \"\\u8f6f\\u4ef6\\u5f00\\u53d1\", \"counts\": 182}, {\"indu\": \"\\u901a\\u7528\\u8bbe\\u5907\", \"counts\": 199}, {\"indu\": \"\\u6c7d\\u8f66\\u96f6\\u90e8\\u4ef6\", \"counts\": 204}, {\"indu\": \"\\u4e13\\u7528\\u8bbe\\u5907\", \"counts\": 245}]}}, {\"mode\": \"vega-lite\"});\n",
       "</script>"
      ],
      "text/plain": [
       "alt.Chart(...)"
      ]
     },
     "execution_count": 26,
     "metadata": {},
     "output_type": "execute_result"
    }
   ],
   "source": [
    "indu_counts = indu.groupby('indu')['code'].count().sort_values().to_frame('counts').reset_index()\n",
    "alt.Chart(indu_counts).mark_bar().encode(\n",
    "    alt.Y('counts:Q').bin(step = 20),\n",
    "    alt.X('count()')\n",
    ").properties(\n",
    "    width='container',\n",
    "    height=400\n",
    ")"
   ]
  },
  {
   "cell_type": "code",
   "execution_count": null,
   "metadata": {},
   "outputs": [],
   "source": []
  }
 ],
 "metadata": {
  "kernelspec": {
   "display_name": ".venv",
   "language": "python",
   "name": "python3"
  },
  "language_info": {
   "codemirror_mode": {
    "name": "ipython",
    "version": 3
   },
   "file_extension": ".py",
   "mimetype": "text/x-python",
   "name": "python",
   "nbconvert_exporter": "python",
   "pygments_lexer": "ipython3",
   "version": "3.12.3"
  }
 },
 "nbformat": 4,
 "nbformat_minor": 2
}